{
 "cells": [
  {
   "cell_type": "markdown",
   "id": "dc083c80",
   "metadata": {},
   "source": [
    "# Importing Packages "
   ]
  },
  {
   "cell_type": "code",
   "execution_count": null,
   "id": "1cf791c6",
   "metadata": {},
   "outputs": [],
   "source": []
  },
  {
   "cell_type": "code",
   "execution_count": 1,
   "id": "8313b9d5",
   "metadata": {},
   "outputs": [
    {
     "name": "stdout",
     "output_type": "stream",
     "text": [
      "/home/chiangwe/anaconda3/envs/NetHawkes/bin/python\n"
     ]
    }
   ],
   "source": [
    "#============ Importing Packages ============# \n",
    "\n",
    "#--------- Drawing Packages ---------#\n",
    "\n",
    "import matplotlib as mpl\n",
    "import matplotlib.pyplot as plt\n",
    "import seaborn as sns\n",
    "from matplotlib.ticker import (MultipleLocator, FormatStrFormatter, AutoMinorLocator, NullFormatter, LogLocator)\n",
    "from set_size import set_size\n",
    "from collections import Counter\n",
    "\n",
    "#--------- Tensorflow Packages ---------#\n",
    "import tensorflow as tf\n",
    "import tensorflow_hub as hub\n",
    "import tensorflow_datasets as tfds\n",
    "from sklearn.model_selection import train_test_split\n",
    "from tensorflow.keras import Sequential\n",
    "from tensorflow.keras.layers import Dense, Dropout\n",
    "from sklearn.metrics import f1_score\n",
    "from sklearn.utils import class_weight\n",
    "from tensorflow.keras.metrics import Metric\n",
    "from sklearn.metrics import balanced_accuracy_score\n",
    "\n",
    "#============== Packages for word2vec ==============#\n",
    "from sklearn.feature_extraction.text import CountVectorizer, TfidfTransformer\n",
    "\n",
    "#============== Packages for classification ==============#\n",
    "from sklearn.linear_model import LinearRegression, PoissonRegressor\n",
    "from sklearn.preprocessing import normalize\n",
    "from sklearn.model_selection import KFold\n",
    "from sklearn.linear_model import LogisticRegression\n",
    "from sklearn.metrics import balanced_accuracy_score\n",
    "from sklearn.svm import SVC\n",
    "\n",
    "#--------- Utilities Packages ---------#\n",
    "\n",
    "import sys\n",
    "print(sys.executable)\n",
    "import os\n",
    "import re\n",
    "import pdb\n",
    "import shelve\n",
    "import pandas as pd\n",
    "import numpy as np\n",
    "from scipy.sparse import csr_matrix, hstack\n",
    "from tqdm import tqdm\n",
    "from sklearn.utils import class_weight\n",
    "import enchant\n",
    "\n",
    "import nltk\n",
    "import obspy\n",
    "\n",
    "#nltk.download('wordnet')\n",
    "#nltk.download('stopwords')\n",
    "#nltk.download('word_tokenize')\n",
    "from nltk.corpus import stopwords \n",
    "from nltk.tokenize import word_tokenize \n",
    "from nltk.corpus import words as dict_w\n",
    "from nltk.stem.porter import PorterStemmer\n",
    "\n",
    "# Scipy Signal\n",
    "from scipy import signal\n",
    "\n",
    "# Detrend the Signal\n",
    "from obspy.signal.detrend import polynomial\n",
    "\n",
    "#--------- Remove Warnings ---------#\n",
    "import warnings\n",
    "warnings.filterwarnings(\"ignore\")\n"
   ]
  },
  {
   "cell_type": "code",
   "execution_count": null,
   "id": "6eeaf75f",
   "metadata": {},
   "outputs": [],
   "source": []
  },
  {
   "cell_type": "code",
   "execution_count": 4,
   "id": "c1c40373",
   "metadata": {},
   "outputs": [],
   "source": [
    "#========= Read in =========#\n",
    "\n",
    "df = pd.read_csv('Eluvio_DS_Challenge_processes.csv')\n",
    "#display( df.sort_values('up_votes', ascending=False).head(5)['title'].values )\n",
    "\n",
    "class_weights = class_weight.compute_class_weight('balanced',  np.unique(df['label']), df['label'])\n",
    "class_weights = dict(zip( np.unique(df['label']), class_weights))\n",
    "\n",
    "\n",
    "df = df[ df['title_clean'].apply(lambda x: type(x)==str) ] \n",
    "y_true = df['label']\n",
    "\n",
    "embed = hub.load(\"https://tfhub.dev/google/nnlm-en-dim50/2\")\n",
    "X_train_in = embed(df['title'].values).numpy()\n"
   ]
  },
  {
   "cell_type": "code",
   "execution_count": 3,
   "id": "6d71531a",
   "metadata": {},
   "outputs": [],
   "source": [
    "from sklearn.cluster import MiniBatchKMeans\n",
    "\n",
    "X_in = np.hstack((X_train_in, np.expand_dims(df['up_votes'].values, axis= 1)))\n",
    "X_in = (X_in-X_in.mean(0))/X_in.std(0)\n",
    "\n",
    "labels = []; indexs = []\n",
    "\n",
    "for cls_first in [3, 5, 10]:\n",
    "    \n",
    "    kmeans_first  = MiniBatchKMeans(n_clusters=cls_first,random_state=0,batch_size=30)\n",
    "    kmeans_first = kmeans_first.partial_fit( X_in )\n",
    "    k_first = kmeans_first.labels_;\n",
    "    \n",
    "    for cls_second in [5, 10, 15, 20]: \n",
    "        tol_label = []; tol_index = []\n",
    "        \n",
    "        for k_iter in range(0, cls_first):\n",
    "            \n",
    "            indx_level_01 = np.where(k_first==k_iter)[0]\n",
    "            X_in_sec = X_in[ indx_level_01, : ]\n",
    "            \n",
    "            kmeans   = MiniBatchKMeans(n_clusters=cls_second,random_state=0,batch_size=30)\n",
    "            kmeans   = kmeans.partial_fit( X_in_sec )\n",
    "            k_second = kmeans.labels_;\n",
    "            k_second = k_second + k_iter*cls_second;\n",
    "            \n",
    "            tol_index.append( indx_level_01 )\n",
    "            tol_label.append( k_second )\n",
    "            \n",
    "        tol_index = np.hstack(tol_index)\n",
    "        tol_label = np.hstack(tol_label)\n",
    "        \n",
    "        labels.append(tol_label); \n",
    "        indexs.append(tol_index); \n"
   ]
  },
  {
   "cell_type": "code",
   "execution_count": 4,
   "id": "ee3bce02",
   "metadata": {},
   "outputs": [
    {
     "name": "stderr",
     "output_type": "stream",
     "text": [
      "12it [00:18,  1.57s/it]"
     ]
    },
    {
     "name": "stdout",
     "output_type": "stream",
     "text": [
      "[(14, 0.011434581397000184, 89.026092706208019, 4.5126414748791435), (29, 0.0079000812757269289, 53.614150846601866, 4.4336089639381173), (44, 0.0068533446191635025, 41.39692825677858, 4.1110428059394701), (59, 0.0052345610005762695, 33.629888232220573, 4.0302870742552672), (24, 0.010491227858676842, 61.106836686042925, 4.4303794339745748), (49, 0.0047558711441782068, 36.736467908510271, 4.2747745992100548), (74, 0.0011326893273863818, 27.446613185974371, 3.9993030975187143), (99, 0.00014627825718759317, 22.556105444807812, 3.8111494242727826), (49, 0.0055025765403495727, 37.705510941795914, 4.4141563478144095), (99, -0.00037764998102641909, 22.280616317203812, 3.973504298210067), (149, -0.0036075296416892486, 16.532712838342636, 3.7551781658338528), (199, -0.0076030351310891935, 13.475033681457168, 3.5572171165444986)]\n"
     ]
    },
    {
     "name": "stderr",
     "output_type": "stream",
     "text": [
      "\n"
     ]
    }
   ],
   "source": [
    "from sklearn.metrics import silhouette_score, calinski_harabasz_score, davies_bouldin_score\n",
    "\n",
    "score = [];\n",
    "\n",
    "\n",
    "for each_label, each_index in tqdm( zip(labels, indexs) ):\n",
    "    X_re = X_in[each_index, :];\n",
    "    n_cls = np.max(each_label)\n",
    "    \n",
    "    df_label = pd.DataFrame(each_label, columns=['label'])\n",
    "    df_label['idx'] = df_label.index\n",
    "    \n",
    "    ls_silh=[]; ls_cal=[]; ls_dav=[];\n",
    "    for itr in range(0, 3):\n",
    "        df_sample = df_label.groupby('label').sample(frac=0.01, random_state=itr)\n",
    "    \n",
    "        same_idx = df_sample['idx'].values;\n",
    "        same_label = df_sample['label'].values\n",
    "    \n",
    "        silh = silhouette_score( X_re[same_idx, :], same_label)\n",
    "        cal = calinski_harabasz_score( X_re[same_idx, :], same_label)\n",
    "        dav = davies_bouldin_score( X_re[same_idx, :], same_label)\n",
    "        \n",
    "        ls_silh.append(silh); ls_cal.append(cal); ls_dav.append(dav)\n",
    "    score.append( (n_cls, np.mean(ls_silh), np.mean(ls_cal), np.mean(ls_dav)) )\n",
    "\n",
    "print(score)\n"
   ]
  },
  {
   "cell_type": "code",
   "execution_count": null,
   "id": "6e7d6b32",
   "metadata": {},
   "outputs": [],
   "source": []
  },
  {
   "cell_type": "code",
   "execution_count": 5,
   "id": "ee75438e",
   "metadata": {},
   "outputs": [
    {
     "data": {
      "text/html": [
       "<div>\n",
       "<style scoped>\n",
       "    .dataframe tbody tr th:only-of-type {\n",
       "        vertical-align: middle;\n",
       "    }\n",
       "\n",
       "    .dataframe tbody tr th {\n",
       "        vertical-align: top;\n",
       "    }\n",
       "\n",
       "    .dataframe thead th {\n",
       "        text-align: right;\n",
       "    }\n",
       "</style>\n",
       "<table border=\"1\" class=\"dataframe\">\n",
       "  <thead>\n",
       "    <tr style=\"text-align: right;\">\n",
       "      <th></th>\n",
       "      <th>ncls</th>\n",
       "      <th>silh</th>\n",
       "      <th>cal</th>\n",
       "      <th>dav</th>\n",
       "      <th>method</th>\n",
       "    </tr>\n",
       "  </thead>\n",
       "  <tbody>\n",
       "    <tr>\n",
       "      <th>0</th>\n",
       "      <td>14</td>\n",
       "      <td>0.011435</td>\n",
       "      <td>89.026093</td>\n",
       "      <td>4.512641</td>\n",
       "      <td>Emb_nnlm</td>\n",
       "    </tr>\n",
       "    <tr>\n",
       "      <th>1</th>\n",
       "      <td>29</td>\n",
       "      <td>0.007900</td>\n",
       "      <td>53.614151</td>\n",
       "      <td>4.433609</td>\n",
       "      <td>Emb_nnlm</td>\n",
       "    </tr>\n",
       "    <tr>\n",
       "      <th>2</th>\n",
       "      <td>44</td>\n",
       "      <td>0.006853</td>\n",
       "      <td>41.396928</td>\n",
       "      <td>4.111043</td>\n",
       "      <td>Emb_nnlm</td>\n",
       "    </tr>\n",
       "    <tr>\n",
       "      <th>3</th>\n",
       "      <td>59</td>\n",
       "      <td>0.005235</td>\n",
       "      <td>33.629888</td>\n",
       "      <td>4.030287</td>\n",
       "      <td>Emb_nnlm</td>\n",
       "    </tr>\n",
       "    <tr>\n",
       "      <th>4</th>\n",
       "      <td>24</td>\n",
       "      <td>0.010491</td>\n",
       "      <td>61.106837</td>\n",
       "      <td>4.430379</td>\n",
       "      <td>Emb_nnlm</td>\n",
       "    </tr>\n",
       "    <tr>\n",
       "      <th>5</th>\n",
       "      <td>49</td>\n",
       "      <td>0.004756</td>\n",
       "      <td>36.736468</td>\n",
       "      <td>4.274775</td>\n",
       "      <td>Emb_nnlm</td>\n",
       "    </tr>\n",
       "    <tr>\n",
       "      <th>6</th>\n",
       "      <td>74</td>\n",
       "      <td>0.001133</td>\n",
       "      <td>27.446613</td>\n",
       "      <td>3.999303</td>\n",
       "      <td>Emb_nnlm</td>\n",
       "    </tr>\n",
       "    <tr>\n",
       "      <th>7</th>\n",
       "      <td>99</td>\n",
       "      <td>0.000146</td>\n",
       "      <td>22.556105</td>\n",
       "      <td>3.811149</td>\n",
       "      <td>Emb_nnlm</td>\n",
       "    </tr>\n",
       "    <tr>\n",
       "      <th>8</th>\n",
       "      <td>49</td>\n",
       "      <td>0.005503</td>\n",
       "      <td>37.705511</td>\n",
       "      <td>4.414156</td>\n",
       "      <td>Emb_nnlm</td>\n",
       "    </tr>\n",
       "    <tr>\n",
       "      <th>9</th>\n",
       "      <td>99</td>\n",
       "      <td>-0.000378</td>\n",
       "      <td>22.280616</td>\n",
       "      <td>3.973504</td>\n",
       "      <td>Emb_nnlm</td>\n",
       "    </tr>\n",
       "    <tr>\n",
       "      <th>10</th>\n",
       "      <td>149</td>\n",
       "      <td>-0.003608</td>\n",
       "      <td>16.532713</td>\n",
       "      <td>3.755178</td>\n",
       "      <td>Emb_nnlm</td>\n",
       "    </tr>\n",
       "    <tr>\n",
       "      <th>11</th>\n",
       "      <td>199</td>\n",
       "      <td>-0.007603</td>\n",
       "      <td>13.475034</td>\n",
       "      <td>3.557217</td>\n",
       "      <td>Emb_nnlm</td>\n",
       "    </tr>\n",
       "  </tbody>\n",
       "</table>\n",
       "</div>"
      ],
      "text/plain": [
       "    ncls      silh        cal       dav    method\n",
       "0     14  0.011435  89.026093  4.512641  Emb_nnlm\n",
       "1     29  0.007900  53.614151  4.433609  Emb_nnlm\n",
       "2     44  0.006853  41.396928  4.111043  Emb_nnlm\n",
       "3     59  0.005235  33.629888  4.030287  Emb_nnlm\n",
       "4     24  0.010491  61.106837  4.430379  Emb_nnlm\n",
       "5     49  0.004756  36.736468  4.274775  Emb_nnlm\n",
       "6     74  0.001133  27.446613  3.999303  Emb_nnlm\n",
       "7     99  0.000146  22.556105  3.811149  Emb_nnlm\n",
       "8     49  0.005503  37.705511  4.414156  Emb_nnlm\n",
       "9     99 -0.000378  22.280616  3.973504  Emb_nnlm\n",
       "10   149 -0.003608  16.532713  3.755178  Emb_nnlm\n",
       "11   199 -0.007603  13.475034  3.557217  Emb_nnlm"
      ]
     },
     "metadata": {},
     "output_type": "display_data"
    }
   ],
   "source": [
    "score = pd.DataFrame(score, columns=['ncls', 'silh','cal','dav'])\n",
    "score['method'] = 'Emb_nnlm'\n",
    "display(score)\n",
    "score.to_csv('score_Emb_nnlm.csv', index=False)"
   ]
  },
  {
   "cell_type": "code",
   "execution_count": 5,
   "id": "ef3a13a9",
   "metadata": {},
   "outputs": [],
   "source": [
    "## USE HOSTLGRAM\n",
    "\n",
    "#========= TDIDF =========#\n",
    "\n",
    "#print(  df['title_clean'].apply(lambda x: type(x)!=str ).sum()  )\n",
    "bow_converter = CountVectorizer()\n",
    "x = bow_converter.fit_transform(df['title_clean'])\n",
    "\n",
    "words = bow_converter.get_feature_names()\n",
    "\n",
    "bigram_converter = CountVectorizer(tokenizer=lambda doc: doc, ngram_range=[2,2]) \n",
    "trigram_converter = CountVectorizer(tokenizer=lambda doc: doc, ngram_range=[3,3])\n",
    "\n",
    "tfidf_transform = TfidfTransformer(norm=None)\n",
    "X_tfidf = tfidf_transform.fit_transform(x)\n",
    "\n",
    "X_tfidf = normalize(X_tfidf,axis=1)\n",
    "\n",
    "#========= ===  =========#\n"
   ]
  },
  {
   "cell_type": "code",
   "execution_count": 6,
   "id": "963f835a",
   "metadata": {},
   "outputs": [],
   "source": [
    "from sklearn.cluster import MiniBatchKMeans\n",
    "\n",
    "X_in = np.hstack((X_train_in, np.expand_dims(df['up_votes'].values, axis= 1)))\n",
    "X_in = (X_in-X_in.mean(0))/X_in.std(0)\n",
    "\n",
    "labels = []; indexs = []\n",
    "\n",
    "for cls_first in [3, 5, 10]:\n",
    "    \n",
    "    kmeans_first  = MiniBatchKMeans(n_clusters=cls_first,random_state=0,batch_size=3)\n",
    "    kmeans_first = kmeans_first.partial_fit( X_in )\n",
    "    k_first = kmeans_first.labels_;\n",
    "    \n",
    "    for cls_second in [5, 10, 15, 20]: \n",
    "        tol_label = []; tol_index = []\n",
    "        \n",
    "        for k_iter in range(0, cls_first):\n",
    "            \n",
    "            indx_level_01 = np.where(k_first==k_iter)[0]\n",
    "            X_in_sec = X_in[ indx_level_01, : ]\n",
    "            \n",
    "            kmeans   = MiniBatchKMeans(n_clusters=cls_second,random_state=0,batch_size=30)\n",
    "            kmeans   = kmeans.partial_fit( X_in_sec )\n",
    "            k_second = kmeans.labels_;\n",
    "            k_second = k_second + k_iter*cls_second;\n",
    "            \n",
    "            tol_index.append( indx_level_01 )\n",
    "            tol_label.append( k_second )\n",
    "            \n",
    "        tol_index = np.hstack(tol_index)\n",
    "        tol_label = np.hstack(tol_label)\n",
    "        \n",
    "        labels.append(tol_label); \n",
    "        indexs.append(tol_index); \n"
   ]
  },
  {
   "cell_type": "code",
   "execution_count": 7,
   "id": "c7266fd3",
   "metadata": {},
   "outputs": [
    {
     "name": "stderr",
     "output_type": "stream",
     "text": [
      "12it [00:19,  1.59s/it]"
     ]
    },
    {
     "name": "stdout",
     "output_type": "stream",
     "text": [
      "[(14, 0.020511052550565716, 86.681706354845346, 4.3310229800288473), (29, 0.0088734162718476523, 55.452727300852615, 4.2267906790687135), (44, 0.0069080032275794572, 41.267699433173298, 4.1003578739466393), (59, 0.0048459338726652796, 33.445167293949375, 4.0335296252649293), (24, 0.0091303005859837746, 60.929502041992343, 4.280846073390169), (49, 0.0022174640260295589, 36.65644829084777, 4.0184133864469311), (74, 0.00046433133790075356, 27.514467574205327, 3.963512171004703), (99, 0.00055572746222635723, 22.479998528834646, 3.8269067535720569), (49, 0.0067194578667367525, 36.717666521926674, 4.3617544085084425), (99, -0.00094517463616702586, 21.885240769646838, 3.965046716810996), (149, -0.0055310518027531924, 16.292387035399006, 3.7609027438467102), (199, -0.0089983571263599835, 13.227753835901238, 3.5239859412366807)]\n"
     ]
    },
    {
     "name": "stderr",
     "output_type": "stream",
     "text": [
      "\n"
     ]
    }
   ],
   "source": [
    "from sklearn.metrics import silhouette_score, calinski_harabasz_score, davies_bouldin_score\n",
    "\n",
    "score_tfidf = [];\n",
    "\n",
    "\n",
    "for each_label, each_index in tqdm( zip(labels, indexs) ):\n",
    "    X_re = X_in[each_index, :];\n",
    "    n_cls = np.max(each_label)\n",
    "    \n",
    "    df_label = pd.DataFrame(each_label, columns=['label'])\n",
    "    df_label['idx'] = df_label.index\n",
    "    \n",
    "    ls_silh=[]; ls_cal=[]; ls_dav=[];\n",
    "    for itr in range(0, 3):\n",
    "        df_sample = df_label.groupby('label').sample(frac=0.01, random_state=itr)\n",
    "    \n",
    "        same_idx = df_sample['idx'].values;\n",
    "        same_label = df_sample['label'].values\n",
    "    \n",
    "        silh = silhouette_score( X_re[same_idx, :], same_label)\n",
    "        cal = calinski_harabasz_score( X_re[same_idx, :], same_label)\n",
    "        dav = davies_bouldin_score( X_re[same_idx, :], same_label)\n",
    "        \n",
    "        ls_silh.append(silh); ls_cal.append(cal); ls_dav.append(dav)\n",
    "    score_tfidf.append( (n_cls, np.mean(ls_silh), np.mean(ls_cal), np.mean(ls_dav)) )\n",
    "\n",
    "print(score_tfidf)\n"
   ]
  },
  {
   "cell_type": "code",
   "execution_count": 8,
   "id": "5db7ebad",
   "metadata": {},
   "outputs": [
    {
     "data": {
      "text/html": [
       "<div>\n",
       "<style scoped>\n",
       "    .dataframe tbody tr th:only-of-type {\n",
       "        vertical-align: middle;\n",
       "    }\n",
       "\n",
       "    .dataframe tbody tr th {\n",
       "        vertical-align: top;\n",
       "    }\n",
       "\n",
       "    .dataframe thead th {\n",
       "        text-align: right;\n",
       "    }\n",
       "</style>\n",
       "<table border=\"1\" class=\"dataframe\">\n",
       "  <thead>\n",
       "    <tr style=\"text-align: right;\">\n",
       "      <th></th>\n",
       "      <th>ncls</th>\n",
       "      <th>silh</th>\n",
       "      <th>cal</th>\n",
       "      <th>dav</th>\n",
       "      <th>method</th>\n",
       "    </tr>\n",
       "  </thead>\n",
       "  <tbody>\n",
       "    <tr>\n",
       "      <th>0</th>\n",
       "      <td>14</td>\n",
       "      <td>0.020511</td>\n",
       "      <td>86.681706</td>\n",
       "      <td>4.331023</td>\n",
       "      <td>TfIdf</td>\n",
       "    </tr>\n",
       "    <tr>\n",
       "      <th>1</th>\n",
       "      <td>29</td>\n",
       "      <td>0.008873</td>\n",
       "      <td>55.452727</td>\n",
       "      <td>4.226791</td>\n",
       "      <td>TfIdf</td>\n",
       "    </tr>\n",
       "    <tr>\n",
       "      <th>2</th>\n",
       "      <td>44</td>\n",
       "      <td>0.006908</td>\n",
       "      <td>41.267699</td>\n",
       "      <td>4.100358</td>\n",
       "      <td>TfIdf</td>\n",
       "    </tr>\n",
       "    <tr>\n",
       "      <th>3</th>\n",
       "      <td>59</td>\n",
       "      <td>0.004846</td>\n",
       "      <td>33.445167</td>\n",
       "      <td>4.033530</td>\n",
       "      <td>TfIdf</td>\n",
       "    </tr>\n",
       "    <tr>\n",
       "      <th>4</th>\n",
       "      <td>24</td>\n",
       "      <td>0.009130</td>\n",
       "      <td>60.929502</td>\n",
       "      <td>4.280846</td>\n",
       "      <td>TfIdf</td>\n",
       "    </tr>\n",
       "    <tr>\n",
       "      <th>5</th>\n",
       "      <td>49</td>\n",
       "      <td>0.002217</td>\n",
       "      <td>36.656448</td>\n",
       "      <td>4.018413</td>\n",
       "      <td>TfIdf</td>\n",
       "    </tr>\n",
       "    <tr>\n",
       "      <th>6</th>\n",
       "      <td>74</td>\n",
       "      <td>0.000464</td>\n",
       "      <td>27.514468</td>\n",
       "      <td>3.963512</td>\n",
       "      <td>TfIdf</td>\n",
       "    </tr>\n",
       "    <tr>\n",
       "      <th>7</th>\n",
       "      <td>99</td>\n",
       "      <td>0.000556</td>\n",
       "      <td>22.479999</td>\n",
       "      <td>3.826907</td>\n",
       "      <td>TfIdf</td>\n",
       "    </tr>\n",
       "    <tr>\n",
       "      <th>8</th>\n",
       "      <td>49</td>\n",
       "      <td>0.006719</td>\n",
       "      <td>36.717667</td>\n",
       "      <td>4.361754</td>\n",
       "      <td>TfIdf</td>\n",
       "    </tr>\n",
       "    <tr>\n",
       "      <th>9</th>\n",
       "      <td>99</td>\n",
       "      <td>-0.000945</td>\n",
       "      <td>21.885241</td>\n",
       "      <td>3.965047</td>\n",
       "      <td>TfIdf</td>\n",
       "    </tr>\n",
       "    <tr>\n",
       "      <th>10</th>\n",
       "      <td>149</td>\n",
       "      <td>-0.005531</td>\n",
       "      <td>16.292387</td>\n",
       "      <td>3.760903</td>\n",
       "      <td>TfIdf</td>\n",
       "    </tr>\n",
       "    <tr>\n",
       "      <th>11</th>\n",
       "      <td>199</td>\n",
       "      <td>-0.008998</td>\n",
       "      <td>13.227754</td>\n",
       "      <td>3.523986</td>\n",
       "      <td>TfIdf</td>\n",
       "    </tr>\n",
       "  </tbody>\n",
       "</table>\n",
       "</div>"
      ],
      "text/plain": [
       "    ncls      silh        cal       dav method\n",
       "0     14  0.020511  86.681706  4.331023  TfIdf\n",
       "1     29  0.008873  55.452727  4.226791  TfIdf\n",
       "2     44  0.006908  41.267699  4.100358  TfIdf\n",
       "3     59  0.004846  33.445167  4.033530  TfIdf\n",
       "4     24  0.009130  60.929502  4.280846  TfIdf\n",
       "5     49  0.002217  36.656448  4.018413  TfIdf\n",
       "6     74  0.000464  27.514468  3.963512  TfIdf\n",
       "7     99  0.000556  22.479999  3.826907  TfIdf\n",
       "8     49  0.006719  36.717667  4.361754  TfIdf\n",
       "9     99 -0.000945  21.885241  3.965047  TfIdf\n",
       "10   149 -0.005531  16.292387  3.760903  TfIdf\n",
       "11   199 -0.008998  13.227754  3.523986  TfIdf"
      ]
     },
     "metadata": {},
     "output_type": "display_data"
    }
   ],
   "source": [
    "score_tfidf = pd.DataFrame(score_tfidf, columns=['ncls', 'silh','cal','dav'])\n",
    "score_tfidf['method'] = 'TfIdf'\n",
    "score_tfidf.to_csv('score_TfIdf.csv', index=False)\n",
    "display(score_tfidf)"
   ]
  },
  {
   "cell_type": "code",
   "execution_count": 9,
   "id": "2a20e340",
   "metadata": {},
   "outputs": [],
   "source": [
    "score_tfidf = pd.read_csv('score_TfIdf.csv')\n",
    "score_Emb_nnlm = pd.read_csv('score_Emb_nnlm.csv')\n",
    "\n",
    "score = pd.concat([score_tfidf, score_Emb_nnlm]).reset_index()"
   ]
  },
  {
   "cell_type": "code",
   "execution_count": 10,
   "id": "3e47354f",
   "metadata": {},
   "outputs": [
    {
     "data": {
      "text/plain": [
       "<matplotlib.legend.Legend at 0x7f5cffc5d550>"
      ]
     },
     "execution_count": 10,
     "metadata": {},
     "output_type": "execute_result"
    },
    {
     "data": {
      "image/png": "[encoded data removed]",
      "text/plain": [
       "<Figure size 1494.4x307.863 with 3 Axes>"
      ]
     },
     "metadata": {
      "needs_background": "light"
     },
     "output_type": "display_data"
    }
   ],
   "source": [
    "from set_size import set_size\n",
    "width =3000.0\n",
    "clr_palette = sns.color_palette()\n",
    "#\n",
    "fig1, (ax1, ax2, ax3) = plt.subplots(1, 3, figsize=set_size(width, height_adjust=1, fraction=0.5, subplots=(1,3 )))\n",
    "\n",
    "\n",
    "sns.lineplot(data=score, x='ncls', y='silh', hue=\"method\", ax=ax1)\n",
    "ax1.set_xlim(0, 100)\n",
    "ax1.set_xlabel('number of clusters')\n",
    "ax1.set_ylabel('Silhouette Coefficient')\n",
    "ax1.legend(ncol=2, title=None)\n",
    "#\n",
    "sns.lineplot(data=score, x='ncls', y='cal', hue=\"method\", ax=ax2)\n",
    "ax2.set_xlim(0, 100)\n",
    "ax2.set_xlabel('number of clusters')\n",
    "ax2.set_ylabel('Calinski-Harabasz Index')\n",
    "ax2.set_yscale('log')\n",
    "ax2.legend(ncol=2, title=None)\n",
    "#\n",
    "g = sns.lineplot(data=score, x='ncls', y='dav', hue=\"method\", ax=ax3)\n",
    "ax3.set_xlim(0, 100)\n",
    "ax3.set_xlabel('number of clusters')\n",
    "ax3.set_ylabel('Davies-Bouldin Index')\n",
    "ax3.set_yscale('log')\n",
    "ax3.legend(ncol=2, title=None)\n"
   ]
  },
  {
   "cell_type": "code",
   "execution_count": 11,
   "id": "45e0f88e",
   "metadata": {},
   "outputs": [
    {
     "name": "stdout",
     "output_type": "stream",
     "text": [
      "15\n"
     ]
    }
   ],
   "source": [
    "from sklearn.manifold import TSNE\n",
    "\n",
    "each_label = labels[0]\n",
    "each_index = indexs[0]\n",
    "\n",
    "X_re = X_in[each_index, :];\n",
    "n_cls = np.max(each_label)\n",
    "\n",
    "df_label = pd.DataFrame(each_label, columns=['label'])\n",
    "df_label['idx'] = df_label.index\n",
    "\n",
    "ls_silh=[]; ls_cal=[]; ls_dav=[];\n",
    "\n",
    "itr = 0\n",
    "df_sample = df_label.groupby('label').sample(frac=0.01, random_state=itr)\n",
    "\n",
    "same_idx = df_sample['idx'].values;\n",
    "same_label = df_sample['label'].values\n",
    "\n",
    "sp_dw_app_keep = X_re[same_idx, :]\n",
    "\n",
    "#============ Tsne ============#\n",
    "X_sample_tr      = sp_dw_app_keep;     \n",
    "X_sample_tr_tsne = TSNE(n_components=2, perplexity=1000, random_state=123).fit_transform( X_sample_tr )\n",
    "X_sample_tr_tsne = normalize(X_sample_tr_tsne, axis=0)\n",
    "#==============================#\n",
    "\n",
    "#=== Plot ===#\n",
    "#width = 1000.0\n",
    "#fig2, ax2 = plt.subplots(1, 1, figsize=set_size(width, height_adjust=1, fraction=1, subplots=(1, 1)))\n",
    "print(np.unique(same_label).shape[0])\n",
    "clr_palette_tsne = sns.color_palette(\"husl\", np.unique(same_label).shape[0] )\n",
    "data_plt_tsne = pd.DataFrame({'x_axis': X_sample_tr_tsne[:, 0], 'y_axis': X_sample_tr_tsne[:, 1], 'label': same_label}) "
   ]
  },
  {
   "cell_type": "code",
   "execution_count": 12,
   "id": "46573e69",
   "metadata": {},
   "outputs": [
    {
     "name": "stdout",
     "output_type": "stream",
     "text": [
      "[ 0  0  0 ..., 14 14 14]\n"
     ]
    },
    {
     "data": {
      "text/plain": [
       "<AxesSubplot:xlabel='x_axis', ylabel='y_axis'>"
      ]
     },
     "execution_count": 12,
     "metadata": {},
     "output_type": "execute_result"
    },
    {
     "data": {
      "image/png": "[encoded data removed]",
      "text/plain": [
       "<Figure size 498.132x307.863 with 1 Axes>"
      ]
     },
     "metadata": {
      "needs_background": "light"
     },
     "output_type": "display_data"
    }
   ],
   "source": [
    "#print(np.max(np.unique(same_label)))\n",
    "#clr_palette_tsne = sns.color_palette(\"husl\", 0 )\n",
    "print((same_label))\n",
    "data_plt_tsne = pd.DataFrame({'x_axis': X_sample_tr_tsne[:, 0], 'y_axis': X_sample_tr_tsne[:, 1], 'label': same_label}) \n",
    "\n",
    "width = 500.0\n",
    "fig2, ax2 = plt.subplots(1, 1, figsize=set_size(width, height_adjust=1, fraction=1, subplots=(1, 1)))\n",
    "\n",
    "sns.scatterplot(data=data_plt_tsne, x=\"x_axis\", y=\"y_axis\", hue=\"label\", ax=ax2)"
   ]
  },
  {
   "cell_type": "code",
   "execution_count": null,
   "id": "f19ab14d",
   "metadata": {},
   "outputs": [],
   "source": []
  },
  {
   "cell_type": "code",
   "execution_count": 13,
   "id": "eecface1",
   "metadata": {},
   "outputs": [
    {
     "name": "stdout",
     "output_type": "stream",
     "text": [
      "(504717,)\n",
      "(504717, 11)\n"
     ]
    }
   ],
   "source": [
    "#======= Recommendation Modeling ================#\n",
    "each_label = labels[2]\n",
    "each_index = indexs[2]\n",
    "print(each_label.shape)\n",
    "print(df.shape)\n",
    "df_rec = df.iloc[each_index,:]\n"
   ]
  },
  {
   "cell_type": "code",
   "execution_count": 14,
   "id": "e821d97b",
   "metadata": {},
   "outputs": [],
   "source": [
    "df_rec['category'] = each_label;\n",
    "#display(df_rec)\n",
    "df_cat_cnt = df_rec.groupby('author').apply(lambda x: np.unique(x['category']).shape[0]).sort_values(ascending=False);\n"
   ]
  },
  {
   "cell_type": "code",
   "execution_count": 40,
   "id": "b069d408",
   "metadata": {},
   "outputs": [],
   "source": [
    "authors = list(df_cat_cnt[df_cat_cnt>10].index) \n",
    "#print(df_rec.index)\n",
    "df_rec_sel = df_rec.reset_index(drop=True)\n",
    "df_rec_sel = df_rec_sel[df_rec_sel['author'].isin(authors)]\n",
    "\n",
    "from scipy.sparse import coo_matrix, hstack\n",
    "X_tfidf_sel = X_tfidf[list(df_rec_sel.index),:]\n",
    "#display(hstack([coo_matrix(X_tfidf_sel), coo_matrix(df_rec_sel['up_votes'])]))"
   ]
  },
  {
   "cell_type": "code",
   "execution_count": 43,
   "id": "c2bcbb89",
   "metadata": {
    "scrolled": true
   },
   "outputs": [],
   "source": [
    "cat_author = df_rec_sel.groupby(['author','category']).size()"
   ]
  },
  {
   "cell_type": "code",
   "execution_count": 51,
   "id": "01abdd7b",
   "metadata": {},
   "outputs": [],
   "source": [
    "ls_author = cat_author.reset_index()['author'].drop_duplicates().values.tolist()\n",
    "ls_cat = cat_author.reset_index()['category'].drop_duplicates().values.tolist()"
   ]
  },
  {
   "cell_type": "code",
   "execution_count": 54,
   "id": "9138d628",
   "metadata": {},
   "outputs": [
    {
     "data": {
      "text/plain": [
       "author   category\n",
       "--Kai--  1           1\n",
       "         3           1\n",
       "         4           4\n",
       "         7           1\n",
       "         8           3\n",
       "                    ..\n",
       "zzybert  33          3\n",
       "         34          2\n",
       "         42          2\n",
       "         43          2\n",
       "         44          1\n",
       "Length: 76696, dtype: int64"
      ]
     },
     "metadata": {},
     "output_type": "display_data"
    }
   ],
   "source": [
    "ls_author\n",
    "ls_cat\n",
    "dict_author = dict(zip(ls_author, range(0, len(ls_author))))\n",
    "dict_cat= dict(zip(ls_cat, range(0, len(ls_cat))))\n",
    "display(cat_author.reset_index())"
   ]
  },
  {
   "cell_type": "code",
   "execution_count": 72,
   "id": "0c6a036b",
   "metadata": {},
   "outputs": [
    {
     "data": {
      "text/plain": [
       "83.918485076498627"
      ]
     },
     "metadata": {},
     "output_type": "display_data"
    }
   ],
   "source": [
    "row = [ dict_author[each] for each in cat_author.reset_index()['author']]\n",
    "col = [ dict_cat[each] for each in cat_author.reset_index()['category']]\n",
    "data = [ each for each in cat_author.reset_index()[0]]\n",
    "user_mat = csr_matrix((data, (row, col)), shape=(len(ls_author), len(ls_cat)))\n",
    "display(user_mat.sum(1).mean())"
   ]
  },
  {
   "cell_type": "code",
   "execution_count": 73,
   "id": "ad569b93",
   "metadata": {},
   "outputs": [
    {
     "data": {
      "text/plain": [
       "80.828191622774014"
      ]
     },
     "metadata": {},
     "output_type": "display_data"
    }
   ],
   "source": [
    "np.random.seed(123)\n",
    "hold_out_cat = []\n",
    "for each_user in range(0, len(ls_author)):\n",
    "    cand = np.where( user_mat[each_user, :].todense() != 0)[1]\n",
    "    sel = np.random.choice(cand, 1)\n",
    "    #print(each_user, sel, user_mat[each_user, sel])\n",
    "    user_mat[each_user, sel] = 0\n",
    "    #print(each_user, sel, user_mat[each_user, sel])\n",
    "    hold_out_cat.append(sel)\n",
    "display(user_mat.sum(1).mean())"
   ]
  },
  {
   "cell_type": "code",
   "execution_count": 75,
   "id": "c0af6b35",
   "metadata": {},
   "outputs": [],
   "source": [
    "from sklearn.linear_model import LinearRegression\n",
    "ls_clf = []\n",
    "\n",
    "for each_cat in range(0, len(ls_cat) ):\n",
    "    sel_dim = np.setdiff1d( np.arange(0, user_mat.shape[1]), each_cat)\n",
    "    X = user_mat[:, sel_dim]\n",
    "    y = user_mat[:, each_cat]\n",
    "    reg = LinearRegression().fit(X, y.todense())\n",
    "    ls_clf.append(reg)"
   ]
  },
  {
   "cell_type": "code",
   "execution_count": 80,
   "id": "ba5ed84f",
   "metadata": {},
   "outputs": [],
   "source": [
    "all_score = np.zeros((len(ls_author), len(ls_cat)))\n",
    "for each_cat in range(0, len(ls_cat) ):\n",
    "    sel_dim = np.setdiff1d( np.arange(0, user_mat.shape[1]), each_cat)\n",
    "    \n",
    "    reg = ls_clf[each_cat]\n",
    "    X = user_mat[:, sel_dim]\n",
    "    score = reg.predict(X )\n",
    "    all_score[:, each_cat:each_cat+1] = score;\n",
    "    "
   ]
  },
  {
   "cell_type": "code",
   "execution_count": 99,
   "id": "20d6a29d",
   "metadata": {},
   "outputs": [
    {
     "data": {
      "text/plain": [
       "matrix([[ 1,  1,  4, ...,  0,  0,  0],\n",
       "        [ 2,  5,  7, ...,  0,  0,  0],\n",
       "        [ 0,  8,  0, ...,  0,  0,  0],\n",
       "        ..., \n",
       "        [ 0,  0,  0, ...,  0,  0,  0],\n",
       "        [ 0,  1,  1, ...,  0,  0,  0],\n",
       "        [ 3, 12,  0, ...,  0,  1,  0]], dtype=int64)"
      ]
     },
     "metadata": {},
     "output_type": "display_data"
    },
    {
     "name": "stdout",
     "output_type": "stream",
     "text": [
      "[[17 35 22 ..., 24 25 38]\n",
      " [ 9 16  7 ..., 11 10  3]\n",
      " [ 0 38  2 ..., 30 29 26]\n",
      " ..., \n",
      " [16 34  2 ..., 14 41 31]\n",
      " [34  0 20 ..., 11 38 13]\n",
      " [10 40 15 ..., 20  4 38]]\n",
      "[14 16  4 ..., 28 32  9]\n"
     ]
    }
   ],
   "source": [
    "display(user_mat.todense())\n",
    "score_mod = (user_mat>0) * (-np.inf) + all_score\n",
    "#print(score_mod)\n",
    "index = np.argsort(score_mod, 1)[:, ::-1]\n",
    "\n",
    "print(index[:, 0:20])\n",
    "print(np.hstack(hold_out_cat))"
   ]
  },
  {
   "cell_type": "code",
   "execution_count": 106,
   "id": "4b9db379",
   "metadata": {},
   "outputs": [
    {
     "name": "stdout",
     "output_type": "stream",
     "text": [
      "0.362845915893\n",
      "0.386460162194\n",
      "0.40677728411\n"
     ]
    }
   ],
   "source": [
    "#===== HIT RATE \n",
    "for hitk in [3, 5, 10]:\n",
    "    hitornot= [];\n",
    "    cad = index[:, 0:hitk]\n",
    "    for user in range(0, len(ls_author)):\n",
    "        if np.hstack(hold_out_cat)[user] in cad[user, :].tolist()[0]:\n",
    "            hitornot.append(  1/(np.where(cad[user, :].tolist()[0]==np.hstack(hold_out_cat)[user])[0]+1))\n",
    "    print(np.sum(hitornot)/ len(ls_author))"
   ]
  },
  {
   "cell_type": "code",
   "execution_count": 108,
   "id": "894876fe",
   "metadata": {},
   "outputs": [
    {
     "data": {
      "text/plain": [
       "83.918485076498627"
      ]
     },
     "metadata": {},
     "output_type": "display_data"
    },
    {
     "data": {
      "text/plain": [
       "80.828191622774014"
      ]
     },
     "metadata": {},
     "output_type": "display_data"
    }
   ],
   "source": [
    "from sklearn.decomposition import NMF\n",
    "row = [ dict_author[each] for each in cat_author.reset_index()['author']]\n",
    "col = [ dict_cat[each] for each in cat_author.reset_index()['category']]\n",
    "data = [ each for each in cat_author.reset_index()[0]]\n",
    "user_mat = csr_matrix((data, (row, col)), shape=(len(ls_author), len(ls_cat)))\n",
    "display(user_mat.sum(1).mean())\n",
    "\n",
    "np.random.seed(123)\n",
    "hold_out_cat = []\n",
    "for each_user in range(0, len(ls_author)):\n",
    "    cand = np.where( user_mat[each_user, :].todense() != 0)[1]\n",
    "    sel = np.random.choice(cand, 1)\n",
    "    #print(each_user, sel, user_mat[each_user, sel])\n",
    "    user_mat[each_user, sel] = 0\n",
    "    #print(each_user, sel, user_mat[each_user, sel])\n",
    "    hold_out_cat.append(sel)\n",
    "display(user_mat.sum(1).mean())\n"
   ]
  },
  {
   "cell_type": "code",
   "execution_count": 111,
   "id": "eaa1b29a",
   "metadata": {},
   "outputs": [],
   "source": [
    "model = NMF(n_components=20, init='random', random_state=0)\n",
    "W = model.fit_transform(user_mat.todense())\n",
    "H = model.components_"
   ]
  },
  {
   "cell_type": "code",
   "execution_count": 116,
   "id": "67075227",
   "metadata": {},
   "outputs": [
    {
     "data": {
      "text/plain": [
       "(3987, 20)"
      ]
     },
     "metadata": {},
     "output_type": "display_data"
    },
    {
     "data": {
      "text/plain": [
       "(20, 45)"
      ]
     },
     "metadata": {},
     "output_type": "display_data"
    },
    {
     "data": {
      "text/plain": [
       "matrix([[ 1,  1,  4, ...,  0,  0,  0],\n",
       "        [ 2,  5,  7, ...,  0,  0,  0],\n",
       "        [ 0,  8,  0, ...,  0,  0,  0],\n",
       "        ..., \n",
       "        [ 0,  0,  0, ...,  0,  0,  0],\n",
       "        [ 0,  1,  1, ...,  0,  0,  0],\n",
       "        [ 3, 12,  0, ...,  0,  1,  0]], dtype=int64)"
      ]
     },
     "metadata": {},
     "output_type": "display_data"
    },
    {
     "name": "stdout",
     "output_type": "stream",
     "text": [
      "[[25 22 15 ..., 30 33 14]\n",
      " [ 9  7 35 ..., 11 10  3]\n",
      " [33  9 38 ..., 11 43 39]\n",
      " ..., \n",
      " [16 24 28 ..., 14  4 35]\n",
      " [ 3 20 15 ..., 32 43 11]\n",
      " [10  6 15 ..., 20 17 44]]\n",
      "[14 16  4 ..., 28 32  9]\n"
     ]
    }
   ],
   "source": [
    "display(W.shape)\n",
    "display(H.shape)\n",
    "\n",
    "MF_BACK = np.matrix(W)* np.matrix(H)\n",
    "\n",
    "display(user_mat.todense())\n",
    "score_mod = (user_mat>0) * (-np.inf) + MF_BACK\n",
    "#print(score_mod)\n",
    "index = np.argsort(score_mod, 1)[:, ::-1]\n",
    "\n",
    "print(index[:, 0:20])\n",
    "print(np.hstack(hold_out_cat))\n"
   ]
  },
  {
   "cell_type": "code",
   "execution_count": 117,
   "id": "9c6d8369",
   "metadata": {},
   "outputs": [
    {
     "name": "stdout",
     "output_type": "stream",
     "text": [
      "0.232881866065\n",
      "0.260057687484\n",
      "0.286341124528\n"
     ]
    }
   ],
   "source": [
    "#===== HIT RATE \n",
    "for hitk in [3, 5, 10]:\n",
    "    hitornot= [];\n",
    "    cad = index[:, 0:hitk]\n",
    "    for user in range(0, len(ls_author)):\n",
    "        if np.hstack(hold_out_cat)[user] in cad[user, :].tolist()[0]:\n",
    "            hitornot.append(  1/(np.where(cad[user, :].tolist()[0]==np.hstack(hold_out_cat)[user])[0]+1))\n",
    "    print(np.sum(hitornot)/ len(ls_author))"
   ]
  },
  {
   "cell_type": "code",
   "execution_count": 119,
   "id": "d53f4054",
   "metadata": {},
   "outputs": [
    {
     "name": "stdout",
     "output_type": "stream",
     "text": [
      "0.320290945573\n",
      "0.440431402057\n",
      "0.639077000251\n"
     ]
    }
   ],
   "source": [
    "#===== HIT RATE \n",
    "for hitk in [3, 5, 10]:\n",
    "    hitornot= [];\n",
    "    cad = index[:, 0:hitk]\n",
    "    for user in range(0, len(ls_author)):\n",
    "        if np.hstack(hold_out_cat)[user] in cad[user, :].tolist()[0]:\n",
    "            hitornot.append(  True)\n",
    "            #hitornot.append(  1/(np.where(cad[user, :].tolist()[0]==np.hstack(hold_out_cat)[user])[0]+1))\n",
    "    print(np.sum(hitornot)/ len(ls_author))"
   ]
  },
  {
   "cell_type": "code",
   "execution_count": 118,
   "id": "ef663f99",
   "metadata": {},
   "outputs": [
    {
     "data": {
      "text/plain": [
       "83.918485076498627"
      ]
     },
     "metadata": {},
     "output_type": "display_data"
    },
    {
     "data": {
      "text/plain": [
       "80.828191622774014"
      ]
     },
     "metadata": {},
     "output_type": "display_data"
    }
   ],
   "source": [
    "from sklearn.decomposition import NMF\n",
    "row = [ dict_author[each] for each in cat_author.reset_index()['author']]\n",
    "col = [ dict_cat[each] for each in cat_author.reset_index()['category']]\n",
    "data = [ each for each in cat_author.reset_index()[0]]\n",
    "user_mat = csr_matrix((data, (row, col)), shape=(len(ls_author), len(ls_cat)))\n",
    "display(user_mat.sum(1).mean())\n",
    "\n",
    "np.random.seed(123)\n",
    "hold_out_cat = []\n",
    "for each_user in range(0, len(ls_author)):\n",
    "    cand = np.where( user_mat[each_user, :].todense() != 0)[1]\n",
    "    sel = np.random.choice(cand, 1)\n",
    "    #print(each_user, sel, user_mat[each_user, sel])\n",
    "    user_mat[each_user, sel] = 0\n",
    "    #print(each_user, sel, user_mat[each_user, sel])\n",
    "    hold_out_cat.append(sel)\n",
    "display(user_mat.sum(1).mean())\n"
   ]
  },
  {
   "cell_type": "code",
   "execution_count": null,
   "id": "d92f20d8",
   "metadata": {},
   "outputs": [],
   "source": []
  },
  {
   "cell_type": "code",
   "execution_count": null,
   "id": "deadaa82",
   "metadata": {},
   "outputs": [],
   "source": []
  },
  {
   "cell_type": "code",
   "execution_count": null,
   "id": "d71d926e",
   "metadata": {},
   "outputs": [],
   "source": []
  },
  {
   "cell_type": "code",
   "execution_count": null,
   "id": "f0351664",
   "metadata": {},
   "outputs": [],
   "source": []
  },
  {
   "cell_type": "code",
   "execution_count": null,
   "id": "c9b883c2",
   "metadata": {},
   "outputs": [],
   "source": []
  },
  {
   "cell_type": "code",
   "execution_count": null,
   "id": "d2653160",
   "metadata": {},
   "outputs": [],
   "source": []
  },
  {
   "cell_type": "code",
   "execution_count": null,
   "id": "468b9e89",
   "metadata": {},
   "outputs": [],
   "source": [
    "### Try Google trends"
   ]
  },
  {
   "cell_type": "code",
   "execution_count": null,
   "id": "cdcb7a25",
   "metadata": {},
   "outputs": [],
   "source": []
  },
  {
   "cell_type": "code",
   "execution_count": null,
   "id": "61456853",
   "metadata": {},
   "outputs": [],
   "source": []
  },
  {
   "cell_type": "code",
   "execution_count": null,
   "id": "3aae5948",
   "metadata": {},
   "outputs": [],
   "source": []
  },
  {
   "cell_type": "code",
   "execution_count": null,
   "id": "74b87321",
   "metadata": {},
   "outputs": [],
   "source": []
  },
  {
   "cell_type": "code",
   "execution_count": null,
   "id": "f1f4641a",
   "metadata": {},
   "outputs": [],
   "source": []
  },
  {
   "cell_type": "code",
   "execution_count": null,
   "id": "3b9600af",
   "metadata": {},
   "outputs": [],
   "source": []
  },
  {
   "cell_type": "code",
   "execution_count": null,
   "id": "0c954c47",
   "metadata": {},
   "outputs": [],
   "source": []
  },
  {
   "cell_type": "code",
   "execution_count": null,
   "id": "31c6beb6",
   "metadata": {},
   "outputs": [],
   "source": []
  },
  {
   "cell_type": "code",
   "execution_count": null,
   "id": "85920e10",
   "metadata": {},
   "outputs": [],
   "source": []
  },
  {
   "cell_type": "code",
   "execution_count": null,
   "id": "62e1ade1",
   "metadata": {},
   "outputs": [],
   "source": []
  },
  {
   "cell_type": "code",
   "execution_count": null,
   "id": "97ace0ad",
   "metadata": {},
   "outputs": [],
   "source": []
  },
  {
   "cell_type": "code",
   "execution_count": null,
   "id": "5a3177a7",
   "metadata": {},
   "outputs": [],
   "source": []
  },
  {
   "cell_type": "code",
   "execution_count": null,
   "id": "9ec0a064",
   "metadata": {},
   "outputs": [],
   "source": []
  },
  {
   "cell_type": "code",
   "execution_count": null,
   "id": "d5387de8",
   "metadata": {},
   "outputs": [],
   "source": []
  },
  {
   "cell_type": "code",
   "execution_count": null,
   "id": "b5a08433",
   "metadata": {},
   "outputs": [],
   "source": []
  },
  {
   "cell_type": "code",
   "execution_count": null,
   "id": "11f19940",
   "metadata": {},
   "outputs": [],
   "source": []
  },
  {
   "cell_type": "code",
   "execution_count": null,
   "id": "4d84876d",
   "metadata": {},
   "outputs": [],
   "source": []
  },
  {
   "cell_type": "code",
   "execution_count": null,
   "id": "e94e6b92",
   "metadata": {},
   "outputs": [],
   "source": []
  },
  {
   "cell_type": "code",
   "execution_count": null,
   "id": "52bb883b",
   "metadata": {},
   "outputs": [],
   "source": []
  },
  {
   "cell_type": "code",
   "execution_count": null,
   "id": "12a7de64",
   "metadata": {},
   "outputs": [],
   "source": []
  },
  {
   "cell_type": "code",
   "execution_count": null,
   "id": "e28b4608",
   "metadata": {},
   "outputs": [],
   "source": []
  },
  {
   "cell_type": "code",
   "execution_count": null,
   "id": "6bb7c6d5",
   "metadata": {},
   "outputs": [],
   "source": []
  },
  {
   "cell_type": "code",
   "execution_count": null,
   "id": "2dc7b4a1",
   "metadata": {},
   "outputs": [],
   "source": []
  },
  {
   "cell_type": "code",
   "execution_count": null,
   "id": "8958a4b3",
   "metadata": {},
   "outputs": [],
   "source": []
  },
  {
   "cell_type": "code",
   "execution_count": null,
   "id": "32603762",
   "metadata": {},
   "outputs": [],
   "source": []
  },
  {
   "cell_type": "code",
   "execution_count": null,
   "id": "e1062dfc",
   "metadata": {},
   "outputs": [],
   "source": []
  },
  {
   "cell_type": "code",
   "execution_count": null,
   "id": "7e289eaf",
   "metadata": {},
   "outputs": [],
   "source": []
  },
  {
   "cell_type": "code",
   "execution_count": null,
   "id": "8e966bb9",
   "metadata": {},
   "outputs": [],
   "source": []
  },
  {
   "cell_type": "code",
   "execution_count": null,
   "id": "88693d13",
   "metadata": {},
   "outputs": [],
   "source": []
  },
  {
   "cell_type": "code",
   "execution_count": null,
   "id": "55618226",
   "metadata": {},
   "outputs": [],
   "source": []
  },
  {
   "cell_type": "code",
   "execution_count": null,
   "id": "fb93f541",
   "metadata": {},
   "outputs": [],
   "source": []
  }
 ],
 "metadata": {
  "kernelspec": {
   "display_name": "Python 3",
   "language": "python",
   "name": "python3"
  },
  "language_info": {
   "codemirror_mode": {
    "name": "ipython",
    "version": 3
   },
   "file_extension": ".py",
   "mimetype": "text/x-python",
   "name": "python",
   "nbconvert_exporter": "python",
   "pygments_lexer": "ipython3",
   "version": "3.7.7"
  }
 },
 "nbformat": 4,
 "nbformat_minor": 5
}
