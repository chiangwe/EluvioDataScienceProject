{
 "cells": [
  {
   "cell_type": "markdown",
   "id": "dbd0e53d",
   "metadata": {},
   "source": [
    "# Importing Packages "
   ]
  },
  {
   "cell_type": "code",
   "execution_count": 48,
   "id": "989fffd5",
   "metadata": {},
   "outputs": [
    {
     "name": "stdout",
     "output_type": "stream",
     "text": [
      "/home/chiangwe/anaconda3/envs/NetHawkes/bin/python\n"
     ]
    }
   ],
   "source": [
    "#!pip install tqdm\n",
    "#!pip install nltk\n",
    "#!pip install matplotlib\n",
    "#!pip install tensorflow_hub\n",
    "#!pip install tensorflow_datasets\n",
    "#!pip install  obspy\n",
    "#!pip install tensorflow_datasets\n",
    "#!pip install tensorflow_hub\n",
    "import sys\n",
    "print(sys.executable)\n",
    "import tensorflow_datasets as tfds"
   ]
  },
  {
   "cell_type": "code",
   "execution_count": 49,
   "id": "9eeefd3d",
   "metadata": {},
   "outputs": [],
   "source": [
    "#============ Importing Packages ============# \n",
    "\n",
    "#--------- Drawing Packages ---------#\n",
    "\n",
    "import matplotlib as mpl\n",
    "import matplotlib.pyplot as plt\n",
    "import seaborn as sns\n",
    "from matplotlib.ticker import (MultipleLocator, FormatStrFormatter, AutoMinorLocator, NullFormatter, LogLocator)\n",
    "from set_size import set_size\n",
    "from collections import Counter\n",
    "import tensorflow_hub as hub\n",
    "\n",
    "#--------- Utilities Packages ---------#\n",
    "import os\n",
    "import re\n",
    "import pdb\n",
    "import shelve\n",
    "import pandas as pd\n",
    "import numpy as np\n",
    "from scipy.sparse import csr_matrix, hstack\n",
    "from tqdm import tqdm\n",
    "\n",
    "import nltk\n",
    "import obspy\n",
    "#nltk.download('wordnet')\n",
    "#nltk.download('stopwords')\n",
    "#nltk.download('word_tokenize')\n",
    "from nltk.corpus import stopwords \n",
    "from nltk.tokenize import word_tokenize \n",
    "\n",
    "# Scipy Signal\n",
    "from scipy import signal\n",
    "# Detrend the Signal\n",
    "from obspy.signal.detrend import polynomial\n",
    "\n",
    "#stop_words = set(stopwords.words('english')) \n",
    "\n",
    "#--------- Analiing results  ---------#\n",
    "\n",
    "#import xgboost\n",
    "#import shap\n",
    "\n",
    "#--------- Remove Warnings ---------#\n",
    "import warnings\n",
    "warnings.filterwarnings(\"ignore\")\n"
   ]
  },
  {
   "cell_type": "markdown",
   "id": "1e230a94",
   "metadata": {},
   "source": [
    "# Checking the statistics"
   ]
  },
  {
   "cell_type": "code",
   "execution_count": 11,
   "id": "daea50f4",
   "metadata": {},
   "outputs": [
    {
     "data": {
      "text/html": [
       "<div>\n",
       "<style scoped>\n",
       "    .dataframe tbody tr th:only-of-type {\n",
       "        vertical-align: middle;\n",
       "    }\n",
       "\n",
       "    .dataframe tbody tr th {\n",
       "        vertical-align: top;\n",
       "    }\n",
       "\n",
       "    .dataframe thead th {\n",
       "        text-align: right;\n",
       "    }\n",
       "</style>\n",
       "<table border=\"1\" class=\"dataframe\">\n",
       "  <thead>\n",
       "    <tr style=\"text-align: right;\">\n",
       "      <th></th>\n",
       "      <th>time_created</th>\n",
       "      <th>date_created</th>\n",
       "      <th>up_votes</th>\n",
       "      <th>down_votes</th>\n",
       "      <th>title</th>\n",
       "      <th>over_18</th>\n",
       "      <th>author</th>\n",
       "      <th>category</th>\n",
       "    </tr>\n",
       "  </thead>\n",
       "  <tbody>\n",
       "    <tr>\n",
       "      <th>0</th>\n",
       "      <td>1201232046</td>\n",
       "      <td>2008-01-25</td>\n",
       "      <td>3</td>\n",
       "      <td>0</td>\n",
       "      <td>Scores killed in Pakistan clashes</td>\n",
       "      <td>False</td>\n",
       "      <td>polar</td>\n",
       "      <td>worldnews</td>\n",
       "    </tr>\n",
       "    <tr>\n",
       "      <th>1</th>\n",
       "      <td>1201232075</td>\n",
       "      <td>2008-01-25</td>\n",
       "      <td>2</td>\n",
       "      <td>0</td>\n",
       "      <td>Japan resumes refuelling mission</td>\n",
       "      <td>False</td>\n",
       "      <td>polar</td>\n",
       "      <td>worldnews</td>\n",
       "    </tr>\n",
       "    <tr>\n",
       "      <th>2</th>\n",
       "      <td>1201232523</td>\n",
       "      <td>2008-01-25</td>\n",
       "      <td>3</td>\n",
       "      <td>0</td>\n",
       "      <td>US presses Egypt on Gaza border</td>\n",
       "      <td>False</td>\n",
       "      <td>polar</td>\n",
       "      <td>worldnews</td>\n",
       "    </tr>\n",
       "    <tr>\n",
       "      <th>3</th>\n",
       "      <td>1201233290</td>\n",
       "      <td>2008-01-25</td>\n",
       "      <td>1</td>\n",
       "      <td>0</td>\n",
       "      <td>Jump-start economy: Give health care to all</td>\n",
       "      <td>False</td>\n",
       "      <td>fadi420</td>\n",
       "      <td>worldnews</td>\n",
       "    </tr>\n",
       "    <tr>\n",
       "      <th>4</th>\n",
       "      <td>1201274720</td>\n",
       "      <td>2008-01-25</td>\n",
       "      <td>4</td>\n",
       "      <td>0</td>\n",
       "      <td>Council of Europe bashes EU&amp;UN terror blacklist</td>\n",
       "      <td>False</td>\n",
       "      <td>mhermans</td>\n",
       "      <td>worldnews</td>\n",
       "    </tr>\n",
       "  </tbody>\n",
       "</table>\n",
       "</div>"
      ],
      "text/plain": [
       "   time_created date_created  up_votes  down_votes  \\\n",
       "0    1201232046   2008-01-25         3           0   \n",
       "1    1201232075   2008-01-25         2           0   \n",
       "2    1201232523   2008-01-25         3           0   \n",
       "3    1201233290   2008-01-25         1           0   \n",
       "4    1201274720   2008-01-25         4           0   \n",
       "\n",
       "                                             title  over_18    author  \\\n",
       "0                Scores killed in Pakistan clashes    False     polar   \n",
       "1                 Japan resumes refuelling mission    False     polar   \n",
       "2                  US presses Egypt on Gaza border    False     polar   \n",
       "3     Jump-start economy: Give health care to all     False   fadi420   \n",
       "4  Council of Europe bashes EU&UN terror blacklist    False  mhermans   \n",
       "\n",
       "    category  \n",
       "0  worldnews  \n",
       "1  worldnews  \n",
       "2  worldnews  \n",
       "3  worldnews  \n",
       "4  worldnews  "
      ]
     },
     "metadata": {},
     "output_type": "display_data"
    },
    {
     "name": "stdout",
     "output_type": "stream",
     "text": [
      "0\n",
      "It doesn' have down_votes.\n"
     ]
    }
   ],
   "source": [
    "df = pd.read_csv('Eluvio_DS_Challenge.csv')\n",
    "display(df.head(5))\n",
    "print(df['down_votes'].sum())\n",
    "print(\"It doesn' have down_votes.\")"
   ]
  },
  {
   "cell_type": "code",
   "execution_count": 12,
   "id": "4a4c71da",
   "metadata": {},
   "outputs": [
    {
     "name": "stdout",
     "output_type": "stream",
     "text": [
      "Number of posts:  509236\n",
      "Date range:  (Timestamp('2008-01-25 00:00:00'), Timestamp('2016-11-22 00:00:00'))  tol days:  3224 days 00:00:00\n",
      "Stats for number of reddits from posts:\n"
     ]
    },
    {
     "data": {
      "text/html": [
       "<div>\n",
       "<style scoped>\n",
       "    .dataframe tbody tr th:only-of-type {\n",
       "        vertical-align: middle;\n",
       "    }\n",
       "\n",
       "    .dataframe tbody tr th {\n",
       "        vertical-align: top;\n",
       "    }\n",
       "\n",
       "    .dataframe thead th {\n",
       "        text-align: right;\n",
       "    }\n",
       "</style>\n",
       "<table border=\"1\" class=\"dataframe\">\n",
       "  <thead>\n",
       "    <tr style=\"text-align: right;\">\n",
       "      <th></th>\n",
       "      <th>count</th>\n",
       "      <th>mean</th>\n",
       "      <th>std</th>\n",
       "      <th>min</th>\n",
       "      <th>25%</th>\n",
       "      <th>50%</th>\n",
       "      <th>75%</th>\n",
       "      <th>max</th>\n",
       "    </tr>\n",
       "  </thead>\n",
       "  <tbody>\n",
       "    <tr>\n",
       "      <th>n_post</th>\n",
       "      <td>3223.0</td>\n",
       "      <td>158.000621</td>\n",
       "      <td>97.360446</td>\n",
       "      <td>1.0</td>\n",
       "      <td>74.0</td>\n",
       "      <td>129.0</td>\n",
       "      <td>241.0</td>\n",
       "      <td>458.0</td>\n",
       "    </tr>\n",
       "  </tbody>\n",
       "</table>\n",
       "</div>"
      ],
      "text/plain": [
       "         count        mean        std  min   25%    50%    75%    max\n",
       "n_post  3223.0  158.000621  97.360446  1.0  74.0  129.0  241.0  458.0"
      ]
     },
     "metadata": {},
     "output_type": "display_data"
    },
    {
     "data": {
      "text/html": [
       "<div>\n",
       "<style scoped>\n",
       "    .dataframe tbody tr th:only-of-type {\n",
       "        vertical-align: middle;\n",
       "    }\n",
       "\n",
       "    .dataframe tbody tr th {\n",
       "        vertical-align: top;\n",
       "    }\n",
       "\n",
       "    .dataframe thead th {\n",
       "        text-align: right;\n",
       "    }\n",
       "</style>\n",
       "<table border=\"1\" class=\"dataframe\">\n",
       "  <thead>\n",
       "    <tr style=\"text-align: right;\">\n",
       "      <th></th>\n",
       "      <th>count</th>\n",
       "      <th>mean</th>\n",
       "      <th>std</th>\n",
       "      <th>min</th>\n",
       "      <th>25%</th>\n",
       "      <th>50%</th>\n",
       "      <th>75%</th>\n",
       "      <th>max</th>\n",
       "    </tr>\n",
       "  </thead>\n",
       "  <tbody>\n",
       "    <tr>\n",
       "      <th>up_votes</th>\n",
       "      <td>3223.0</td>\n",
       "      <td>90.152178</td>\n",
       "      <td>65.953134</td>\n",
       "      <td>1.245902</td>\n",
       "      <td>35.178536</td>\n",
       "      <td>79.960396</td>\n",
       "      <td>128.165878</td>\n",
       "      <td>477.19084</td>\n",
       "    </tr>\n",
       "    <tr>\n",
       "      <th>down_votes</th>\n",
       "      <td>3223.0</td>\n",
       "      <td>0.000000</td>\n",
       "      <td>0.000000</td>\n",
       "      <td>0.000000</td>\n",
       "      <td>0.000000</td>\n",
       "      <td>0.000000</td>\n",
       "      <td>0.000000</td>\n",
       "      <td>0.00000</td>\n",
       "    </tr>\n",
       "  </tbody>\n",
       "</table>\n",
       "</div>"
      ],
      "text/plain": [
       "             count       mean        std       min        25%        50%  \\\n",
       "up_votes    3223.0  90.152178  65.953134  1.245902  35.178536  79.960396   \n",
       "down_votes  3223.0   0.000000   0.000000  0.000000   0.000000   0.000000   \n",
       "\n",
       "                   75%        max  \n",
       "up_votes    128.165878  477.19084  \n",
       "down_votes    0.000000    0.00000  "
      ]
     },
     "metadata": {},
     "output_type": "display_data"
    },
    {
     "data": {
      "image/png": "[encoded data removed]",
      "text/plain": [
       "<Figure size 1992.53x410.483 with 3 Axes>"
      ]
     },
     "metadata": {
      "needs_background": "light"
     },
     "output_type": "display_data"
    }
   ],
   "source": [
    "fig1, (ax1, ax2, ax3) = plt.subplots(1, 3, figsize=set_size(width=4000, height_adjust=1, fraction=0.5, subplots=(1,3)))\n",
    "print(\"Number of posts: \", df.shape[0])\n",
    "\n",
    "# Check dates stats\n",
    "min_date = pd.to_datetime(df['date_created'].min());\n",
    "max_date = pd.to_datetime(df['date_created'].max());\n",
    "\n",
    "print(\"Date range: \", (min_date, max_date), \" tol days: \", max_date-min_date )\n",
    "print(\"Stats for number of reddits from posts:\")\n",
    "\n",
    "n_po = pd.DataFrame( df.groupby('date_created')['title'].count().rename('n_post') )\n",
    "avg_votes = pd.DataFrame( df.groupby('date_created')['up_votes', 'down_votes'].mean() )\n",
    "display(n_po.describe().T)\n",
    "display(avg_votes.describe().T)\n",
    "\n",
    "ax1  = n_po.reset_index().reset_index().plot.line(x='index', y='n_post', rot=0, ylabel='number of post', ax=ax1)\n",
    "ax2 = avg_votes.reset_index().reset_index().plot.line(x='index', y='up_votes', rot=0, ylabel='average_up_votes', ax=ax2)\n",
    "ax3 = df.plot.line(x='time_created', y='up_votes', rot=0, ylabel='up_vote', style='.', ax=ax3)\n",
    "\n"
   ]
  },
  {
   "cell_type": "markdown",
   "id": "a57f5d31",
   "metadata": {},
   "source": [
    "### We can not just use mean up_vote to lable popular \n",
    "### Reddit has a user growth that reflect to the upvote trend\n",
    "### We will use the previous four weeks of day of the week to decide the label\n",
    "### Popular: more the average "
   ]
  },
  {
   "cell_type": "code",
   "execution_count": 13,
   "id": "4c7ca8e6",
   "metadata": {
    "scrolled": true
   },
   "outputs": [
    {
     "data": {
      "text/html": [
       "<div>\n",
       "<style scoped>\n",
       "    .dataframe tbody tr th:only-of-type {\n",
       "        vertical-align: middle;\n",
       "    }\n",
       "\n",
       "    .dataframe tbody tr th {\n",
       "        vertical-align: top;\n",
       "    }\n",
       "\n",
       "    .dataframe thead th {\n",
       "        text-align: right;\n",
       "    }\n",
       "</style>\n",
       "<table border=\"1\" class=\"dataframe\">\n",
       "  <thead>\n",
       "    <tr style=\"text-align: right;\">\n",
       "      <th></th>\n",
       "      <th>time_created</th>\n",
       "      <th>date_created</th>\n",
       "      <th>up_votes</th>\n",
       "      <th>down_votes</th>\n",
       "      <th>title</th>\n",
       "      <th>over_18</th>\n",
       "      <th>author</th>\n",
       "      <th>category</th>\n",
       "    </tr>\n",
       "  </thead>\n",
       "  <tbody>\n",
       "    <tr>\n",
       "      <th>509191</th>\n",
       "      <td>1479810775</td>\n",
       "      <td>2016-11-22</td>\n",
       "      <td>18</td>\n",
       "      <td>0</td>\n",
       "      <td>56-car pileup in China leaves 17 dead</td>\n",
       "      <td>False</td>\n",
       "      <td>LenonTV</td>\n",
       "      <td>worldnews</td>\n",
       "    </tr>\n",
       "    <tr>\n",
       "      <th>509188</th>\n",
       "      <td>1479810217</td>\n",
       "      <td>2016-11-22</td>\n",
       "      <td>19</td>\n",
       "      <td>0</td>\n",
       "      <td>World s First Head Transplant Will Use Virtual...</td>\n",
       "      <td>False</td>\n",
       "      <td>Short_Term_Account</td>\n",
       "      <td>worldnews</td>\n",
       "    </tr>\n",
       "    <tr>\n",
       "      <th>509200</th>\n",
       "      <td>1479812515</td>\n",
       "      <td>2016-11-22</td>\n",
       "      <td>19</td>\n",
       "      <td>0</td>\n",
       "      <td>Extraordinarily hot  Arctic temperatures alar...</td>\n",
       "      <td>False</td>\n",
       "      <td>rawrstevo</td>\n",
       "      <td>worldnews</td>\n",
       "    </tr>\n",
       "    <tr>\n",
       "      <th>509155</th>\n",
       "      <td>1479801913</td>\n",
       "      <td>2016-11-22</td>\n",
       "      <td>23</td>\n",
       "      <td>0</td>\n",
       "      <td>British Navy fire warning shots at Spanish Nav...</td>\n",
       "      <td>False</td>\n",
       "      <td>cholopapi</td>\n",
       "      <td>worldnews</td>\n",
       "    </tr>\n",
       "    <tr>\n",
       "      <th>509167</th>\n",
       "      <td>1479805472</td>\n",
       "      <td>2016-11-22</td>\n",
       "      <td>26</td>\n",
       "      <td>0</td>\n",
       "      <td>Turkey to drop child-sex assault bill after pr...</td>\n",
       "      <td>False</td>\n",
       "      <td>ICASL</td>\n",
       "      <td>worldnews</td>\n",
       "    </tr>\n",
       "    <tr>\n",
       "      <th>509208</th>\n",
       "      <td>1479813152</td>\n",
       "      <td>2016-11-22</td>\n",
       "      <td>41</td>\n",
       "      <td>0</td>\n",
       "      <td>Eagles destroy nine WA mining drones and cost ...</td>\n",
       "      <td>False</td>\n",
       "      <td>Short_Term_Account</td>\n",
       "      <td>worldnews</td>\n",
       "    </tr>\n",
       "    <tr>\n",
       "      <th>509102</th>\n",
       "      <td>1479783131</td>\n",
       "      <td>2016-11-22</td>\n",
       "      <td>43</td>\n",
       "      <td>0</td>\n",
       "      <td>Death toll in India train derailment hits 146</td>\n",
       "      <td>False</td>\n",
       "      <td>doctor316</td>\n",
       "      <td>worldnews</td>\n",
       "    </tr>\n",
       "    <tr>\n",
       "      <th>509178</th>\n",
       "      <td>1479808720</td>\n",
       "      <td>2016-11-22</td>\n",
       "      <td>45</td>\n",
       "      <td>0</td>\n",
       "      <td>Turkish President Erdogan:  I can t say if Isr...</td>\n",
       "      <td>False</td>\n",
       "      <td>ICASL</td>\n",
       "      <td>worldnews</td>\n",
       "    </tr>\n",
       "    <tr>\n",
       "      <th>509093</th>\n",
       "      <td>1479777027</td>\n",
       "      <td>2016-11-22</td>\n",
       "      <td>47</td>\n",
       "      <td>0</td>\n",
       "      <td>Vancouver mayor on housing crisis:  I never dr...</td>\n",
       "      <td>False</td>\n",
       "      <td>ManiaforBeatles</td>\n",
       "      <td>worldnews</td>\n",
       "    </tr>\n",
       "    <tr>\n",
       "      <th>509131</th>\n",
       "      <td>1479793320</td>\n",
       "      <td>2016-11-22</td>\n",
       "      <td>70</td>\n",
       "      <td>0</td>\n",
       "      <td>British PM signals £2bn a year science funding...</td>\n",
       "      <td>False</td>\n",
       "      <td>cyanocittaetprocyon</td>\n",
       "      <td>worldnews</td>\n",
       "    </tr>\n",
       "    <tr>\n",
       "      <th>509106</th>\n",
       "      <td>1479784270</td>\n",
       "      <td>2016-11-22</td>\n",
       "      <td>77</td>\n",
       "      <td>0</td>\n",
       "      <td>Japan earthquake: 7.4 magnitude quake prompts ...</td>\n",
       "      <td>False</td>\n",
       "      <td>hamzatahir671</td>\n",
       "      <td>worldnews</td>\n",
       "    </tr>\n",
       "    <tr>\n",
       "      <th>509147</th>\n",
       "      <td>1479799623</td>\n",
       "      <td>2016-11-22</td>\n",
       "      <td>88</td>\n",
       "      <td>0</td>\n",
       "      <td>Britain tells Trump -  There is no vacancy  fo...</td>\n",
       "      <td>False</td>\n",
       "      <td>ManiaforBeatles</td>\n",
       "      <td>worldnews</td>\n",
       "    </tr>\n",
       "    <tr>\n",
       "      <th>509118</th>\n",
       "      <td>1479789187</td>\n",
       "      <td>2016-11-22</td>\n",
       "      <td>105</td>\n",
       "      <td>0</td>\n",
       "      <td>Lockheed Martin Lands Massive $1.2 Billion Con...</td>\n",
       "      <td>False</td>\n",
       "      <td>bob21doh</td>\n",
       "      <td>worldnews</td>\n",
       "    </tr>\n",
       "    <tr>\n",
       "      <th>509144</th>\n",
       "      <td>1479798089</td>\n",
       "      <td>2016-11-22</td>\n",
       "      <td>169</td>\n",
       "      <td>0</td>\n",
       "      <td>Rice farming in India much older than thought,...</td>\n",
       "      <td>False</td>\n",
       "      <td>avatharam</td>\n",
       "      <td>worldnews</td>\n",
       "    </tr>\n",
       "    <tr>\n",
       "      <th>509087</th>\n",
       "      <td>1479774030</td>\n",
       "      <td>2016-11-22</td>\n",
       "      <td>188</td>\n",
       "      <td>0</td>\n",
       "      <td>Ukraine detains two Russian soldiers near Crim...</td>\n",
       "      <td>False</td>\n",
       "      <td>krolique</td>\n",
       "      <td>worldnews</td>\n",
       "    </tr>\n",
       "    <tr>\n",
       "      <th>509107</th>\n",
       "      <td>1479784292</td>\n",
       "      <td>2016-11-22</td>\n",
       "      <td>259</td>\n",
       "      <td>0</td>\n",
       "      <td>India All Set to Launch a $2 Billion Renewable...</td>\n",
       "      <td>False</td>\n",
       "      <td>tewrld</td>\n",
       "      <td>worldnews</td>\n",
       "    </tr>\n",
       "    <tr>\n",
       "      <th>509108</th>\n",
       "      <td>1479784317</td>\n",
       "      <td>2016-11-22</td>\n",
       "      <td>407</td>\n",
       "      <td>0</td>\n",
       "      <td>Jean-Claude Juncker mounts fresh call for Euro...</td>\n",
       "      <td>False</td>\n",
       "      <td>Alexandra-perez</td>\n",
       "      <td>worldnews</td>\n",
       "    </tr>\n",
       "    <tr>\n",
       "      <th>509142</th>\n",
       "      <td>1479797823</td>\n",
       "      <td>2016-11-22</td>\n",
       "      <td>536</td>\n",
       "      <td>0</td>\n",
       "      <td>Turkey s PM withdraws bill that would pardon m...</td>\n",
       "      <td>False</td>\n",
       "      <td>Jurryaany</td>\n",
       "      <td>worldnews</td>\n",
       "    </tr>\n",
       "    <tr>\n",
       "      <th>509088</th>\n",
       "      <td>1479774884</td>\n",
       "      <td>2016-11-22</td>\n",
       "      <td>1816</td>\n",
       "      <td>0</td>\n",
       "      <td>New Zealand hit by 6.3 magnitude earthquake in...</td>\n",
       "      <td>False</td>\n",
       "      <td>Gecko5567</td>\n",
       "      <td>worldnews</td>\n",
       "    </tr>\n",
       "    <tr>\n",
       "      <th>509094</th>\n",
       "      <td>1479777217</td>\n",
       "      <td>2016-11-22</td>\n",
       "      <td>3360</td>\n",
       "      <td>0</td>\n",
       "      <td>It s time to decriminalize drugs, commission r...</td>\n",
       "      <td>False</td>\n",
       "      <td>maxwellhill</td>\n",
       "      <td>worldnews</td>\n",
       "    </tr>\n",
       "  </tbody>\n",
       "</table>\n",
       "</div>"
      ],
      "text/plain": [
       "        time_created date_created  up_votes  down_votes  \\\n",
       "509191    1479810775   2016-11-22        18           0   \n",
       "509188    1479810217   2016-11-22        19           0   \n",
       "509200    1479812515   2016-11-22        19           0   \n",
       "509155    1479801913   2016-11-22        23           0   \n",
       "509167    1479805472   2016-11-22        26           0   \n",
       "509208    1479813152   2016-11-22        41           0   \n",
       "509102    1479783131   2016-11-22        43           0   \n",
       "509178    1479808720   2016-11-22        45           0   \n",
       "509093    1479777027   2016-11-22        47           0   \n",
       "509131    1479793320   2016-11-22        70           0   \n",
       "509106    1479784270   2016-11-22        77           0   \n",
       "509147    1479799623   2016-11-22        88           0   \n",
       "509118    1479789187   2016-11-22       105           0   \n",
       "509144    1479798089   2016-11-22       169           0   \n",
       "509087    1479774030   2016-11-22       188           0   \n",
       "509107    1479784292   2016-11-22       259           0   \n",
       "509108    1479784317   2016-11-22       407           0   \n",
       "509142    1479797823   2016-11-22       536           0   \n",
       "509088    1479774884   2016-11-22      1816           0   \n",
       "509094    1479777217   2016-11-22      3360           0   \n",
       "\n",
       "                                                    title  over_18  \\\n",
       "509191              56-car pileup in China leaves 17 dead    False   \n",
       "509188  World s First Head Transplant Will Use Virtual...    False   \n",
       "509200   Extraordinarily hot  Arctic temperatures alar...    False   \n",
       "509155  British Navy fire warning shots at Spanish Nav...    False   \n",
       "509167  Turkey to drop child-sex assault bill after pr...    False   \n",
       "509208  Eagles destroy nine WA mining drones and cost ...    False   \n",
       "509102      Death toll in India train derailment hits 146    False   \n",
       "509178  Turkish President Erdogan:  I can t say if Isr...    False   \n",
       "509093  Vancouver mayor on housing crisis:  I never dr...    False   \n",
       "509131  British PM signals £2bn a year science funding...    False   \n",
       "509106  Japan earthquake: 7.4 magnitude quake prompts ...    False   \n",
       "509147  Britain tells Trump -  There is no vacancy  fo...    False   \n",
       "509118  Lockheed Martin Lands Massive $1.2 Billion Con...    False   \n",
       "509144  Rice farming in India much older than thought,...    False   \n",
       "509087  Ukraine detains two Russian soldiers near Crim...    False   \n",
       "509107  India All Set to Launch a $2 Billion Renewable...    False   \n",
       "509108  Jean-Claude Juncker mounts fresh call for Euro...    False   \n",
       "509142  Turkey s PM withdraws bill that would pardon m...    False   \n",
       "509088  New Zealand hit by 6.3 magnitude earthquake in...    False   \n",
       "509094  It s time to decriminalize drugs, commission r...    False   \n",
       "\n",
       "                     author   category  \n",
       "509191              LenonTV  worldnews  \n",
       "509188   Short_Term_Account  worldnews  \n",
       "509200            rawrstevo  worldnews  \n",
       "509155            cholopapi  worldnews  \n",
       "509167                ICASL  worldnews  \n",
       "509208   Short_Term_Account  worldnews  \n",
       "509102            doctor316  worldnews  \n",
       "509178                ICASL  worldnews  \n",
       "509093      ManiaforBeatles  worldnews  \n",
       "509131  cyanocittaetprocyon  worldnews  \n",
       "509106        hamzatahir671  worldnews  \n",
       "509147      ManiaforBeatles  worldnews  \n",
       "509118             bob21doh  worldnews  \n",
       "509144            avatharam  worldnews  \n",
       "509087             krolique  worldnews  \n",
       "509107               tewrld  worldnews  \n",
       "509108      Alexandra-perez  worldnews  \n",
       "509142            Jurryaany  worldnews  \n",
       "509088            Gecko5567  worldnews  \n",
       "509094          maxwellhill  worldnews  "
      ]
     },
     "metadata": {},
     "output_type": "display_data"
    }
   ],
   "source": [
    "# Check vote stats\n",
    "\n",
    "df_avg_count = df.groupby(['date_created']).apply(lambda x: ( x['up_votes'].sum(), x['up_votes'].count()  ) ).reset_index()\n",
    "df_avg_count['sum'] = df_avg_count[0].apply(lambda x: x[0])\n",
    "df_avg_count['cnt'] = df_avg_count[0].apply(lambda x: x[1])\n",
    "\n",
    "df_avg_count = df_avg_count[['date_created', 'sum', 'cnt']].set_index('date_created')\n",
    "\n",
    "\n",
    "date_index =  [ each.strftime(\"%Y-%m-%d\") for each in \\\n",
    "               pd.date_range(start=min_date.strftime(\"%Y-%m-%d\"), end=max_date.strftime(\"%Y-%m-%d\"))]\n",
    "df_avg_count = df_avg_count.reindex(date_index, fill_value=0)\n",
    "#df_avg_count['tol_val'] = df_avg_count.apply(lambda x: x['avg']*x['cnt'], axis=1)\n",
    "\n",
    "def every_seven_day(values):\n",
    "    N = len(values)\n",
    "    output =  np.sum(values)\n",
    "    return output\n",
    "\n",
    "df_avg_count['sum'] = df_avg_count['sum'].rolling(28).apply(every_seven_day, raw=True)\n",
    "df_avg_count['cnt'] = df_avg_count['cnt'].rolling(28).apply(every_seven_day, raw=True)\n",
    "df_avg_count['avg_weekly'] = df_avg_count.apply(lambda x: x['sum']/x['cnt'], axis= 1)\n",
    "df_avg_count.reset_index()[['date_created', 'avg_weekly']]\n",
    "\n",
    "dict_thresh = df_avg_count.reset_index()[['date_created', 'avg_weekly']].iloc[27:, :];\n",
    "first_date = dict_thresh['date_created'].min()\n",
    "dict_thresh = dict(zip(dict_thresh['date_created'],dict_thresh['avg_weekly'] ))\n",
    "\n",
    "df_sel = df[df['date_created']>=first_date].reset_index(drop=True)\n",
    "df_sel['label']     = df_sel.apply(lambda x: x['up_votes'] >= dict_thresh[x['date_created']], axis=1) \n",
    "df_sel['threshold'] = df_sel.apply(lambda x: dict_thresh[x['date_created']], axis=1) \n",
    "\n",
    "#display(df[df['date_created'] == '2016-11-22'])\n",
    "display(  df[df['date_created'] == '2016-11-22'].sort_values('up_votes').tail(20)  )\n"
   ]
  },
  {
   "cell_type": "code",
   "execution_count": 14,
   "id": "1a2d030c",
   "metadata": {},
   "outputs": [
    {
     "name": "stdout",
     "output_type": "stream",
     "text": [
      "Number of pos:  53996  Out of:  508901\n",
      "53996\n"
     ]
    },
    {
     "data": {
      "image/png": "[encoded data removed]",
      "text/plain": [
       "<Figure size 498.132x307.863 with 1 Axes>"
      ]
     },
     "metadata": {
      "needs_background": "light"
     },
     "output_type": "display_data"
    }
   ],
   "source": [
    "fig1, ax1 = plt.subplots(1, 1, figsize=set_size(width=1000, height_adjust=1, fraction=0.5, subplots=(1,1)))\n",
    "ax1 = df_sel[df_sel['label'] == True].plot.line(x='time_created', y='up_votes', rot=0, style='.', color='red' , ax=ax1)\n",
    "ax1 = df_sel[df_sel['label'] == False].plot.line(x='time_created', y='up_votes', rot=0, style='.', color='blue' , ax=ax1)\n",
    "ax1.legend(['pos','neg'])\n",
    "print(\"Number of pos: \", df_sel['label'].values.sum(), \" Out of: \", df_sel.shape[0])\n",
    "\n",
    "print( df_sel['label'].values.sum() )"
   ]
  },
  {
   "cell_type": "markdown",
   "id": "fd6c2806",
   "metadata": {},
   "source": [
    "#### If we only use average to determine, very popular posts will cause strong bias.\n",
    "#### 075 percientt uqnatin "
   ]
  },
  {
   "cell_type": "code",
   "execution_count": 15,
   "id": "8944a9d8",
   "metadata": {},
   "outputs": [],
   "source": [
    "date_index =  [ each.strftime(\"%Y-%m-%d\") for each in \\\n",
    "               pd.date_range(start=min_date.strftime(\"%Y-%m-%d\"), end=max_date.strftime(\"%Y-%m-%d\"))]\n",
    "df_array = df.groupby(['date_created']).apply(lambda x: np.stack(x['up_votes'])).rename('array').reindex(date_index, fill_value=[]).reset_index()\n",
    "#display(df_array)\n",
    "df_array['date_created_ym'] =  df_array['date_created'].apply( lambda x: pd.to_datetime(x).strftime('%Y-%m'))\n",
    "df_ym_quan = df_array.groupby('date_created_ym').apply(lambda x: np.quantile( np.hstack(x['array']), 0.75) ).rename('thresh').reset_index()\n",
    "\n",
    "#df_array['075percent'] = df_array.rolling(28).apply(lambda x: every_seven_day(x['array']), raw=True)\n",
    "\n",
    "#display(df_ym_quan)\n",
    "dict_thresh = dict(zip(df_ym_quan['date_created_ym'],df_ym_quan['thresh'] ))"
   ]
  },
  {
   "cell_type": "code",
   "execution_count": 16,
   "id": "833dab83",
   "metadata": {},
   "outputs": [
    {
     "data": {
      "text/html": [
       "<div>\n",
       "<style scoped>\n",
       "    .dataframe tbody tr th:only-of-type {\n",
       "        vertical-align: middle;\n",
       "    }\n",
       "\n",
       "    .dataframe tbody tr th {\n",
       "        vertical-align: top;\n",
       "    }\n",
       "\n",
       "    .dataframe thead th {\n",
       "        text-align: right;\n",
       "    }\n",
       "</style>\n",
       "<table border=\"1\" class=\"dataframe\">\n",
       "  <thead>\n",
       "    <tr style=\"text-align: right;\">\n",
       "      <th></th>\n",
       "      <th>time_created</th>\n",
       "      <th>date_created</th>\n",
       "      <th>up_votes</th>\n",
       "      <th>down_votes</th>\n",
       "      <th>title</th>\n",
       "      <th>over_18</th>\n",
       "      <th>author</th>\n",
       "      <th>category</th>\n",
       "      <th>label</th>\n",
       "      <th>threshold</th>\n",
       "    </tr>\n",
       "  </thead>\n",
       "  <tbody>\n",
       "    <tr>\n",
       "      <th>0</th>\n",
       "      <td>1203577161</td>\n",
       "      <td>2008-02-21</td>\n",
       "      <td>3</td>\n",
       "      <td>0</td>\n",
       "      <td>US Reactions To Pakistan Election Results Mixed</td>\n",
       "      <td>False</td>\n",
       "      <td>igeldard</td>\n",
       "      <td>worldnews</td>\n",
       "      <td>False</td>\n",
       "      <td>5.0</td>\n",
       "    </tr>\n",
       "    <tr>\n",
       "      <th>1</th>\n",
       "      <td>1203577230</td>\n",
       "      <td>2008-02-21</td>\n",
       "      <td>3</td>\n",
       "      <td>0</td>\n",
       "      <td>Iraq Unemployment Too Becomes an Epidemic</td>\n",
       "      <td>False</td>\n",
       "      <td>igeldard</td>\n",
       "      <td>worldnews</td>\n",
       "      <td>False</td>\n",
       "      <td>5.0</td>\n",
       "    </tr>\n",
       "    <tr>\n",
       "      <th>2</th>\n",
       "      <td>1203577396</td>\n",
       "      <td>2008-02-21</td>\n",
       "      <td>9</td>\n",
       "      <td>0</td>\n",
       "      <td>Taxpayers left with Northern Rock  rubbish  th...</td>\n",
       "      <td>False</td>\n",
       "      <td>igeldard</td>\n",
       "      <td>worldnews</td>\n",
       "      <td>True</td>\n",
       "      <td>5.0</td>\n",
       "    </tr>\n",
       "    <tr>\n",
       "      <th>3</th>\n",
       "      <td>1203577541</td>\n",
       "      <td>2008-02-21</td>\n",
       "      <td>8</td>\n",
       "      <td>0</td>\n",
       "      <td>Britain s FEMALE Spitfire pilots to receive ba...</td>\n",
       "      <td>False</td>\n",
       "      <td>igeldard</td>\n",
       "      <td>worldnews</td>\n",
       "      <td>True</td>\n",
       "      <td>5.0</td>\n",
       "    </tr>\n",
       "    <tr>\n",
       "      <th>4</th>\n",
       "      <td>1203584599</td>\n",
       "      <td>2008-02-21</td>\n",
       "      <td>4</td>\n",
       "      <td>0</td>\n",
       "      <td>E. Timor s Ramos-Horta Out of Coma</td>\n",
       "      <td>False</td>\n",
       "      <td>PaperLess</td>\n",
       "      <td>worldnews</td>\n",
       "      <td>False</td>\n",
       "      <td>5.0</td>\n",
       "    </tr>\n",
       "    <tr>\n",
       "      <th>...</th>\n",
       "      <td>...</td>\n",
       "      <td>...</td>\n",
       "      <td>...</td>\n",
       "      <td>...</td>\n",
       "      <td>...</td>\n",
       "      <td>...</td>\n",
       "      <td>...</td>\n",
       "      <td>...</td>\n",
       "      <td>...</td>\n",
       "      <td>...</td>\n",
       "    </tr>\n",
       "    <tr>\n",
       "      <th>508896</th>\n",
       "      <td>1479816764</td>\n",
       "      <td>2016-11-22</td>\n",
       "      <td>5</td>\n",
       "      <td>0</td>\n",
       "      <td>Heil Trump : Donald Trump s  alt-right  white...</td>\n",
       "      <td>False</td>\n",
       "      <td>nonamenoglory</td>\n",
       "      <td>worldnews</td>\n",
       "      <td>False</td>\n",
       "      <td>21.0</td>\n",
       "    </tr>\n",
       "    <tr>\n",
       "      <th>508897</th>\n",
       "      <td>1479816772</td>\n",
       "      <td>2016-11-22</td>\n",
       "      <td>1</td>\n",
       "      <td>0</td>\n",
       "      <td>There are people speculating that this could b...</td>\n",
       "      <td>False</td>\n",
       "      <td>SummerRay</td>\n",
       "      <td>worldnews</td>\n",
       "      <td>False</td>\n",
       "      <td>21.0</td>\n",
       "    </tr>\n",
       "    <tr>\n",
       "      <th>508898</th>\n",
       "      <td>1479817056</td>\n",
       "      <td>2016-11-22</td>\n",
       "      <td>1</td>\n",
       "      <td>0</td>\n",
       "      <td>Professor receives Arab Researchers Award</td>\n",
       "      <td>False</td>\n",
       "      <td>AUSharjah</td>\n",
       "      <td>worldnews</td>\n",
       "      <td>False</td>\n",
       "      <td>21.0</td>\n",
       "    </tr>\n",
       "    <tr>\n",
       "      <th>508899</th>\n",
       "      <td>1479817157</td>\n",
       "      <td>2016-11-22</td>\n",
       "      <td>1</td>\n",
       "      <td>0</td>\n",
       "      <td>Nigel Farage attacks response to Trump ambassa...</td>\n",
       "      <td>False</td>\n",
       "      <td>smilyflower</td>\n",
       "      <td>worldnews</td>\n",
       "      <td>False</td>\n",
       "      <td>21.0</td>\n",
       "    </tr>\n",
       "    <tr>\n",
       "      <th>508900</th>\n",
       "      <td>1479817346</td>\n",
       "      <td>2016-11-22</td>\n",
       "      <td>1</td>\n",
       "      <td>0</td>\n",
       "      <td>Palestinian wielding knife shot dead in West B...</td>\n",
       "      <td>False</td>\n",
       "      <td>superislam</td>\n",
       "      <td>worldnews</td>\n",
       "      <td>False</td>\n",
       "      <td>21.0</td>\n",
       "    </tr>\n",
       "  </tbody>\n",
       "</table>\n",
       "<p>508901 rows × 10 columns</p>\n",
       "</div>"
      ],
      "text/plain": [
       "        time_created date_created  up_votes  down_votes  \\\n",
       "0         1203577161   2008-02-21         3           0   \n",
       "1         1203577230   2008-02-21         3           0   \n",
       "2         1203577396   2008-02-21         9           0   \n",
       "3         1203577541   2008-02-21         8           0   \n",
       "4         1203584599   2008-02-21         4           0   \n",
       "...              ...          ...       ...         ...   \n",
       "508896    1479816764   2016-11-22         5           0   \n",
       "508897    1479816772   2016-11-22         1           0   \n",
       "508898    1479817056   2016-11-22         1           0   \n",
       "508899    1479817157   2016-11-22         1           0   \n",
       "508900    1479817346   2016-11-22         1           0   \n",
       "\n",
       "                                                    title  over_18  \\\n",
       "0         US Reactions To Pakistan Election Results Mixed    False   \n",
       "1               Iraq Unemployment Too Becomes an Epidemic    False   \n",
       "2       Taxpayers left with Northern Rock  rubbish  th...    False   \n",
       "3       Britain s FEMALE Spitfire pilots to receive ba...    False   \n",
       "4                      E. Timor s Ramos-Horta Out of Coma    False   \n",
       "...                                                   ...      ...   \n",
       "508896   Heil Trump : Donald Trump s  alt-right  white...    False   \n",
       "508897  There are people speculating that this could b...    False   \n",
       "508898          Professor receives Arab Researchers Award    False   \n",
       "508899  Nigel Farage attacks response to Trump ambassa...    False   \n",
       "508900  Palestinian wielding knife shot dead in West B...    False   \n",
       "\n",
       "               author   category  label  threshold  \n",
       "0            igeldard  worldnews  False        5.0  \n",
       "1            igeldard  worldnews  False        5.0  \n",
       "2            igeldard  worldnews   True        5.0  \n",
       "3            igeldard  worldnews   True        5.0  \n",
       "4           PaperLess  worldnews  False        5.0  \n",
       "...               ...        ...    ...        ...  \n",
       "508896  nonamenoglory  worldnews  False       21.0  \n",
       "508897      SummerRay  worldnews  False       21.0  \n",
       "508898      AUSharjah  worldnews  False       21.0  \n",
       "508899    smilyflower  worldnews  False       21.0  \n",
       "508900     superislam  worldnews  False       21.0  \n",
       "\n",
       "[508901 rows x 10 columns]"
      ]
     },
     "metadata": {},
     "output_type": "display_data"
    }
   ],
   "source": [
    "df_sel['label']     = df_sel.apply(lambda x: x['up_votes'] >= dict_thresh[x['date_created'][0:7]], axis=1) \n",
    "df_sel['threshold'] = df_sel.apply(lambda x: dict_thresh[x['date_created'][0:7]], axis=1) \n",
    "display(df_sel)"
   ]
  },
  {
   "cell_type": "code",
   "execution_count": 17,
   "id": "d18aab0c",
   "metadata": {},
   "outputs": [
    {
     "name": "stdout",
     "output_type": "stream",
     "text": [
      "Number of pos:  130251  Out of:  508901\n",
      "130251\n"
     ]
    },
    {
     "data": {
      "text/html": [
       "<div>\n",
       "<style scoped>\n",
       "    .dataframe tbody tr th:only-of-type {\n",
       "        vertical-align: middle;\n",
       "    }\n",
       "\n",
       "    .dataframe tbody tr th {\n",
       "        vertical-align: top;\n",
       "    }\n",
       "\n",
       "    .dataframe thead th {\n",
       "        text-align: right;\n",
       "    }\n",
       "</style>\n",
       "<table border=\"1\" class=\"dataframe\">\n",
       "  <thead>\n",
       "    <tr style=\"text-align: right;\">\n",
       "      <th></th>\n",
       "      <th>time_created</th>\n",
       "      <th>date_created</th>\n",
       "      <th>up_votes</th>\n",
       "      <th>down_votes</th>\n",
       "      <th>title</th>\n",
       "      <th>over_18</th>\n",
       "      <th>author</th>\n",
       "      <th>category</th>\n",
       "      <th>label</th>\n",
       "      <th>threshold</th>\n",
       "    </tr>\n",
       "  </thead>\n",
       "  <tbody>\n",
       "    <tr>\n",
       "      <th>506195</th>\n",
       "      <td>1478906001</td>\n",
       "      <td>2016-11-11</td>\n",
       "      <td>1</td>\n",
       "      <td>0</td>\n",
       "      <td>Brazil politicians linked to Petrobras scandal...</td>\n",
       "      <td>False</td>\n",
       "      <td>CodDex</td>\n",
       "      <td>worldnews</td>\n",
       "      <td>False</td>\n",
       "      <td>21.0</td>\n",
       "    </tr>\n",
       "    <tr>\n",
       "      <th>507895</th>\n",
       "      <td>1479457557</td>\n",
       "      <td>2016-11-18</td>\n",
       "      <td>1</td>\n",
       "      <td>0</td>\n",
       "      <td>Many Indians are offering to donate their kidn...</td>\n",
       "      <td>False</td>\n",
       "      <td>bitoffreshair</td>\n",
       "      <td>worldnews</td>\n",
       "      <td>False</td>\n",
       "      <td>21.0</td>\n",
       "    </tr>\n",
       "    <tr>\n",
       "      <th>507907</th>\n",
       "      <td>1479461501</td>\n",
       "      <td>2016-11-18</td>\n",
       "      <td>1</td>\n",
       "      <td>0</td>\n",
       "      <td>Abe Woos Trump With Golf, Just Like His Grandf...</td>\n",
       "      <td>False</td>\n",
       "      <td>ManiaforBeatles</td>\n",
       "      <td>worldnews</td>\n",
       "      <td>False</td>\n",
       "      <td>21.0</td>\n",
       "    </tr>\n",
       "    <tr>\n",
       "      <th>507917</th>\n",
       "      <td>1479464178</td>\n",
       "      <td>2016-11-18</td>\n",
       "      <td>1</td>\n",
       "      <td>0</td>\n",
       "      <td>David Attenborough gets his own app</td>\n",
       "      <td>False</td>\n",
       "      <td>Heskimo88</td>\n",
       "      <td>worldnews</td>\n",
       "      <td>False</td>\n",
       "      <td>21.0</td>\n",
       "    </tr>\n",
       "    <tr>\n",
       "      <th>507919</th>\n",
       "      <td>1479464299</td>\n",
       "      <td>2016-11-18</td>\n",
       "      <td>1</td>\n",
       "      <td>0</td>\n",
       "      <td>Victims  group withdraws from historical child...</td>\n",
       "      <td>False</td>\n",
       "      <td>Ammar_Shabbir</td>\n",
       "      <td>worldnews</td>\n",
       "      <td>False</td>\n",
       "      <td>21.0</td>\n",
       "    </tr>\n",
       "    <tr>\n",
       "      <th>...</th>\n",
       "      <td>...</td>\n",
       "      <td>...</td>\n",
       "      <td>...</td>\n",
       "      <td>...</td>\n",
       "      <td>...</td>\n",
       "      <td>...</td>\n",
       "      <td>...</td>\n",
       "      <td>...</td>\n",
       "      <td>...</td>\n",
       "      <td>...</td>\n",
       "    </tr>\n",
       "    <tr>\n",
       "      <th>504278</th>\n",
       "      <td>1478142085</td>\n",
       "      <td>2016-11-03</td>\n",
       "      <td>1</td>\n",
       "      <td>0</td>\n",
       "      <td>Mosul battle: Militiamen  torture  IS suspects...</td>\n",
       "      <td>False</td>\n",
       "      <td>phuocnguyen286</td>\n",
       "      <td>worldnews</td>\n",
       "      <td>False</td>\n",
       "      <td>21.0</td>\n",
       "    </tr>\n",
       "    <tr>\n",
       "      <th>504504</th>\n",
       "      <td>1478204036</td>\n",
       "      <td>2016-11-03</td>\n",
       "      <td>1</td>\n",
       "      <td>0</td>\n",
       "      <td>At least 19 killed after trains crash in Pakistan</td>\n",
       "      <td>False</td>\n",
       "      <td>Hypatia_Alexandria_</td>\n",
       "      <td>worldnews</td>\n",
       "      <td>False</td>\n",
       "      <td>21.0</td>\n",
       "    </tr>\n",
       "    <tr>\n",
       "      <th>504280</th>\n",
       "      <td>1478142852</td>\n",
       "      <td>2016-11-03</td>\n",
       "      <td>1</td>\n",
       "      <td>0</td>\n",
       "      <td>Search Resumes for 44 Missing From Indonesia B...</td>\n",
       "      <td>False</td>\n",
       "      <td>pitinglistrik</td>\n",
       "      <td>worldnews</td>\n",
       "      <td>False</td>\n",
       "      <td>21.0</td>\n",
       "    </tr>\n",
       "    <tr>\n",
       "      <th>504286</th>\n",
       "      <td>1478144678</td>\n",
       "      <td>2016-11-03</td>\n",
       "      <td>1</td>\n",
       "      <td>0</td>\n",
       "      <td>Hong Kong may ask Beijing to intervene over pr...</td>\n",
       "      <td>False</td>\n",
       "      <td>cyanocittaetprocyon</td>\n",
       "      <td>worldnews</td>\n",
       "      <td>False</td>\n",
       "      <td>21.0</td>\n",
       "    </tr>\n",
       "    <tr>\n",
       "      <th>504294</th>\n",
       "      <td>1478150009</td>\n",
       "      <td>2016-11-03</td>\n",
       "      <td>1</td>\n",
       "      <td>0</td>\n",
       "      <td>IS leader, Abu Bakr al-Baghdadi, confident in ...</td>\n",
       "      <td>False</td>\n",
       "      <td>just_the_Tayyip</td>\n",
       "      <td>worldnews</td>\n",
       "      <td>False</td>\n",
       "      <td>21.0</td>\n",
       "    </tr>\n",
       "  </tbody>\n",
       "</table>\n",
       "<p>300 rows × 10 columns</p>\n",
       "</div>"
      ],
      "text/plain": [
       "        time_created date_created  up_votes  down_votes  \\\n",
       "506195    1478906001   2016-11-11         1           0   \n",
       "507895    1479457557   2016-11-18         1           0   \n",
       "507907    1479461501   2016-11-18         1           0   \n",
       "507917    1479464178   2016-11-18         1           0   \n",
       "507919    1479464299   2016-11-18         1           0   \n",
       "...              ...          ...       ...         ...   \n",
       "504278    1478142085   2016-11-03         1           0   \n",
       "504504    1478204036   2016-11-03         1           0   \n",
       "504280    1478142852   2016-11-03         1           0   \n",
       "504286    1478144678   2016-11-03         1           0   \n",
       "504294    1478150009   2016-11-03         1           0   \n",
       "\n",
       "                                                    title  over_18  \\\n",
       "506195  Brazil politicians linked to Petrobras scandal...    False   \n",
       "507895  Many Indians are offering to donate their kidn...    False   \n",
       "507907  Abe Woos Trump With Golf, Just Like His Grandf...    False   \n",
       "507917                David Attenborough gets his own app    False   \n",
       "507919  Victims  group withdraws from historical child...    False   \n",
       "...                                                   ...      ...   \n",
       "504278  Mosul battle: Militiamen  torture  IS suspects...    False   \n",
       "504504  At least 19 killed after trains crash in Pakistan    False   \n",
       "504280  Search Resumes for 44 Missing From Indonesia B...    False   \n",
       "504286  Hong Kong may ask Beijing to intervene over pr...    False   \n",
       "504294  IS leader, Abu Bakr al-Baghdadi, confident in ...    False   \n",
       "\n",
       "                     author   category  label  threshold  \n",
       "506195               CodDex  worldnews  False       21.0  \n",
       "507895        bitoffreshair  worldnews  False       21.0  \n",
       "507907      ManiaforBeatles  worldnews  False       21.0  \n",
       "507917            Heskimo88  worldnews  False       21.0  \n",
       "507919        Ammar_Shabbir  worldnews  False       21.0  \n",
       "...                     ...        ...    ...        ...  \n",
       "504278       phuocnguyen286  worldnews  False       21.0  \n",
       "504504  Hypatia_Alexandria_  worldnews  False       21.0  \n",
       "504280        pitinglistrik  worldnews  False       21.0  \n",
       "504286  cyanocittaetprocyon  worldnews  False       21.0  \n",
       "504294      just_the_Tayyip  worldnews  False       21.0  \n",
       "\n",
       "[300 rows x 10 columns]"
      ]
     },
     "metadata": {},
     "output_type": "display_data"
    },
    {
     "data": {
      "text/html": [
       "<div>\n",
       "<style scoped>\n",
       "    .dataframe tbody tr th:only-of-type {\n",
       "        vertical-align: middle;\n",
       "    }\n",
       "\n",
       "    .dataframe tbody tr th {\n",
       "        vertical-align: top;\n",
       "    }\n",
       "\n",
       "    .dataframe thead th {\n",
       "        text-align: right;\n",
       "    }\n",
       "</style>\n",
       "<table border=\"1\" class=\"dataframe\">\n",
       "  <thead>\n",
       "    <tr style=\"text-align: right;\">\n",
       "      <th></th>\n",
       "      <th>count</th>\n",
       "      <th>mean</th>\n",
       "      <th>std</th>\n",
       "      <th>min</th>\n",
       "      <th>25%</th>\n",
       "      <th>50%</th>\n",
       "      <th>75%</th>\n",
       "      <th>max</th>\n",
       "    </tr>\n",
       "  </thead>\n",
       "  <tbody>\n",
       "    <tr>\n",
       "      <th>time_created</th>\n",
       "      <td>5252.0</td>\n",
       "      <td>1.478898e+09</td>\n",
       "      <td>557894.104697</td>\n",
       "      <td>1.477959e+09</td>\n",
       "      <td>1.478374e+09</td>\n",
       "      <td>1.478950e+09</td>\n",
       "      <td>1.479377e+09</td>\n",
       "      <td>1.479817e+09</td>\n",
       "    </tr>\n",
       "    <tr>\n",
       "      <th>up_votes</th>\n",
       "      <td>5252.0</td>\n",
       "      <td>1.938006e+02</td>\n",
       "      <td>849.791156</td>\n",
       "      <td>0.000000e+00</td>\n",
       "      <td>2.000000e+00</td>\n",
       "      <td>6.000000e+00</td>\n",
       "      <td>2.100000e+01</td>\n",
       "      <td>9.298000e+03</td>\n",
       "    </tr>\n",
       "    <tr>\n",
       "      <th>down_votes</th>\n",
       "      <td>5252.0</td>\n",
       "      <td>0.000000e+00</td>\n",
       "      <td>0.000000</td>\n",
       "      <td>0.000000e+00</td>\n",
       "      <td>0.000000e+00</td>\n",
       "      <td>0.000000e+00</td>\n",
       "      <td>0.000000e+00</td>\n",
       "      <td>0.000000e+00</td>\n",
       "    </tr>\n",
       "    <tr>\n",
       "      <th>threshold</th>\n",
       "      <td>5252.0</td>\n",
       "      <td>2.100000e+01</td>\n",
       "      <td>0.000000</td>\n",
       "      <td>2.100000e+01</td>\n",
       "      <td>2.100000e+01</td>\n",
       "      <td>2.100000e+01</td>\n",
       "      <td>2.100000e+01</td>\n",
       "      <td>2.100000e+01</td>\n",
       "    </tr>\n",
       "  </tbody>\n",
       "</table>\n",
       "</div>"
      ],
      "text/plain": [
       "               count          mean            std           min           25%  \\\n",
       "time_created  5252.0  1.478898e+09  557894.104697  1.477959e+09  1.478374e+09   \n",
       "up_votes      5252.0  1.938006e+02     849.791156  0.000000e+00  2.000000e+00   \n",
       "down_votes    5252.0  0.000000e+00       0.000000  0.000000e+00  0.000000e+00   \n",
       "threshold     5252.0  2.100000e+01       0.000000  2.100000e+01  2.100000e+01   \n",
       "\n",
       "                       50%           75%           max  \n",
       "time_created  1.478950e+09  1.479377e+09  1.479817e+09  \n",
       "up_votes      6.000000e+00  2.100000e+01  9.298000e+03  \n",
       "down_votes    0.000000e+00  0.000000e+00  0.000000e+00  \n",
       "threshold     2.100000e+01  2.100000e+01  2.100000e+01  "
      ]
     },
     "metadata": {},
     "output_type": "display_data"
    },
    {
     "data": {
      "image/png": "[encoded data removed]",
      "text/plain": [
       "<Figure size 498.132x307.863 with 1 Axes>"
      ]
     },
     "metadata": {
      "needs_background": "light"
     },
     "output_type": "display_data"
    }
   ],
   "source": [
    "fig1, ax1 = plt.subplots(1, 1, figsize=set_size(width=1000, height_adjust=1, fraction=0.5, subplots=(1,1)))\n",
    "ax1 = df_sel[df_sel['label'] == True].plot.line(x='time_created', y='up_votes', rot=0, style='.', color='red' , ax=ax1)\n",
    "ax1 = df_sel[df_sel['label'] == False].plot.line(x='time_created', y='up_votes', rot=0, style='.', color='blue' , ax=ax1)\n",
    "ax1.legend(['pos','neg'])\n",
    "ax1.set_yscale('log')\n",
    "print(\"Number of pos: \", df_sel['label'].values.sum(), \" Out of: \", df_sel.shape[0])\n",
    "\n",
    "print( df_sel['label'].values.sum() )\n",
    "display( df_sel[df_sel['date_created'] >= '2016-11-01'].sort_values('up_votes').head(1000).tail(300)  )\n",
    "display(df_sel[df_sel['date_created'] >= '2016-11-01'].describe().transpose())"
   ]
  },
  {
   "cell_type": "code",
   "execution_count": null,
   "id": "4e36444c",
   "metadata": {},
   "outputs": [],
   "source": []
  },
  {
   "cell_type": "markdown",
   "id": "ae52d514",
   "metadata": {},
   "source": []
  },
  {
   "cell_type": "code",
   "execution_count": null,
   "id": "1b680b4f",
   "metadata": {},
   "outputs": [],
   "source": []
  },
  {
   "cell_type": "code",
   "execution_count": 11,
   "id": "9f705db2",
   "metadata": {},
   "outputs": [],
   "source": [
    "#df = pd.read_csv('Eluvio_DS_Challenge.csv')"
   ]
  },
  {
   "cell_type": "code",
   "execution_count": 95,
   "id": "7f81c412",
   "metadata": {},
   "outputs": [
    {
     "data": {
      "text/html": [
       "<div>\n",
       "<style scoped>\n",
       "    .dataframe tbody tr th:only-of-type {\n",
       "        vertical-align: middle;\n",
       "    }\n",
       "\n",
       "    .dataframe tbody tr th {\n",
       "        vertical-align: top;\n",
       "    }\n",
       "\n",
       "    .dataframe thead th {\n",
       "        text-align: right;\n",
       "    }\n",
       "</style>\n",
       "<table border=\"1\" class=\"dataframe\">\n",
       "  <thead>\n",
       "    <tr style=\"text-align: right;\">\n",
       "      <th></th>\n",
       "      <th>contract</th>\n",
       "      <th>orig</th>\n",
       "    </tr>\n",
       "  </thead>\n",
       "  <tbody>\n",
       "    <tr>\n",
       "      <th>0</th>\n",
       "      <td>ain't</td>\n",
       "      <td>am not / are not / is not / has not / have not</td>\n",
       "    </tr>\n",
       "    <tr>\n",
       "      <th>1</th>\n",
       "      <td>aren't</td>\n",
       "      <td>are not / am not</td>\n",
       "    </tr>\n",
       "    <tr>\n",
       "      <th>2</th>\n",
       "      <td>can't</td>\n",
       "      <td>cannot</td>\n",
       "    </tr>\n",
       "    <tr>\n",
       "      <th>3</th>\n",
       "      <td>can't've</td>\n",
       "      <td>cannot have</td>\n",
       "    </tr>\n",
       "    <tr>\n",
       "      <th>4</th>\n",
       "      <td>'cause</td>\n",
       "      <td>because</td>\n",
       "    </tr>\n",
       "  </tbody>\n",
       "</table>\n",
       "</div>"
      ],
      "text/plain": [
       "   contract                                            orig\n",
       "0     ain't  am not / are not / is not / has not / have not\n",
       "1    aren't                                are not / am not\n",
       "2     can't                                          cannot\n",
       "3  can't've                                     cannot have\n",
       "4    'cause                                         because"
      ]
     },
     "metadata": {},
     "output_type": "display_data"
    }
   ],
   "source": [
    "# read-in contractions\n",
    "contractions = pd.read_csv('contractions.csv')\n",
    "display(contractions.head(5))\n",
    "contractions = dict(zip(contractions['contract'], contractions['orig']))"
   ]
  },
  {
   "cell_type": "code",
   "execution_count": 96,
   "id": "231b976f",
   "metadata": {},
   "outputs": [],
   "source": [
    "def clean_text(text):\n",
    "    '''Text Preprocessing '''\n",
    "    remove_stopwords = True\n",
    "    # Convert words to lower case\n",
    "    text = text.lower()\n",
    "    \n",
    "    # Expand contractions\n",
    "    if True:\n",
    "        text = text.split()\n",
    "        new_text = []\n",
    "        for word in text:\n",
    "            if word in contractions:\n",
    "                new_text.append(contractions[word])\n",
    "            else:\n",
    "                new_text.append(word)\n",
    "        text = \" \".join(new_text)\n",
    "    \n",
    "    # Format words and remove unwanted characters\n",
    "    text = re.sub(r'https?:\\/\\/.*[\\r\\n]*', '', text, flags=re.MULTILINE)\n",
    "    text = re.sub(r'\\<a href', ' ', text)\n",
    "    text = re.sub(r'&amp;', '', text) \n",
    "    text = re.sub(r'[_\"\\-;%()|+&=*%.,!?:#$@\\[\\]/]', ' ', text)\n",
    "    text = re.sub(r'<br />', ' ', text)\n",
    "    text = re.sub(r'\\'', ' ', text)\n",
    "    \n",
    "    # remove stopwords\n",
    "    if remove_stopwords:\n",
    "        text = text.split()\n",
    "        stops = set(stopwords.words(\"english\"))\n",
    "        text = [w for w in text if not w in stops]\n",
    "        text = \" \".join(text)\n",
    "\n",
    "    # Tokenize each word\n",
    "    text =  nltk.WordPunctTokenizer().tokenize(text)\n",
    "    \n",
    "    # Lemmatize each token\n",
    "    lemm = nltk.stem.WordNetLemmatizer()\n",
    "    text = list(map(lambda word:list(map(lemm.lemmatize, word)), text))\n",
    "    \n",
    "    return text"
   ]
  },
  {
   "cell_type": "code",
   "execution_count": 99,
   "id": "a829e9a0",
   "metadata": {},
   "outputs": [],
   "source": [
    "df_sel['title_clean'] = df_sel.apply(lambda x: clean_text(x['title']), axis=1)\n",
    "df_sel['title_clean'] = df_sel['title_clean'].apply(lambda x: [\"\".join(each) for each in x])"
   ]
  },
  {
   "cell_type": "code",
   "execution_count": 107,
   "id": "89af5464",
   "metadata": {},
   "outputs": [
    {
     "data": {
      "text/html": [
       "<div>\n",
       "<style scoped>\n",
       "    .dataframe tbody tr th:only-of-type {\n",
       "        vertical-align: middle;\n",
       "    }\n",
       "\n",
       "    .dataframe tbody tr th {\n",
       "        vertical-align: top;\n",
       "    }\n",
       "\n",
       "    .dataframe thead th {\n",
       "        text-align: right;\n",
       "    }\n",
       "</style>\n",
       "<table border=\"1\" class=\"dataframe\">\n",
       "  <thead>\n",
       "    <tr style=\"text-align: right;\">\n",
       "      <th></th>\n",
       "      <th>time_created</th>\n",
       "      <th>date_created</th>\n",
       "      <th>up_votes</th>\n",
       "      <th>down_votes</th>\n",
       "      <th>title</th>\n",
       "      <th>over_18</th>\n",
       "      <th>author</th>\n",
       "      <th>category</th>\n",
       "      <th>label</th>\n",
       "      <th>threshold</th>\n",
       "      <th>title_clean</th>\n",
       "    </tr>\n",
       "  </thead>\n",
       "  <tbody>\n",
       "    <tr>\n",
       "      <th>0</th>\n",
       "      <td>1203577161</td>\n",
       "      <td>2008-02-21</td>\n",
       "      <td>3</td>\n",
       "      <td>0</td>\n",
       "      <td>US Reactions To Pakistan Election Results Mixed</td>\n",
       "      <td>False</td>\n",
       "      <td>igeldard</td>\n",
       "      <td>worldnews</td>\n",
       "      <td>False</td>\n",
       "      <td>5.0</td>\n",
       "      <td>[us, reactions, pakistan, election, results, m...</td>\n",
       "    </tr>\n",
       "    <tr>\n",
       "      <th>1</th>\n",
       "      <td>1203577230</td>\n",
       "      <td>2008-02-21</td>\n",
       "      <td>3</td>\n",
       "      <td>0</td>\n",
       "      <td>Iraq Unemployment Too Becomes an Epidemic</td>\n",
       "      <td>False</td>\n",
       "      <td>igeldard</td>\n",
       "      <td>worldnews</td>\n",
       "      <td>False</td>\n",
       "      <td>5.0</td>\n",
       "      <td>[iraq, unemployment, becomes, epidemic]</td>\n",
       "    </tr>\n",
       "    <tr>\n",
       "      <th>2</th>\n",
       "      <td>1203577396</td>\n",
       "      <td>2008-02-21</td>\n",
       "      <td>9</td>\n",
       "      <td>0</td>\n",
       "      <td>Taxpayers left with Northern Rock  rubbish  th...</td>\n",
       "      <td>False</td>\n",
       "      <td>igeldard</td>\n",
       "      <td>worldnews</td>\n",
       "      <td>True</td>\n",
       "      <td>5.0</td>\n",
       "      <td>[taxpayers, left, northern, rock, rubbish, tha...</td>\n",
       "    </tr>\n",
       "    <tr>\n",
       "      <th>3</th>\n",
       "      <td>1203577541</td>\n",
       "      <td>2008-02-21</td>\n",
       "      <td>8</td>\n",
       "      <td>0</td>\n",
       "      <td>Britain s FEMALE Spitfire pilots to receive ba...</td>\n",
       "      <td>False</td>\n",
       "      <td>igeldard</td>\n",
       "      <td>worldnews</td>\n",
       "      <td>True</td>\n",
       "      <td>5.0</td>\n",
       "      <td>[britain, female, spitfire, pilots, receive, b...</td>\n",
       "    </tr>\n",
       "    <tr>\n",
       "      <th>4</th>\n",
       "      <td>1203584599</td>\n",
       "      <td>2008-02-21</td>\n",
       "      <td>4</td>\n",
       "      <td>0</td>\n",
       "      <td>E. Timor s Ramos-Horta Out of Coma</td>\n",
       "      <td>False</td>\n",
       "      <td>PaperLess</td>\n",
       "      <td>worldnews</td>\n",
       "      <td>False</td>\n",
       "      <td>5.0</td>\n",
       "      <td>[e, timor, ramos, horta, coma]</td>\n",
       "    </tr>\n",
       "    <tr>\n",
       "      <th>5</th>\n",
       "      <td>1203586639</td>\n",
       "      <td>2008-02-21</td>\n",
       "      <td>0</td>\n",
       "      <td>0</td>\n",
       "      <td>Biggest Brain Drain From UK In 50 Years</td>\n",
       "      <td>False</td>\n",
       "      <td>ThyLabyrinth</td>\n",
       "      <td>worldnews</td>\n",
       "      <td>False</td>\n",
       "      <td>5.0</td>\n",
       "      <td>[biggest, brain, drain, uk, 50, years]</td>\n",
       "    </tr>\n",
       "    <tr>\n",
       "      <th>6</th>\n",
       "      <td>1203589450</td>\n",
       "      <td>2008-02-21</td>\n",
       "      <td>0</td>\n",
       "      <td>0</td>\n",
       "      <td>Navy missile hits dying spy satellite, says P...</td>\n",
       "      <td>False</td>\n",
       "      <td>PaperLess</td>\n",
       "      <td>worldnews</td>\n",
       "      <td>False</td>\n",
       "      <td>5.0</td>\n",
       "      <td>[navy, missile, hits, dying, spy, satellite, s...</td>\n",
       "    </tr>\n",
       "    <tr>\n",
       "      <th>7</th>\n",
       "      <td>1203590839</td>\n",
       "      <td>2008-02-21</td>\n",
       "      <td>5</td>\n",
       "      <td>0</td>\n",
       "      <td>Israeli MP blames tolerance of gays for earthq...</td>\n",
       "      <td>False</td>\n",
       "      <td>moriquendo</td>\n",
       "      <td>worldnews</td>\n",
       "      <td>True</td>\n",
       "      <td>5.0</td>\n",
       "      <td>[israeli, mp, blames, tolerance, gays, earthqu...</td>\n",
       "    </tr>\n",
       "    <tr>\n",
       "      <th>8</th>\n",
       "      <td>1203591476</td>\n",
       "      <td>2008-02-21</td>\n",
       "      <td>6</td>\n",
       "      <td>0</td>\n",
       "      <td>Iranian cleric criticises Ahmadinejad for spea...</td>\n",
       "      <td>False</td>\n",
       "      <td>moriquendo</td>\n",
       "      <td>worldnews</td>\n",
       "      <td>True</td>\n",
       "      <td>5.0</td>\n",
       "      <td>[iranian, cleric, criticises, ahmadinejad, spe...</td>\n",
       "    </tr>\n",
       "    <tr>\n",
       "      <th>9</th>\n",
       "      <td>1203592553</td>\n",
       "      <td>2008-02-21</td>\n",
       "      <td>2</td>\n",
       "      <td>0</td>\n",
       "      <td>In wake of Kososvo independence senior Palesti...</td>\n",
       "      <td>False</td>\n",
       "      <td>moriquendo</td>\n",
       "      <td>worldnews</td>\n",
       "      <td>False</td>\n",
       "      <td>5.0</td>\n",
       "      <td>[wake, kososvo, independence, senior, palestin...</td>\n",
       "    </tr>\n",
       "    <tr>\n",
       "      <th>10</th>\n",
       "      <td>1203595144</td>\n",
       "      <td>2008-02-21</td>\n",
       "      <td>13</td>\n",
       "      <td>0</td>\n",
       "      <td>The Castropedia: Fidel s Cuba in facts and fig...</td>\n",
       "      <td>False</td>\n",
       "      <td>shenglong</td>\n",
       "      <td>worldnews</td>\n",
       "      <td>True</td>\n",
       "      <td>5.0</td>\n",
       "      <td>[castropedia, fidel, cuba, facts, figures, wor...</td>\n",
       "    </tr>\n",
       "    <tr>\n",
       "      <th>11</th>\n",
       "      <td>1203600901</td>\n",
       "      <td>2008-02-21</td>\n",
       "      <td>1</td>\n",
       "      <td>0</td>\n",
       "      <td>We will always turn to his arsenal of ideas</td>\n",
       "      <td>False</td>\n",
       "      <td>GirlGeorge</td>\n",
       "      <td>worldnews</td>\n",
       "      <td>False</td>\n",
       "      <td>5.0</td>\n",
       "      <td>[always, turn, arsenal, ideas]</td>\n",
       "    </tr>\n",
       "    <tr>\n",
       "      <th>12</th>\n",
       "      <td>1203601443</td>\n",
       "      <td>2008-02-21</td>\n",
       "      <td>4</td>\n",
       "      <td>0</td>\n",
       "      <td>Britain says U.S. rendition flights used base ...</td>\n",
       "      <td>False</td>\n",
       "      <td>EllieElliott</td>\n",
       "      <td>worldnews</td>\n",
       "      <td>False</td>\n",
       "      <td>5.0</td>\n",
       "      <td>[britain, says, u, rendition, flights, used, b...</td>\n",
       "    </tr>\n",
       "    <tr>\n",
       "      <th>13</th>\n",
       "      <td>1203605289</td>\n",
       "      <td>2008-02-21</td>\n",
       "      <td>3</td>\n",
       "      <td>0</td>\n",
       "      <td>U.S.-Backed Nabucco Pipeline Takes Baby Steps</td>\n",
       "      <td>False</td>\n",
       "      <td>jips</td>\n",
       "      <td>worldnews</td>\n",
       "      <td>False</td>\n",
       "      <td>5.0</td>\n",
       "      <td>[u, backed, nabucco, pipeline, takes, baby, st...</td>\n",
       "    </tr>\n",
       "    <tr>\n",
       "      <th>14</th>\n",
       "      <td>1203608223</td>\n",
       "      <td>2008-02-21</td>\n",
       "      <td>28</td>\n",
       "      <td>0</td>\n",
       "      <td>Banda Sisters: In one of India s poorest regio...</td>\n",
       "      <td>False</td>\n",
       "      <td>anonymgrl</td>\n",
       "      <td>worldnews</td>\n",
       "      <td>True</td>\n",
       "      <td>5.0</td>\n",
       "      <td>[banda, sisters, one, india, poorest, regions,...</td>\n",
       "    </tr>\n",
       "    <tr>\n",
       "      <th>15</th>\n",
       "      <td>1203609570</td>\n",
       "      <td>2008-02-21</td>\n",
       "      <td>2</td>\n",
       "      <td>0</td>\n",
       "      <td>Actually UK airports were used in renditions (...</td>\n",
       "      <td>False</td>\n",
       "      <td>andy4443</td>\n",
       "      <td>worldnews</td>\n",
       "      <td>False</td>\n",
       "      <td>5.0</td>\n",
       "      <td>[actually, uk, airports, used, renditions, dei...</td>\n",
       "    </tr>\n",
       "    <tr>\n",
       "      <th>16</th>\n",
       "      <td>1203609745</td>\n",
       "      <td>2008-02-21</td>\n",
       "      <td>1</td>\n",
       "      <td>0</td>\n",
       "      <td>Computer thefts in Brazil theft  linked to gas...</td>\n",
       "      <td>False</td>\n",
       "      <td>EllieElliott</td>\n",
       "      <td>worldnews</td>\n",
       "      <td>False</td>\n",
       "      <td>5.0</td>\n",
       "      <td>[computer, thefts, brazil, theft, linked, gas,...</td>\n",
       "    </tr>\n",
       "    <tr>\n",
       "      <th>17</th>\n",
       "      <td>1203614875</td>\n",
       "      <td>2008-02-21</td>\n",
       "      <td>0</td>\n",
       "      <td>0</td>\n",
       "      <td>So why can t I name my kid  Brfxxccxxmnpccccll...</td>\n",
       "      <td>False</td>\n",
       "      <td>NoSalt</td>\n",
       "      <td>worldnews</td>\n",
       "      <td>False</td>\n",
       "      <td>5.0</td>\n",
       "      <td>[name, kid, brfxxccxxmnpcccclll, mmnprxvclmnck...</td>\n",
       "    </tr>\n",
       "    <tr>\n",
       "      <th>18</th>\n",
       "      <td>1203615660</td>\n",
       "      <td>2008-02-21</td>\n",
       "      <td>4</td>\n",
       "      <td>0</td>\n",
       "      <td>American waterboarding in times gone by: the P...</td>\n",
       "      <td>False</td>\n",
       "      <td>WaterDragon</td>\n",
       "      <td>worldnews</td>\n",
       "      <td>False</td>\n",
       "      <td>5.0</td>\n",
       "      <td>[american, waterboarding, times, gone, philipp...</td>\n",
       "    </tr>\n",
       "    <tr>\n",
       "      <th>19</th>\n",
       "      <td>1203615997</td>\n",
       "      <td>2008-02-21</td>\n",
       "      <td>8</td>\n",
       "      <td>0</td>\n",
       "      <td>Australia confirms Iraq troop withdrawal</td>\n",
       "      <td>False</td>\n",
       "      <td>igeldard</td>\n",
       "      <td>worldnews</td>\n",
       "      <td>True</td>\n",
       "      <td>5.0</td>\n",
       "      <td>[australia, confirms, iraq, troop, withdrawal]</td>\n",
       "    </tr>\n",
       "  </tbody>\n",
       "</table>\n",
       "</div>"
      ],
      "text/plain": [
       "    time_created date_created  up_votes  down_votes  \\\n",
       "0     1203577161   2008-02-21         3           0   \n",
       "1     1203577230   2008-02-21         3           0   \n",
       "2     1203577396   2008-02-21         9           0   \n",
       "3     1203577541   2008-02-21         8           0   \n",
       "4     1203584599   2008-02-21         4           0   \n",
       "5     1203586639   2008-02-21         0           0   \n",
       "6     1203589450   2008-02-21         0           0   \n",
       "7     1203590839   2008-02-21         5           0   \n",
       "8     1203591476   2008-02-21         6           0   \n",
       "9     1203592553   2008-02-21         2           0   \n",
       "10    1203595144   2008-02-21        13           0   \n",
       "11    1203600901   2008-02-21         1           0   \n",
       "12    1203601443   2008-02-21         4           0   \n",
       "13    1203605289   2008-02-21         3           0   \n",
       "14    1203608223   2008-02-21        28           0   \n",
       "15    1203609570   2008-02-21         2           0   \n",
       "16    1203609745   2008-02-21         1           0   \n",
       "17    1203614875   2008-02-21         0           0   \n",
       "18    1203615660   2008-02-21         4           0   \n",
       "19    1203615997   2008-02-21         8           0   \n",
       "\n",
       "                                                title  over_18        author  \\\n",
       "0     US Reactions To Pakistan Election Results Mixed    False      igeldard   \n",
       "1           Iraq Unemployment Too Becomes an Epidemic    False      igeldard   \n",
       "2   Taxpayers left with Northern Rock  rubbish  th...    False      igeldard   \n",
       "3   Britain s FEMALE Spitfire pilots to receive ba...    False      igeldard   \n",
       "4                  E. Timor s Ramos-Horta Out of Coma    False     PaperLess   \n",
       "5             Biggest Brain Drain From UK In 50 Years    False  ThyLabyrinth   \n",
       "6    Navy missile hits dying spy satellite, says P...    False     PaperLess   \n",
       "7   Israeli MP blames tolerance of gays for earthq...    False    moriquendo   \n",
       "8   Iranian cleric criticises Ahmadinejad for spea...    False    moriquendo   \n",
       "9   In wake of Kososvo independence senior Palesti...    False    moriquendo   \n",
       "10  The Castropedia: Fidel s Cuba in facts and fig...    False     shenglong   \n",
       "11        We will always turn to his arsenal of ideas    False    GirlGeorge   \n",
       "12  Britain says U.S. rendition flights used base ...    False  EllieElliott   \n",
       "13      U.S.-Backed Nabucco Pipeline Takes Baby Steps    False          jips   \n",
       "14  Banda Sisters: In one of India s poorest regio...    False     anonymgrl   \n",
       "15  Actually UK airports were used in renditions (...    False      andy4443   \n",
       "16  Computer thefts in Brazil theft  linked to gas...    False  EllieElliott   \n",
       "17  So why can t I name my kid  Brfxxccxxmnpccccll...    False        NoSalt   \n",
       "18  American waterboarding in times gone by: the P...    False   WaterDragon   \n",
       "19           Australia confirms Iraq troop withdrawal    False      igeldard   \n",
       "\n",
       "     category  label  threshold  \\\n",
       "0   worldnews  False        5.0   \n",
       "1   worldnews  False        5.0   \n",
       "2   worldnews   True        5.0   \n",
       "3   worldnews   True        5.0   \n",
       "4   worldnews  False        5.0   \n",
       "5   worldnews  False        5.0   \n",
       "6   worldnews  False        5.0   \n",
       "7   worldnews   True        5.0   \n",
       "8   worldnews   True        5.0   \n",
       "9   worldnews  False        5.0   \n",
       "10  worldnews   True        5.0   \n",
       "11  worldnews  False        5.0   \n",
       "12  worldnews  False        5.0   \n",
       "13  worldnews  False        5.0   \n",
       "14  worldnews   True        5.0   \n",
       "15  worldnews  False        5.0   \n",
       "16  worldnews  False        5.0   \n",
       "17  worldnews  False        5.0   \n",
       "18  worldnews  False        5.0   \n",
       "19  worldnews   True        5.0   \n",
       "\n",
       "                                          title_clean  \n",
       "0   [us, reactions, pakistan, election, results, m...  \n",
       "1             [iraq, unemployment, becomes, epidemic]  \n",
       "2   [taxpayers, left, northern, rock, rubbish, tha...  \n",
       "3   [britain, female, spitfire, pilots, receive, b...  \n",
       "4                      [e, timor, ramos, horta, coma]  \n",
       "5              [biggest, brain, drain, uk, 50, years]  \n",
       "6   [navy, missile, hits, dying, spy, satellite, s...  \n",
       "7   [israeli, mp, blames, tolerance, gays, earthqu...  \n",
       "8   [iranian, cleric, criticises, ahmadinejad, spe...  \n",
       "9   [wake, kososvo, independence, senior, palestin...  \n",
       "10  [castropedia, fidel, cuba, facts, figures, wor...  \n",
       "11                     [always, turn, arsenal, ideas]  \n",
       "12  [britain, says, u, rendition, flights, used, b...  \n",
       "13  [u, backed, nabucco, pipeline, takes, baby, st...  \n",
       "14  [banda, sisters, one, india, poorest, regions,...  \n",
       "15  [actually, uk, airports, used, renditions, dei...  \n",
       "16  [computer, thefts, brazil, theft, linked, gas,...  \n",
       "17  [name, kid, brfxxccxxmnpcccclll, mmnprxvclmnck...  \n",
       "18  [american, waterboarding, times, gone, philipp...  \n",
       "19     [australia, confirms, iraq, troop, withdrawal]  "
      ]
     },
     "execution_count": 107,
     "metadata": {},
     "output_type": "execute_result"
    }
   ],
   "source": [
    "df_sel.head(20)\n",
    "#df_sel.to_csv('Eluvio_DS_Challenge_processes.csv', index=False)"
   ]
  },
  {
   "cell_type": "markdown",
   "id": "bf334135",
   "metadata": {},
   "source": [
    "# Work on simple models"
   ]
  },
  {
   "cell_type": "code",
   "execution_count": 18,
   "id": "407b41a3",
   "metadata": {},
   "outputs": [],
   "source": [
    "#============== Packages for word2vec ==============#\n",
    "from sklearn.feature_extraction.text import CountVectorizer, TfidfTransformer\n",
    "\n",
    "#============== Packages for classification ==============#\n",
    "from sklearn.linear_model import LinearRegression, PoissonRegressor\n",
    "from sklearn.preprocessing import normalize\n",
    "\n",
    "from sklearn.model_selection import KFold\n",
    "\n",
    "from sklearn.linear_model import LogisticRegression\n",
    "from sklearn.metrics import balanced_accuracy_score\n",
    "from sklearn.svm import SVC\n"
   ]
  },
  {
   "cell_type": "code",
   "execution_count": 19,
   "id": "519a9e94",
   "metadata": {},
   "outputs": [],
   "source": [
    "#========= Read in =========#\n",
    "df = pd.read_csv('Eluvio_DS_Challenge_processes.csv')\n"
   ]
  },
  {
   "cell_type": "code",
   "execution_count": 20,
   "id": "8f49824d",
   "metadata": {},
   "outputs": [],
   "source": [
    "#========= TDIDF =========#\n",
    "\n",
    "bow_converter = CountVectorizer(tokenizer=lambda doc: doc)\n",
    "x = bow_converter.fit_transform(df['title_clean'])\n",
    "\n",
    "words = bow_converter.get_feature_names()\n",
    "\n",
    "bigram_converter = CountVectorizer(tokenizer=lambda doc: doc,ngram_range=[2,2]) \n",
    "trigram_converter = CountVectorizer(tokenizer=lambda doc: doc, ngram_range=[3,3])\n",
    "\n",
    "tfidf_transform = TfidfTransformer(norm=None)\n",
    "X_tfidf = tfidf_transform.fit_transform(x)\n",
    "\n",
    "X_tfidf = normalize(X_tfidf,axis=1)\n"
   ]
  },
  {
   "cell_type": "code",
   "execution_count": 21,
   "id": "5206cb3c",
   "metadata": {},
   "outputs": [
    {
     "name": "stdout",
     "output_type": "stream",
     "text": [
      "n_pos:  130251 n_neg:  378650\n",
      "ls_b_accu:  0.500015057722\n"
     ]
    }
   ],
   "source": [
    "#========= Define Binary Labels =========#\n",
    "\n",
    "#========= Median positive and negative =========#\n",
    "y_true = df['label']\n",
    "print(\"n_pos: \", (y_true==1).sum(), \"n_neg: \", (y_true==0).sum() ) \n",
    "#========= Kfold Logistic Regression =========#\n",
    "\n",
    "kf = KFold(n_splits=3)\n",
    "\n",
    "ls_b_accu = []\n",
    "for train_index, test_index in kf.split(X_tfidf):\n",
    "    clf = LogisticRegression(random_state=0).fit(X_tfidf[train_index,:], y_true[train_index] )\n",
    "    y_pred = clf.predict(X_tfidf[test_index, :])\n",
    "    \n",
    "    baccu = balanced_accuracy_score(y_true[test_index], y_pred)\n",
    "    \n",
    "    #print(baccu)\n",
    "    ls_b_accu.append(baccu)\n",
    "print(\"ls_b_accu: \", np.mean(ls_b_accu))\n"
   ]
  },
  {
   "cell_type": "code",
   "execution_count": 89,
   "id": "0e3d15f6",
   "metadata": {},
   "outputs": [
    {
     "name": "stdout",
     "output_type": "stream",
     "text": [
      "n_pos:  130251 n_neg:  378650\n",
      "{False: False, True: True}\n"
     ]
    }
   ],
   "source": [
    "#========= Median positive and negative =========#\n",
    "y_true = df['label']\n",
    "print(\"n_pos: \", (y_true==1).sum(), \"n_neg: \", (y_true==0).sum() ) \n",
    "\n",
    "# example of a model defined with the sequential api\n",
    "from sklearn.model_selection import train_test_split\n",
    "\n",
    "X_train, X_test, y_train, y_test = train_test_split(X_tfidf, y_true, test_size=0.33, random_state=42)\n",
    "\n",
    "from tensorflow.keras import Sequential\n",
    "from tensorflow.keras.layers import Dense\n",
    "import tensorflow as tf\n",
    "from sklearn.metrics import f1_score\n",
    "from sklearn.utils import class_weight\n",
    "from tensorflow.keras.metrics import Metric\n",
    "from sklearn.metrics import balanced_accuracy_score\n",
    "\n",
    "class_weights = class_weight.compute_class_weight('balanced',\n",
    "                                                 np.unique(y_train),\n",
    "                                                 y_train)\n",
    "class_weights = dict(zip( np.unique(y_train), class_weights))\n",
    "sample\n",
    "print(dict(zip( np.unique(y_train), class_weights)) )\n",
    "\n"
   ]
  },
  {
   "cell_type": "code",
   "execution_count": 84,
   "id": "1ac59464",
   "metadata": {},
   "outputs": [
    {
     "name": "stdout",
     "output_type": "stream",
     "text": [
      "Model: \"sequential_20\"\n",
      "_________________________________________________________________\n",
      "Layer (type)                 Output Shape              Param #   \n",
      "=================================================================\n",
      "dense_58 (Dense)             (None, 10)                3610      \n",
      "_________________________________________________________________\n",
      "dense_59 (Dense)             (None, 2)                 22        \n",
      "_________________________________________________________________\n",
      "dense_60 (Dense)             (None, 1)                 3         \n",
      "=================================================================\n",
      "Total params: 3,635\n",
      "Trainable params: 3,635\n",
      "Non-trainable params: 0\n",
      "_________________________________________________________________\n"
     ]
    }
   ],
   "source": [
    "\n",
    "# Define a simple sequential model\n",
    "def create_model():\n",
    "    model = Sequential()\n",
    "    model.add(Dense(10, activation='relu', kernel_initializer='he_normal', input_shape=(X_train.shape[1],)))\n",
    "    model.add(Dense(2, activation= 'relu', kernel_initializer='he_normal'))\n",
    "    model.add(Dense(1, activation='sigmoid'))\n",
    "\n",
    "    # compile the model\n",
    "    model.compile(optimizer='adam', loss='binary_crossentropy', metrics=[tf.keras.metrics.BinaryAccuracy(name='binary_accuracy')])\n",
    "    \n",
    "    return model\n",
    "\n",
    "# Create a basic model instance\n",
    "model = create_model()\n",
    "\n",
    "# Display the model's architecture\n",
    "model.summary()\n"
   ]
  },
  {
   "cell_type": "code",
   "execution_count": 85,
   "id": "9375f10d",
   "metadata": {},
   "outputs": [
    {
     "name": "stdout",
     "output_type": "stream",
     "text": [
      "Epoch 1/70\n",
      "INFO:tensorflow:Assets written to: ./check_point/01_sim_tdidfNN_mdl.ckpt/assets\n"
     ]
    },
    {
     "name": "stderr",
     "output_type": "stream",
     "text": [
      "INFO:tensorflow:Assets written to: ./check_point/01_sim_tdidfNN_mdl.ckpt/assets\n"
     ]
    },
    {
     "name": "stdout",
     "output_type": "stream",
     "text": [
      "5328/5328 - 11s - loss: 0.6821 - binary_accuracy: 0.5621 - val_loss: 0.6499 - val_binary_accuracy: 0.6640\n",
      "Epoch 2/70\n",
      "INFO:tensorflow:Assets written to: ./check_point/01_sim_tdidfNN_mdl.ckpt/assets\n"
     ]
    },
    {
     "name": "stderr",
     "output_type": "stream",
     "text": [
      "INFO:tensorflow:Assets written to: ./check_point/01_sim_tdidfNN_mdl.ckpt/assets\n"
     ]
    },
    {
     "name": "stdout",
     "output_type": "stream",
     "text": [
      "5328/5328 - 11s - loss: 0.6775 - binary_accuracy: 0.6104 - val_loss: 0.6909 - val_binary_accuracy: 0.5821\n",
      "Epoch 3/70\n",
      "5328/5328 - 10s - loss: 0.6771 - binary_accuracy: 0.6138 - val_loss: 0.6511 - val_binary_accuracy: 0.6708\n",
      "Epoch 4/70\n",
      "INFO:tensorflow:Assets written to: ./check_point/01_sim_tdidfNN_mdl.ckpt/assets\n"
     ]
    },
    {
     "name": "stderr",
     "output_type": "stream",
     "text": [
      "INFO:tensorflow:Assets written to: ./check_point/01_sim_tdidfNN_mdl.ckpt/assets\n"
     ]
    },
    {
     "name": "stdout",
     "output_type": "stream",
     "text": [
      "5328/5328 - 10s - loss: 0.6769 - binary_accuracy: 0.6165 - val_loss: 0.7179 - val_binary_accuracy: 0.5326\n",
      "Epoch 5/70\n",
      "5328/5328 - 10s - loss: 0.6767 - binary_accuracy: 0.6187 - val_loss: 0.6601 - val_binary_accuracy: 0.6482\n",
      "Epoch 6/70\n",
      "5328/5328 - 11s - loss: 0.6765 - binary_accuracy: 0.6217 - val_loss: 0.6790 - val_binary_accuracy: 0.6202\n",
      "Epoch 7/70\n",
      "5328/5328 - 10s - loss: 0.6764 - binary_accuracy: 0.6205 - val_loss: 0.6722 - val_binary_accuracy: 0.6378\n"
     ]
    }
   ],
   "source": [
    "# Callback define\n",
    "patience = 3; epochs = 70;\n",
    "checkpoint_filepath = './check_point/01_sim_tdidfNN_mdl.ckpt';\n",
    "\n",
    "early_stopping = tf.keras.callbacks.EarlyStopping(monitor='val_loss', patience=patience, mode='max')\n",
    "\n",
    "model_checkpoint_callback = tf.keras.callbacks.ModelCheckpoint(\n",
    "    filepath=checkpoint_filepath,\n",
    "    save_weights_only=False, monitor='val_loss', mode='max', save_best_only=True)\n",
    "\n",
    "# fit the model\n",
    "history = model.fit(X_train.toarray(), y_train, validation_data=(X_test.toarray(), y_test), \\\n",
    "                    epochs=epochs, batch_size=64, verbose=2, \\\n",
    "                    callbacks=[early_stopping, model_checkpoint_callback], class_weight=class_weights)\n"
   ]
  },
  {
   "cell_type": "code",
   "execution_count": 88,
   "id": "25f11c10",
   "metadata": {},
   "outputs": [
    {
     "name": "stdout",
     "output_type": "stream",
     "text": [
      "accuracy_score:  0.53257154426\n",
      "balanced_accuracy_score:  0.570787778678\n",
      "61500 63401 15098 27939\n",
      "(167938, 1)\n"
     ]
    }
   ],
   "source": [
    "\n",
    "# Load model and evaluate on test\n",
    "model = tf.keras.models.load_model('./check_point/01_sim_tdidfNN_mdl.ckpt')\n",
    "pred_test = model.predict(X_test.toarray()) > 0.5;\n",
    "\n",
    "from sklearn.metrics import accuracy_score, confusion_matrix, balanced_accuracy_score\n",
    "print( \"accuracy_score: \", accuracy_score(y_test, pred_test) )\n",
    "print( \"balanced_accuracy_score: \", balanced_accuracy_score(y_test, pred_test) )\n",
    "\n",
    "tn, fp, fn, tp = confusion_matrix(y_test, pred_test).ravel()\n",
    "print(tn, fp, fn, tp)\n",
    "print(pred_test.shape)"
   ]
  },
  {
   "cell_type": "code",
   "execution_count": null,
   "id": "a20a39a3",
   "metadata": {},
   "outputs": [],
   "source": []
  },
  {
   "cell_type": "code",
   "execution_count": null,
   "id": "e54909b2",
   "metadata": {},
   "outputs": [],
   "source": []
  },
  {
   "cell_type": "code",
   "execution_count": null,
   "id": "c77e99e7",
   "metadata": {},
   "outputs": [],
   "source": []
  },
  {
   "cell_type": "code",
   "execution_count": 93,
   "id": "12f3accc",
   "metadata": {},
   "outputs": [
    {
     "name": "stdout",
     "output_type": "stream",
     "text": [
      "Model: \"sequential_22\"\n",
      "_________________________________________________________________\n",
      "Layer (type)                 Output Shape              Param #   \n",
      "=================================================================\n",
      "keras_layer_3 (KerasLayer)   (None, 50)                48190600  \n",
      "_________________________________________________________________\n",
      "dense_63 (Dense)             (None, 10)                510       \n",
      "_________________________________________________________________\n",
      "dense_64 (Dense)             (None, 10)                110       \n",
      "_________________________________________________________________\n",
      "dense_65 (Dense)             (None, 10)                110       \n",
      "_________________________________________________________________\n",
      "dense_66 (Dense)             (None, 1)                 11        \n",
      "=================================================================\n",
      "Total params: 48,191,341\n",
      "Trainable params: 48,191,341\n",
      "Non-trainable params: 0\n",
      "_________________________________________________________________\n"
     ]
    }
   ],
   "source": [
    "# Define a sequential model\n",
    "# Use Token based text embedding trained on English Google News 7B corpus\n",
    "def create_model(): \n",
    "    \n",
    "    embedding = \"https://tfhub.dev/google/nnlm-en-dim50/2\"\n",
    "    hub_layer = hub.KerasLayer(embedding, input_shape=[], \n",
    "                           dtype=tf.string, trainable=True)\n",
    "    model = tf.keras.Sequential()\n",
    "    model.add(hub_layer)\n",
    "    model.add(tf.keras.layers.Dense(10, activation='relu'))\n",
    "    model.add(tf.keras.layers.Dense(10, activation='relu'))\n",
    "    model.add(tf.keras.layers.Dense(10, activation='relu'))\n",
    "    model.add(tf.keras.layers.Dense(1, activation='sigmoid'))\n",
    "    \n",
    "    # compile the model\n",
    "    model.compile(optimizer='adam', loss='binary_crossentropy', metrics=[tf.keras.metrics.BinaryAccuracy(name='binary_accuracy')])\n",
    "    \n",
    "    return model\n",
    "    \n",
    "# Create a basic model instance\n",
    "model = create_model()\n",
    "\n",
    "# Display the model's architecture\n",
    "model.summary()\n"
   ]
  },
  {
   "cell_type": "code",
   "execution_count": 94,
   "id": "a79e60f6",
   "metadata": {},
   "outputs": [
    {
     "name": "stdout",
     "output_type": "stream",
     "text": [
      "Epoch 1/70\n",
      "INFO:tensorflow:Assets written to: ./check_point/02_pre_nnlm-en-dim50_mdl.ckpt/assets\n"
     ]
    },
    {
     "name": "stderr",
     "output_type": "stream",
     "text": [
      "INFO:tensorflow:Assets written to: ./check_point/02_pre_nnlm-en-dim50_mdl.ckpt/assets\n"
     ]
    },
    {
     "name": "stdout",
     "output_type": "stream",
     "text": [
      "5328/5328 - 55s - loss: 0.6714 - binary_accuracy: 0.5814 - val_loss: 0.6775 - val_binary_accuracy: 0.5814\n",
      "Epoch 2/70\n",
      "INFO:tensorflow:Assets written to: ./check_point/02_pre_nnlm-en-dim50_mdl.ckpt/assets\n"
     ]
    },
    {
     "name": "stderr",
     "output_type": "stream",
     "text": [
      "INFO:tensorflow:Assets written to: ./check_point/02_pre_nnlm-en-dim50_mdl.ckpt/assets\n"
     ]
    },
    {
     "name": "stdout",
     "output_type": "stream",
     "text": [
      "5328/5328 - 55s - loss: 0.6598 - binary_accuracy: 0.6068 - val_loss: 0.6882 - val_binary_accuracy: 0.5630\n",
      "Epoch 3/70\n",
      "5328/5328 - 53s - loss: 0.6531 - binary_accuracy: 0.6098 - val_loss: 0.6606 - val_binary_accuracy: 0.6006\n",
      "Epoch 4/70\n",
      "INFO:tensorflow:Assets written to: ./check_point/02_pre_nnlm-en-dim50_mdl.ckpt/assets\n"
     ]
    },
    {
     "name": "stderr",
     "output_type": "stream",
     "text": [
      "INFO:tensorflow:Assets written to: ./check_point/02_pre_nnlm-en-dim50_mdl.ckpt/assets\n"
     ]
    },
    {
     "name": "stdout",
     "output_type": "stream",
     "text": [
      "5328/5328 - 55s - loss: 0.6449 - binary_accuracy: 0.6139 - val_loss: 0.6937 - val_binary_accuracy: 0.5454\n",
      "Epoch 5/70\n",
      "5328/5328 - 54s - loss: 0.6361 - binary_accuracy: 0.6154 - val_loss: 0.6884 - val_binary_accuracy: 0.5571\n",
      "Epoch 6/70\n",
      "WARNING:tensorflow:5 out of the last 5 calls to <function recreate_function.<locals>.restored_function_body at 0x7f35ca50d0e0> triggered tf.function retracing. Tracing is expensive and the excessive number of tracings is likely due to passing python objects instead of tensors. Also, tf.function has experimental_relax_shapes=True option that relaxes argument shapes that can avoid unnecessary retracing. Please refer to https://www.tensorflow.org/tutorials/customization/performance#python_or_tensor_args and https://www.tensorflow.org/api_docs/python/tf/function for more details.\n"
     ]
    },
    {
     "name": "stderr",
     "output_type": "stream",
     "text": [
      "WARNING:tensorflow:5 out of the last 5 calls to <function recreate_function.<locals>.restored_function_body at 0x7f35ca50d0e0> triggered tf.function retracing. Tracing is expensive and the excessive number of tracings is likely due to passing python objects instead of tensors. Also, tf.function has experimental_relax_shapes=True option that relaxes argument shapes that can avoid unnecessary retracing. Please refer to https://www.tensorflow.org/tutorials/customization/performance#python_or_tensor_args and https://www.tensorflow.org/api_docs/python/tf/function for more details.\n"
     ]
    },
    {
     "name": "stdout",
     "output_type": "stream",
     "text": [
      "INFO:tensorflow:Assets written to: ./check_point/02_pre_nnlm-en-dim50_mdl.ckpt/assets\n"
     ]
    },
    {
     "name": "stderr",
     "output_type": "stream",
     "text": [
      "INFO:tensorflow:Assets written to: ./check_point/02_pre_nnlm-en-dim50_mdl.ckpt/assets\n"
     ]
    },
    {
     "name": "stdout",
     "output_type": "stream",
     "text": [
      "5328/5328 - 55s - loss: 0.6276 - binary_accuracy: 0.6207 - val_loss: 0.7045 - val_binary_accuracy: 0.5374\n",
      "Epoch 7/70\n",
      "5328/5328 - 54s - loss: 0.6203 - binary_accuracy: 0.6244 - val_loss: 0.6841 - val_binary_accuracy: 0.5613\n",
      "Epoch 8/70\n",
      "5328/5328 - 54s - loss: 0.6136 - binary_accuracy: 0.6272 - val_loss: 0.6892 - val_binary_accuracy: 0.5569\n",
      "Epoch 9/70\n",
      "WARNING:tensorflow:6 out of the last 6 calls to <function recreate_function.<locals>.restored_function_body at 0x7f35ca50d0e0> triggered tf.function retracing. Tracing is expensive and the excessive number of tracings is likely due to passing python objects instead of tensors. Also, tf.function has experimental_relax_shapes=True option that relaxes argument shapes that can avoid unnecessary retracing. Please refer to https://www.tensorflow.org/tutorials/customization/performance#python_or_tensor_args and https://www.tensorflow.org/api_docs/python/tf/function for more details.\n"
     ]
    },
    {
     "name": "stderr",
     "output_type": "stream",
     "text": [
      "WARNING:tensorflow:6 out of the last 6 calls to <function recreate_function.<locals>.restored_function_body at 0x7f35ca50d0e0> triggered tf.function retracing. Tracing is expensive and the excessive number of tracings is likely due to passing python objects instead of tensors. Also, tf.function has experimental_relax_shapes=True option that relaxes argument shapes that can avoid unnecessary retracing. Please refer to https://www.tensorflow.org/tutorials/customization/performance#python_or_tensor_args and https://www.tensorflow.org/api_docs/python/tf/function for more details.\n"
     ]
    },
    {
     "name": "stdout",
     "output_type": "stream",
     "text": [
      "INFO:tensorflow:Assets written to: ./check_point/02_pre_nnlm-en-dim50_mdl.ckpt/assets\n"
     ]
    },
    {
     "name": "stderr",
     "output_type": "stream",
     "text": [
      "INFO:tensorflow:Assets written to: ./check_point/02_pre_nnlm-en-dim50_mdl.ckpt/assets\n"
     ]
    },
    {
     "name": "stdout",
     "output_type": "stream",
     "text": [
      "5328/5328 - 55s - loss: 0.6075 - binary_accuracy: 0.6277 - val_loss: 0.7074 - val_binary_accuracy: 0.5399\n",
      "Epoch 10/70\n",
      "5328/5328 - 53s - loss: 0.6027 - binary_accuracy: 0.6293 - val_loss: 0.7051 - val_binary_accuracy: 0.5445\n",
      "Epoch 11/70\n",
      "WARNING:tensorflow:7 out of the last 7 calls to <function recreate_function.<locals>.restored_function_body at 0x7f35ca50d0e0> triggered tf.function retracing. Tracing is expensive and the excessive number of tracings is likely due to passing python objects instead of tensors. Also, tf.function has experimental_relax_shapes=True option that relaxes argument shapes that can avoid unnecessary retracing. Please refer to https://www.tensorflow.org/tutorials/customization/performance#python_or_tensor_args and https://www.tensorflow.org/api_docs/python/tf/function for more details.\n"
     ]
    },
    {
     "name": "stderr",
     "output_type": "stream",
     "text": [
      "WARNING:tensorflow:7 out of the last 7 calls to <function recreate_function.<locals>.restored_function_body at 0x7f35ca50d0e0> triggered tf.function retracing. Tracing is expensive and the excessive number of tracings is likely due to passing python objects instead of tensors. Also, tf.function has experimental_relax_shapes=True option that relaxes argument shapes that can avoid unnecessary retracing. Please refer to https://www.tensorflow.org/tutorials/customization/performance#python_or_tensor_args and https://www.tensorflow.org/api_docs/python/tf/function for more details.\n"
     ]
    },
    {
     "name": "stdout",
     "output_type": "stream",
     "text": [
      "INFO:tensorflow:Assets written to: ./check_point/02_pre_nnlm-en-dim50_mdl.ckpt/assets\n"
     ]
    },
    {
     "name": "stderr",
     "output_type": "stream",
     "text": [
      "INFO:tensorflow:Assets written to: ./check_point/02_pre_nnlm-en-dim50_mdl.ckpt/assets\n"
     ]
    },
    {
     "name": "stdout",
     "output_type": "stream",
     "text": [
      "5328/5328 - 55s - loss: 0.5978 - binary_accuracy: 0.6305 - val_loss: 0.7252 - val_binary_accuracy: 0.5291\n",
      "Epoch 12/70\n",
      "5328/5328 - 54s - loss: 0.5941 - binary_accuracy: 0.6329 - val_loss: 0.6903 - val_binary_accuracy: 0.5743\n",
      "Epoch 13/70\n",
      "5328/5328 - 54s - loss: 0.5904 - binary_accuracy: 0.6308 - val_loss: 0.7245 - val_binary_accuracy: 0.5327\n",
      "Epoch 14/70\n",
      "WARNING:tensorflow:8 out of the last 8 calls to <function recreate_function.<locals>.restored_function_body at 0x7f35ca50d0e0> triggered tf.function retracing. Tracing is expensive and the excessive number of tracings is likely due to passing python objects instead of tensors. Also, tf.function has experimental_relax_shapes=True option that relaxes argument shapes that can avoid unnecessary retracing. Please refer to https://www.tensorflow.org/tutorials/customization/performance#python_or_tensor_args and https://www.tensorflow.org/api_docs/python/tf/function for more details.\n"
     ]
    },
    {
     "name": "stderr",
     "output_type": "stream",
     "text": [
      "WARNING:tensorflow:8 out of the last 8 calls to <function recreate_function.<locals>.restored_function_body at 0x7f35ca50d0e0> triggered tf.function retracing. Tracing is expensive and the excessive number of tracings is likely due to passing python objects instead of tensors. Also, tf.function has experimental_relax_shapes=True option that relaxes argument shapes that can avoid unnecessary retracing. Please refer to https://www.tensorflow.org/tutorials/customization/performance#python_or_tensor_args and https://www.tensorflow.org/api_docs/python/tf/function for more details.\n"
     ]
    },
    {
     "name": "stdout",
     "output_type": "stream",
     "text": [
      "INFO:tensorflow:Assets written to: ./check_point/02_pre_nnlm-en-dim50_mdl.ckpt/assets\n"
     ]
    },
    {
     "name": "stderr",
     "output_type": "stream",
     "text": [
      "INFO:tensorflow:Assets written to: ./check_point/02_pre_nnlm-en-dim50_mdl.ckpt/assets\n"
     ]
    },
    {
     "name": "stdout",
     "output_type": "stream",
     "text": [
      "5328/5328 - 56s - loss: 0.5869 - binary_accuracy: 0.6309 - val_loss: 0.7290 - val_binary_accuracy: 0.5371\n",
      "Epoch 15/70\n",
      "5328/5328 - 54s - loss: 0.5841 - binary_accuracy: 0.6322 - val_loss: 0.7255 - val_binary_accuracy: 0.5391\n",
      "Epoch 16/70\n",
      "5328/5328 - 54s - loss: 0.5813 - binary_accuracy: 0.6340 - val_loss: 0.7270 - val_binary_accuracy: 0.5526\n",
      "Epoch 17/70\n",
      "WARNING:tensorflow:9 out of the last 9 calls to <function recreate_function.<locals>.restored_function_body at 0x7f35ca50d0e0> triggered tf.function retracing. Tracing is expensive and the excessive number of tracings is likely due to passing python objects instead of tensors. Also, tf.function has experimental_relax_shapes=True option that relaxes argument shapes that can avoid unnecessary retracing. Please refer to https://www.tensorflow.org/tutorials/customization/performance#python_or_tensor_args and https://www.tensorflow.org/api_docs/python/tf/function for more details.\n"
     ]
    },
    {
     "name": "stderr",
     "output_type": "stream",
     "text": [
      "WARNING:tensorflow:9 out of the last 9 calls to <function recreate_function.<locals>.restored_function_body at 0x7f35ca50d0e0> triggered tf.function retracing. Tracing is expensive and the excessive number of tracings is likely due to passing python objects instead of tensors. Also, tf.function has experimental_relax_shapes=True option that relaxes argument shapes that can avoid unnecessary retracing. Please refer to https://www.tensorflow.org/tutorials/customization/performance#python_or_tensor_args and https://www.tensorflow.org/api_docs/python/tf/function for more details.\n"
     ]
    },
    {
     "name": "stdout",
     "output_type": "stream",
     "text": [
      "INFO:tensorflow:Assets written to: ./check_point/02_pre_nnlm-en-dim50_mdl.ckpt/assets\n"
     ]
    },
    {
     "name": "stderr",
     "output_type": "stream",
     "text": [
      "INFO:tensorflow:Assets written to: ./check_point/02_pre_nnlm-en-dim50_mdl.ckpt/assets\n"
     ]
    },
    {
     "name": "stdout",
     "output_type": "stream",
     "text": [
      "5328/5328 - 55s - loss: 0.5787 - binary_accuracy: 0.6337 - val_loss: 0.7497 - val_binary_accuracy: 0.5506\n",
      "Epoch 18/70\n",
      "5328/5328 - 53s - loss: 0.5771 - binary_accuracy: 0.6336 - val_loss: 0.7453 - val_binary_accuracy: 0.5375\n",
      "Epoch 19/70\n",
      "5328/5328 - 54s - loss: 0.5749 - binary_accuracy: 0.6335 - val_loss: 0.7454 - val_binary_accuracy: 0.5568\n",
      "Epoch 20/70\n",
      "WARNING:tensorflow:10 out of the last 10 calls to <function recreate_function.<locals>.restored_function_body at 0x7f35ca50d0e0> triggered tf.function retracing. Tracing is expensive and the excessive number of tracings is likely due to passing python objects instead of tensors. Also, tf.function has experimental_relax_shapes=True option that relaxes argument shapes that can avoid unnecessary retracing. Please refer to https://www.tensorflow.org/tutorials/customization/performance#python_or_tensor_args and https://www.tensorflow.org/api_docs/python/tf/function for more details.\n"
     ]
    },
    {
     "name": "stderr",
     "output_type": "stream",
     "text": [
      "WARNING:tensorflow:10 out of the last 10 calls to <function recreate_function.<locals>.restored_function_body at 0x7f35ca50d0e0> triggered tf.function retracing. Tracing is expensive and the excessive number of tracings is likely due to passing python objects instead of tensors. Also, tf.function has experimental_relax_shapes=True option that relaxes argument shapes that can avoid unnecessary retracing. Please refer to https://www.tensorflow.org/tutorials/customization/performance#python_or_tensor_args and https://www.tensorflow.org/api_docs/python/tf/function for more details.\n"
     ]
    },
    {
     "name": "stdout",
     "output_type": "stream",
     "text": [
      "INFO:tensorflow:Assets written to: ./check_point/02_pre_nnlm-en-dim50_mdl.ckpt/assets\n"
     ]
    },
    {
     "name": "stderr",
     "output_type": "stream",
     "text": [
      "INFO:tensorflow:Assets written to: ./check_point/02_pre_nnlm-en-dim50_mdl.ckpt/assets\n"
     ]
    },
    {
     "name": "stdout",
     "output_type": "stream",
     "text": [
      "5328/5328 - 55s - loss: 0.5729 - binary_accuracy: 0.6337 - val_loss: 0.7605 - val_binary_accuracy: 0.5468\n",
      "Epoch 21/70\n",
      "WARNING:tensorflow:11 out of the last 11 calls to <function recreate_function.<locals>.restored_function_body at 0x7f35ca50d0e0> triggered tf.function retracing. Tracing is expensive and the excessive number of tracings is likely due to passing python objects instead of tensors. Also, tf.function has experimental_relax_shapes=True option that relaxes argument shapes that can avoid unnecessary retracing. Please refer to https://www.tensorflow.org/tutorials/customization/performance#python_or_tensor_args and https://www.tensorflow.org/api_docs/python/tf/function for more details.\n"
     ]
    },
    {
     "name": "stderr",
     "output_type": "stream",
     "text": [
      "WARNING:tensorflow:11 out of the last 11 calls to <function recreate_function.<locals>.restored_function_body at 0x7f35ca50d0e0> triggered tf.function retracing. Tracing is expensive and the excessive number of tracings is likely due to passing python objects instead of tensors. Also, tf.function has experimental_relax_shapes=True option that relaxes argument shapes that can avoid unnecessary retracing. Please refer to https://www.tensorflow.org/tutorials/customization/performance#python_or_tensor_args and https://www.tensorflow.org/api_docs/python/tf/function for more details.\n"
     ]
    },
    {
     "name": "stdout",
     "output_type": "stream",
     "text": [
      "INFO:tensorflow:Assets written to: ./check_point/02_pre_nnlm-en-dim50_mdl.ckpt/assets\n"
     ]
    },
    {
     "name": "stderr",
     "output_type": "stream",
     "text": [
      "INFO:tensorflow:Assets written to: ./check_point/02_pre_nnlm-en-dim50_mdl.ckpt/assets\n"
     ]
    },
    {
     "name": "stdout",
     "output_type": "stream",
     "text": [
      "5328/5328 - 55s - loss: 0.5713 - binary_accuracy: 0.6338 - val_loss: 0.7699 - val_binary_accuracy: 0.5408\n",
      "Epoch 22/70\n",
      "5328/5328 - 54s - loss: 0.5694 - binary_accuracy: 0.6342 - val_loss: 0.7689 - val_binary_accuracy: 0.5336\n",
      "Epoch 23/70\n",
      "5328/5328 - 54s - loss: 0.5680 - binary_accuracy: 0.6333 - val_loss: 0.7660 - val_binary_accuracy: 0.5525\n",
      "Epoch 24/70\n",
      "WARNING:tensorflow:11 out of the last 11 calls to <function recreate_function.<locals>.restored_function_body at 0x7f35ca50d0e0> triggered tf.function retracing. Tracing is expensive and the excessive number of tracings is likely due to passing python objects instead of tensors. Also, tf.function has experimental_relax_shapes=True option that relaxes argument shapes that can avoid unnecessary retracing. Please refer to https://www.tensorflow.org/tutorials/customization/performance#python_or_tensor_args and https://www.tensorflow.org/api_docs/python/tf/function for more details.\n"
     ]
    },
    {
     "name": "stderr",
     "output_type": "stream",
     "text": [
      "WARNING:tensorflow:11 out of the last 11 calls to <function recreate_function.<locals>.restored_function_body at 0x7f35ca50d0e0> triggered tf.function retracing. Tracing is expensive and the excessive number of tracings is likely due to passing python objects instead of tensors. Also, tf.function has experimental_relax_shapes=True option that relaxes argument shapes that can avoid unnecessary retracing. Please refer to https://www.tensorflow.org/tutorials/customization/performance#python_or_tensor_args and https://www.tensorflow.org/api_docs/python/tf/function for more details.\n"
     ]
    },
    {
     "name": "stdout",
     "output_type": "stream",
     "text": [
      "INFO:tensorflow:Assets written to: ./check_point/02_pre_nnlm-en-dim50_mdl.ckpt/assets\n"
     ]
    },
    {
     "name": "stderr",
     "output_type": "stream",
     "text": [
      "INFO:tensorflow:Assets written to: ./check_point/02_pre_nnlm-en-dim50_mdl.ckpt/assets\n"
     ]
    },
    {
     "name": "stdout",
     "output_type": "stream",
     "text": [
      "5328/5328 - 56s - loss: 0.5663 - binary_accuracy: 0.6344 - val_loss: 0.7733 - val_binary_accuracy: 0.5369\n",
      "Epoch 25/70\n",
      "WARNING:tensorflow:11 out of the last 11 calls to <function recreate_function.<locals>.restored_function_body at 0x7f35ca50d0e0> triggered tf.function retracing. Tracing is expensive and the excessive number of tracings is likely due to passing python objects instead of tensors. Also, tf.function has experimental_relax_shapes=True option that relaxes argument shapes that can avoid unnecessary retracing. Please refer to https://www.tensorflow.org/tutorials/customization/performance#python_or_tensor_args and https://www.tensorflow.org/api_docs/python/tf/function for more details.\n"
     ]
    },
    {
     "name": "stderr",
     "output_type": "stream",
     "text": [
      "WARNING:tensorflow:11 out of the last 11 calls to <function recreate_function.<locals>.restored_function_body at 0x7f35ca50d0e0> triggered tf.function retracing. Tracing is expensive and the excessive number of tracings is likely due to passing python objects instead of tensors. Also, tf.function has experimental_relax_shapes=True option that relaxes argument shapes that can avoid unnecessary retracing. Please refer to https://www.tensorflow.org/tutorials/customization/performance#python_or_tensor_args and https://www.tensorflow.org/api_docs/python/tf/function for more details.\n"
     ]
    },
    {
     "name": "stdout",
     "output_type": "stream",
     "text": [
      "INFO:tensorflow:Assets written to: ./check_point/02_pre_nnlm-en-dim50_mdl.ckpt/assets\n"
     ]
    },
    {
     "name": "stderr",
     "output_type": "stream",
     "text": [
      "INFO:tensorflow:Assets written to: ./check_point/02_pre_nnlm-en-dim50_mdl.ckpt/assets\n"
     ]
    },
    {
     "name": "stdout",
     "output_type": "stream",
     "text": [
      "5328/5328 - 55s - loss: 0.5654 - binary_accuracy: 0.6338 - val_loss: 0.7805 - val_binary_accuracy: 0.5425\n",
      "Epoch 26/70\n",
      "WARNING:tensorflow:11 out of the last 11 calls to <function recreate_function.<locals>.restored_function_body at 0x7f35ca50d0e0> triggered tf.function retracing. Tracing is expensive and the excessive number of tracings is likely due to passing python objects instead of tensors. Also, tf.function has experimental_relax_shapes=True option that relaxes argument shapes that can avoid unnecessary retracing. Please refer to https://www.tensorflow.org/tutorials/customization/performance#python_or_tensor_args and https://www.tensorflow.org/api_docs/python/tf/function for more details.\n"
     ]
    },
    {
     "name": "stderr",
     "output_type": "stream",
     "text": [
      "WARNING:tensorflow:11 out of the last 11 calls to <function recreate_function.<locals>.restored_function_body at 0x7f35ca50d0e0> triggered tf.function retracing. Tracing is expensive and the excessive number of tracings is likely due to passing python objects instead of tensors. Also, tf.function has experimental_relax_shapes=True option that relaxes argument shapes that can avoid unnecessary retracing. Please refer to https://www.tensorflow.org/tutorials/customization/performance#python_or_tensor_args and https://www.tensorflow.org/api_docs/python/tf/function for more details.\n"
     ]
    },
    {
     "name": "stdout",
     "output_type": "stream",
     "text": [
      "INFO:tensorflow:Assets written to: ./check_point/02_pre_nnlm-en-dim50_mdl.ckpt/assets\n"
     ]
    },
    {
     "name": "stderr",
     "output_type": "stream",
     "text": [
      "INFO:tensorflow:Assets written to: ./check_point/02_pre_nnlm-en-dim50_mdl.ckpt/assets\n"
     ]
    },
    {
     "name": "stdout",
     "output_type": "stream",
     "text": [
      "5328/5328 - 55s - loss: 0.5639 - binary_accuracy: 0.6335 - val_loss: 0.7946 - val_binary_accuracy: 0.5477\n",
      "Epoch 27/70\n",
      "WARNING:tensorflow:11 out of the last 11 calls to <function recreate_function.<locals>.restored_function_body at 0x7f35ca50d0e0> triggered tf.function retracing. Tracing is expensive and the excessive number of tracings is likely due to passing python objects instead of tensors. Also, tf.function has experimental_relax_shapes=True option that relaxes argument shapes that can avoid unnecessary retracing. Please refer to https://www.tensorflow.org/tutorials/customization/performance#python_or_tensor_args and https://www.tensorflow.org/api_docs/python/tf/function for more details.\n"
     ]
    },
    {
     "name": "stderr",
     "output_type": "stream",
     "text": [
      "WARNING:tensorflow:11 out of the last 11 calls to <function recreate_function.<locals>.restored_function_body at 0x7f35ca50d0e0> triggered tf.function retracing. Tracing is expensive and the excessive number of tracings is likely due to passing python objects instead of tensors. Also, tf.function has experimental_relax_shapes=True option that relaxes argument shapes that can avoid unnecessary retracing. Please refer to https://www.tensorflow.org/tutorials/customization/performance#python_or_tensor_args and https://www.tensorflow.org/api_docs/python/tf/function for more details.\n"
     ]
    },
    {
     "name": "stdout",
     "output_type": "stream",
     "text": [
      "INFO:tensorflow:Assets written to: ./check_point/02_pre_nnlm-en-dim50_mdl.ckpt/assets\n"
     ]
    },
    {
     "name": "stderr",
     "output_type": "stream",
     "text": [
      "INFO:tensorflow:Assets written to: ./check_point/02_pre_nnlm-en-dim50_mdl.ckpt/assets\n"
     ]
    },
    {
     "name": "stdout",
     "output_type": "stream",
     "text": [
      "5328/5328 - 56s - loss: 0.5626 - binary_accuracy: 0.6329 - val_loss: 0.8023 - val_binary_accuracy: 0.5412\n",
      "Epoch 28/70\n",
      "WARNING:tensorflow:11 out of the last 11 calls to <function recreate_function.<locals>.restored_function_body at 0x7f35ca50d0e0> triggered tf.function retracing. Tracing is expensive and the excessive number of tracings is likely due to passing python objects instead of tensors. Also, tf.function has experimental_relax_shapes=True option that relaxes argument shapes that can avoid unnecessary retracing. Please refer to https://www.tensorflow.org/tutorials/customization/performance#python_or_tensor_args and https://www.tensorflow.org/api_docs/python/tf/function for more details.\n"
     ]
    },
    {
     "name": "stderr",
     "output_type": "stream",
     "text": [
      "WARNING:tensorflow:11 out of the last 11 calls to <function recreate_function.<locals>.restored_function_body at 0x7f35ca50d0e0> triggered tf.function retracing. Tracing is expensive and the excessive number of tracings is likely due to passing python objects instead of tensors. Also, tf.function has experimental_relax_shapes=True option that relaxes argument shapes that can avoid unnecessary retracing. Please refer to https://www.tensorflow.org/tutorials/customization/performance#python_or_tensor_args and https://www.tensorflow.org/api_docs/python/tf/function for more details.\n"
     ]
    },
    {
     "name": "stdout",
     "output_type": "stream",
     "text": [
      "INFO:tensorflow:Assets written to: ./check_point/02_pre_nnlm-en-dim50_mdl.ckpt/assets\n"
     ]
    },
    {
     "name": "stderr",
     "output_type": "stream",
     "text": [
      "INFO:tensorflow:Assets written to: ./check_point/02_pre_nnlm-en-dim50_mdl.ckpt/assets\n"
     ]
    },
    {
     "name": "stdout",
     "output_type": "stream",
     "text": [
      "5328/5328 - 56s - loss: 0.5617 - binary_accuracy: 0.6342 - val_loss: 0.8134 - val_binary_accuracy: 0.5472\n",
      "Epoch 29/70\n",
      "WARNING:tensorflow:11 out of the last 11 calls to <function recreate_function.<locals>.restored_function_body at 0x7f35ca50d0e0> triggered tf.function retracing. Tracing is expensive and the excessive number of tracings is likely due to passing python objects instead of tensors. Also, tf.function has experimental_relax_shapes=True option that relaxes argument shapes that can avoid unnecessary retracing. Please refer to https://www.tensorflow.org/tutorials/customization/performance#python_or_tensor_args and https://www.tensorflow.org/api_docs/python/tf/function for more details.\n"
     ]
    },
    {
     "name": "stderr",
     "output_type": "stream",
     "text": [
      "WARNING:tensorflow:11 out of the last 11 calls to <function recreate_function.<locals>.restored_function_body at 0x7f35ca50d0e0> triggered tf.function retracing. Tracing is expensive and the excessive number of tracings is likely due to passing python objects instead of tensors. Also, tf.function has experimental_relax_shapes=True option that relaxes argument shapes that can avoid unnecessary retracing. Please refer to https://www.tensorflow.org/tutorials/customization/performance#python_or_tensor_args and https://www.tensorflow.org/api_docs/python/tf/function for more details.\n"
     ]
    },
    {
     "name": "stdout",
     "output_type": "stream",
     "text": [
      "INFO:tensorflow:Assets written to: ./check_point/02_pre_nnlm-en-dim50_mdl.ckpt/assets\n"
     ]
    },
    {
     "name": "stderr",
     "output_type": "stream",
     "text": [
      "INFO:tensorflow:Assets written to: ./check_point/02_pre_nnlm-en-dim50_mdl.ckpt/assets\n"
     ]
    },
    {
     "name": "stdout",
     "output_type": "stream",
     "text": [
      "5328/5328 - 56s - loss: 0.5599 - binary_accuracy: 0.6345 - val_loss: 0.8211 - val_binary_accuracy: 0.5235\n",
      "Epoch 30/70\n",
      "WARNING:tensorflow:11 out of the last 11 calls to <function recreate_function.<locals>.restored_function_body at 0x7f35ca50d0e0> triggered tf.function retracing. Tracing is expensive and the excessive number of tracings is likely due to passing python objects instead of tensors. Also, tf.function has experimental_relax_shapes=True option that relaxes argument shapes that can avoid unnecessary retracing. Please refer to https://www.tensorflow.org/tutorials/customization/performance#python_or_tensor_args and https://www.tensorflow.org/api_docs/python/tf/function for more details.\n"
     ]
    },
    {
     "name": "stderr",
     "output_type": "stream",
     "text": [
      "WARNING:tensorflow:11 out of the last 11 calls to <function recreate_function.<locals>.restored_function_body at 0x7f35ca50d0e0> triggered tf.function retracing. Tracing is expensive and the excessive number of tracings is likely due to passing python objects instead of tensors. Also, tf.function has experimental_relax_shapes=True option that relaxes argument shapes that can avoid unnecessary retracing. Please refer to https://www.tensorflow.org/tutorials/customization/performance#python_or_tensor_args and https://www.tensorflow.org/api_docs/python/tf/function for more details.\n"
     ]
    },
    {
     "name": "stdout",
     "output_type": "stream",
     "text": [
      "INFO:tensorflow:Assets written to: ./check_point/02_pre_nnlm-en-dim50_mdl.ckpt/assets\n"
     ]
    },
    {
     "name": "stderr",
     "output_type": "stream",
     "text": [
      "INFO:tensorflow:Assets written to: ./check_point/02_pre_nnlm-en-dim50_mdl.ckpt/assets\n"
     ]
    },
    {
     "name": "stdout",
     "output_type": "stream",
     "text": [
      "5328/5328 - 55s - loss: 0.5600 - binary_accuracy: 0.6339 - val_loss: 0.8302 - val_binary_accuracy: 0.5409\n",
      "Epoch 31/70\n",
      "WARNING:tensorflow:11 out of the last 11 calls to <function recreate_function.<locals>.restored_function_body at 0x7f35ca50d0e0> triggered tf.function retracing. Tracing is expensive and the excessive number of tracings is likely due to passing python objects instead of tensors. Also, tf.function has experimental_relax_shapes=True option that relaxes argument shapes that can avoid unnecessary retracing. Please refer to https://www.tensorflow.org/tutorials/customization/performance#python_or_tensor_args and https://www.tensorflow.org/api_docs/python/tf/function for more details.\n"
     ]
    },
    {
     "name": "stderr",
     "output_type": "stream",
     "text": [
      "WARNING:tensorflow:11 out of the last 11 calls to <function recreate_function.<locals>.restored_function_body at 0x7f35ca50d0e0> triggered tf.function retracing. Tracing is expensive and the excessive number of tracings is likely due to passing python objects instead of tensors. Also, tf.function has experimental_relax_shapes=True option that relaxes argument shapes that can avoid unnecessary retracing. Please refer to https://www.tensorflow.org/tutorials/customization/performance#python_or_tensor_args and https://www.tensorflow.org/api_docs/python/tf/function for more details.\n"
     ]
    },
    {
     "name": "stdout",
     "output_type": "stream",
     "text": [
      "INFO:tensorflow:Assets written to: ./check_point/02_pre_nnlm-en-dim50_mdl.ckpt/assets\n"
     ]
    },
    {
     "name": "stderr",
     "output_type": "stream",
     "text": [
      "INFO:tensorflow:Assets written to: ./check_point/02_pre_nnlm-en-dim50_mdl.ckpt/assets\n"
     ]
    },
    {
     "name": "stdout",
     "output_type": "stream",
     "text": [
      "5328/5328 - 56s - loss: 0.5590 - binary_accuracy: 0.6342 - val_loss: 0.8318 - val_binary_accuracy: 0.5233\n",
      "Epoch 32/70\n",
      "5328/5328 - 54s - loss: 0.5578 - binary_accuracy: 0.6350 - val_loss: 0.8295 - val_binary_accuracy: 0.5329\n",
      "Epoch 33/70\n",
      "WARNING:tensorflow:11 out of the last 11 calls to <function recreate_function.<locals>.restored_function_body at 0x7f35ca50d0e0> triggered tf.function retracing. Tracing is expensive and the excessive number of tracings is likely due to passing python objects instead of tensors. Also, tf.function has experimental_relax_shapes=True option that relaxes argument shapes that can avoid unnecessary retracing. Please refer to https://www.tensorflow.org/tutorials/customization/performance#python_or_tensor_args and https://www.tensorflow.org/api_docs/python/tf/function for more details.\n"
     ]
    },
    {
     "name": "stderr",
     "output_type": "stream",
     "text": [
      "WARNING:tensorflow:11 out of the last 11 calls to <function recreate_function.<locals>.restored_function_body at 0x7f35ca50d0e0> triggered tf.function retracing. Tracing is expensive and the excessive number of tracings is likely due to passing python objects instead of tensors. Also, tf.function has experimental_relax_shapes=True option that relaxes argument shapes that can avoid unnecessary retracing. Please refer to https://www.tensorflow.org/tutorials/customization/performance#python_or_tensor_args and https://www.tensorflow.org/api_docs/python/tf/function for more details.\n"
     ]
    },
    {
     "name": "stdout",
     "output_type": "stream",
     "text": [
      "INFO:tensorflow:Assets written to: ./check_point/02_pre_nnlm-en-dim50_mdl.ckpt/assets\n"
     ]
    },
    {
     "name": "stderr",
     "output_type": "stream",
     "text": [
      "INFO:tensorflow:Assets written to: ./check_point/02_pre_nnlm-en-dim50_mdl.ckpt/assets\n"
     ]
    },
    {
     "name": "stdout",
     "output_type": "stream",
     "text": [
      "5328/5328 - 55s - loss: 0.5572 - binary_accuracy: 0.6350 - val_loss: 0.8348 - val_binary_accuracy: 0.5310\n",
      "Epoch 34/70\n",
      "5328/5328 - 54s - loss: 0.5561 - binary_accuracy: 0.6342 - val_loss: 0.8298 - val_binary_accuracy: 0.5277\n",
      "Epoch 35/70\n",
      "WARNING:tensorflow:11 out of the last 11 calls to <function recreate_function.<locals>.restored_function_body at 0x7f35ca50d0e0> triggered tf.function retracing. Tracing is expensive and the excessive number of tracings is likely due to passing python objects instead of tensors. Also, tf.function has experimental_relax_shapes=True option that relaxes argument shapes that can avoid unnecessary retracing. Please refer to https://www.tensorflow.org/tutorials/customization/performance#python_or_tensor_args and https://www.tensorflow.org/api_docs/python/tf/function for more details.\n"
     ]
    },
    {
     "name": "stderr",
     "output_type": "stream",
     "text": [
      "WARNING:tensorflow:11 out of the last 11 calls to <function recreate_function.<locals>.restored_function_body at 0x7f35ca50d0e0> triggered tf.function retracing. Tracing is expensive and the excessive number of tracings is likely due to passing python objects instead of tensors. Also, tf.function has experimental_relax_shapes=True option that relaxes argument shapes that can avoid unnecessary retracing. Please refer to https://www.tensorflow.org/tutorials/customization/performance#python_or_tensor_args and https://www.tensorflow.org/api_docs/python/tf/function for more details.\n"
     ]
    },
    {
     "name": "stdout",
     "output_type": "stream",
     "text": [
      "INFO:tensorflow:Assets written to: ./check_point/02_pre_nnlm-en-dim50_mdl.ckpt/assets\n"
     ]
    },
    {
     "name": "stderr",
     "output_type": "stream",
     "text": [
      "INFO:tensorflow:Assets written to: ./check_point/02_pre_nnlm-en-dim50_mdl.ckpt/assets\n"
     ]
    },
    {
     "name": "stdout",
     "output_type": "stream",
     "text": [
      "5328/5328 - 56s - loss: 0.5548 - binary_accuracy: 0.6363 - val_loss: 0.8376 - val_binary_accuracy: 0.5391\n",
      "Epoch 36/70\n",
      "WARNING:tensorflow:11 out of the last 11 calls to <function recreate_function.<locals>.restored_function_body at 0x7f35ca50d0e0> triggered tf.function retracing. Tracing is expensive and the excessive number of tracings is likely due to passing python objects instead of tensors. Also, tf.function has experimental_relax_shapes=True option that relaxes argument shapes that can avoid unnecessary retracing. Please refer to https://www.tensorflow.org/tutorials/customization/performance#python_or_tensor_args and https://www.tensorflow.org/api_docs/python/tf/function for more details.\n"
     ]
    },
    {
     "name": "stderr",
     "output_type": "stream",
     "text": [
      "WARNING:tensorflow:11 out of the last 11 calls to <function recreate_function.<locals>.restored_function_body at 0x7f35ca50d0e0> triggered tf.function retracing. Tracing is expensive and the excessive number of tracings is likely due to passing python objects instead of tensors. Also, tf.function has experimental_relax_shapes=True option that relaxes argument shapes that can avoid unnecessary retracing. Please refer to https://www.tensorflow.org/tutorials/customization/performance#python_or_tensor_args and https://www.tensorflow.org/api_docs/python/tf/function for more details.\n"
     ]
    },
    {
     "name": "stdout",
     "output_type": "stream",
     "text": [
      "INFO:tensorflow:Assets written to: ./check_point/02_pre_nnlm-en-dim50_mdl.ckpt/assets\n"
     ]
    },
    {
     "name": "stderr",
     "output_type": "stream",
     "text": [
      "INFO:tensorflow:Assets written to: ./check_point/02_pre_nnlm-en-dim50_mdl.ckpt/assets\n"
     ]
    },
    {
     "name": "stdout",
     "output_type": "stream",
     "text": [
      "5328/5328 - 55s - loss: 0.5543 - binary_accuracy: 0.6366 - val_loss: 0.8393 - val_binary_accuracy: 0.5354\n",
      "Epoch 37/70\n",
      "WARNING:tensorflow:11 out of the last 11 calls to <function recreate_function.<locals>.restored_function_body at 0x7f35ca50d0e0> triggered tf.function retracing. Tracing is expensive and the excessive number of tracings is likely due to passing python objects instead of tensors. Also, tf.function has experimental_relax_shapes=True option that relaxes argument shapes that can avoid unnecessary retracing. Please refer to https://www.tensorflow.org/tutorials/customization/performance#python_or_tensor_args and https://www.tensorflow.org/api_docs/python/tf/function for more details.\n"
     ]
    },
    {
     "name": "stderr",
     "output_type": "stream",
     "text": [
      "WARNING:tensorflow:11 out of the last 11 calls to <function recreate_function.<locals>.restored_function_body at 0x7f35ca50d0e0> triggered tf.function retracing. Tracing is expensive and the excessive number of tracings is likely due to passing python objects instead of tensors. Also, tf.function has experimental_relax_shapes=True option that relaxes argument shapes that can avoid unnecessary retracing. Please refer to https://www.tensorflow.org/tutorials/customization/performance#python_or_tensor_args and https://www.tensorflow.org/api_docs/python/tf/function for more details.\n"
     ]
    },
    {
     "name": "stdout",
     "output_type": "stream",
     "text": [
      "INFO:tensorflow:Assets written to: ./check_point/02_pre_nnlm-en-dim50_mdl.ckpt/assets\n"
     ]
    },
    {
     "name": "stderr",
     "output_type": "stream",
     "text": [
      "INFO:tensorflow:Assets written to: ./check_point/02_pre_nnlm-en-dim50_mdl.ckpt/assets\n"
     ]
    },
    {
     "name": "stdout",
     "output_type": "stream",
     "text": [
      "5328/5328 - 55s - loss: 0.5538 - binary_accuracy: 0.6372 - val_loss: 0.8586 - val_binary_accuracy: 0.5237\n",
      "Epoch 38/70\n",
      "5328/5328 - 53s - loss: 0.5531 - binary_accuracy: 0.6366 - val_loss: 0.8521 - val_binary_accuracy: 0.5171\n",
      "Epoch 39/70\n",
      "5328/5328 - 54s - loss: 0.5527 - binary_accuracy: 0.6362 - val_loss: 0.8445 - val_binary_accuracy: 0.5150\n",
      "Epoch 40/70\n",
      "5328/5328 - 54s - loss: 0.5509 - binary_accuracy: 0.6369 - val_loss: 0.8484 - val_binary_accuracy: 0.5216\n"
     ]
    }
   ],
   "source": [
    "# Train and Test seprate\n",
    "X_train, X_test, y_train, y_test = train_test_split(df['title_clean'], y_true, test_size=0.33, random_state=42)\n",
    "\n",
    "# Callback define\n",
    "patience = 3; epochs = 70;\n",
    "checkpoint_filepath = './check_point/02_pre_nnlm-en-dim50_mdl.ckpt';\n",
    "\n",
    "early_stopping = tf.keras.callbacks.EarlyStopping(monitor='val_loss', patience=patience, mode='max')\n",
    "\n",
    "model_checkpoint_callback = tf.keras.callbacks.ModelCheckpoint(\n",
    "    filepath=checkpoint_filepath,\n",
    "    save_weights_only=False, monitor='val_loss', mode='max', save_best_only=True)\n",
    "\n",
    "\n",
    "# fit the model\n",
    "history = model.fit(x=X_train, y=y_train, validation_data=(X_test, y_test), \\\n",
    "                    epochs=epochs, batch_size=64, verbose=2, \\\n",
    "                    callbacks=[early_stopping, model_checkpoint_callback], class_weight=class_weights)\n"
   ]
  },
  {
   "cell_type": "code",
   "execution_count": 97,
   "id": "830aac05",
   "metadata": {},
   "outputs": [
    {
     "name": "stdout",
     "output_type": "stream",
     "text": [
      "accuracy_score:  0.523687313175\n",
      "balanced_accuracy_score:  0.555273779482\n",
      "61261 63640 16351 26686\n",
      "(167938, 1)\n"
     ]
    }
   ],
   "source": [
    "# Load model and evaluate on test\n",
    "model = tf.keras.models.load_model('./check_point/02_pre_nnlm-en-dim50_mdl.ckpt')\n",
    "pred_test = model.predict(X_test) > 0.5;\n",
    "\n",
    "from sklearn.metrics import accuracy_score, confusion_matrix, balanced_accuracy_score\n",
    "print( \"accuracy_score: \", accuracy_score(y_test, pred_test) )\n",
    "print( \"balanced_accuracy_score: \", balanced_accuracy_score(y_test, pred_test) )\n",
    "\n",
    "tn, fp, fn, tp = confusion_matrix(y_test, pred_test).ravel()\n",
    "print(tn, fp, fn, tp)\n",
    "print(pred_test.shape)"
   ]
  },
  {
   "cell_type": "code",
   "execution_count": null,
   "id": "14c4f6e9",
   "metadata": {},
   "outputs": [],
   "source": []
  },
  {
   "cell_type": "code",
   "execution_count": null,
   "id": "7c3e64dd",
   "metadata": {},
   "outputs": [],
   "source": []
  },
  {
   "cell_type": "code",
   "execution_count": 111,
   "id": "56f4dc65",
   "metadata": {},
   "outputs": [
    {
     "name": "stdout",
     "output_type": "stream",
     "text": [
      "Model: \"sequential_29\"\n",
      "_________________________________________________________________\n",
      "Layer (type)                 Output Shape              Param #   \n",
      "=================================================================\n",
      "dense_70 (Dense)             (None, 10)                510       \n",
      "_________________________________________________________________\n",
      "dense_71 (Dense)             (None, 2)                 22        \n",
      "_________________________________________________________________\n",
      "dense_72 (Dense)             (None, 1)                 3         \n",
      "=================================================================\n",
      "Total params: 535\n",
      "Trainable params: 535\n",
      "Non-trainable params: 0\n",
      "_________________________________________________________________\n"
     ]
    }
   ],
   "source": [
    "# Define a sequential model\n",
    "# Use Token based text embedding trained on English Google News 7B corpus\n",
    "# Use pretrain embedding\n",
    "\n",
    "embed = hub.load(\"https://tfhub.dev/google/nnlm-en-dim50/2\")\n",
    "X_train = embed(df['title_clean'].values).numpy()\n",
    "\n",
    "# Train and Test seprate\n",
    "X_train, X_test, y_train, y_test = train_test_split(X_train, y_true, test_size=0.33, random_state=42)\n",
    "\n",
    "# Define a simple sequential model\n",
    "def create_model():\n",
    "    model = Sequential()\n",
    "    model.add(Dense(10, activation='relu', kernel_initializer='he_normal', input_shape=(X_train.shape[1],)))\n",
    "    model.add(Dense( 2, activation= 'relu', kernel_initializer='he_normal'))\n",
    "    model.add(Dense( 1, activation='sigmoid'))\n",
    "\n",
    "    # compile the model\n",
    "    model.compile(optimizer='adam', loss='binary_crossentropy', metrics=[tf.keras.metrics.BinaryAccuracy(name='binary_accuracy')])\n",
    "    \n",
    "    return model\n",
    "\n",
    "# Create a basic model instance\n",
    "model = create_model()\n",
    "\n",
    "# Display the model's architecture\n",
    "model.summary()\n",
    "\n"
   ]
  },
  {
   "cell_type": "code",
   "execution_count": 112,
   "id": "de9e33a3",
   "metadata": {},
   "outputs": [
    {
     "name": "stdout",
     "output_type": "stream",
     "text": [
      "Epoch 1/70\n",
      "INFO:tensorflow:Assets written to: ./check_point/03_preEmbed_nnlm-en-dim50_mdl.ckpt/assets\n"
     ]
    },
    {
     "name": "stderr",
     "output_type": "stream",
     "text": [
      "INFO:tensorflow:Assets written to: ./check_point/03_preEmbed_nnlm-en-dim50_mdl.ckpt/assets\n"
     ]
    },
    {
     "name": "stdout",
     "output_type": "stream",
     "text": [
      "5328/5328 - 10s - loss: 0.6843 - binary_accuracy: 0.5673 - val_loss: 0.6699 - val_binary_accuracy: 0.6410\n",
      "Epoch 2/70\n",
      "INFO:tensorflow:Assets written to: ./check_point/03_preEmbed_nnlm-en-dim50_mdl.ckpt/assets\n"
     ]
    },
    {
     "name": "stderr",
     "output_type": "stream",
     "text": [
      "INFO:tensorflow:Assets written to: ./check_point/03_preEmbed_nnlm-en-dim50_mdl.ckpt/assets\n"
     ]
    },
    {
     "name": "stdout",
     "output_type": "stream",
     "text": [
      "5328/5328 - 10s - loss: 0.6823 - binary_accuracy: 0.6026 - val_loss: 0.6783 - val_binary_accuracy: 0.6170\n",
      "Epoch 3/70\n",
      "INFO:tensorflow:Assets written to: ./check_point/03_preEmbed_nnlm-en-dim50_mdl.ckpt/assets\n"
     ]
    },
    {
     "name": "stderr",
     "output_type": "stream",
     "text": [
      "INFO:tensorflow:Assets written to: ./check_point/03_preEmbed_nnlm-en-dim50_mdl.ckpt/assets\n"
     ]
    },
    {
     "name": "stdout",
     "output_type": "stream",
     "text": [
      "5328/5328 - 10s - loss: 0.6820 - binary_accuracy: 0.6045 - val_loss: 0.6934 - val_binary_accuracy: 0.5721\n",
      "Epoch 4/70\n",
      "5328/5328 - 10s - loss: 0.6818 - binary_accuracy: 0.6034 - val_loss: 0.6821 - val_binary_accuracy: 0.6046\n",
      "Epoch 5/70\n",
      "5328/5328 - 10s - loss: 0.6817 - binary_accuracy: 0.6047 - val_loss: 0.6757 - val_binary_accuracy: 0.6218\n",
      "Epoch 6/70\n",
      "5328/5328 - 10s - loss: 0.6815 - binary_accuracy: 0.6022 - val_loss: 0.6851 - val_binary_accuracy: 0.5918\n"
     ]
    }
   ],
   "source": [
    "\n",
    "# Callback define\n",
    "patience = 3; epochs = 70;\n",
    "checkpoint_filepath = './check_point/03_preEmbed_nnlm-en-dim50_mdl.ckpt';\n",
    "\n",
    "early_stopping = tf.keras.callbacks.EarlyStopping(monitor='val_loss', patience=patience, mode='max')\n",
    "\n",
    "model_checkpoint_callback = tf.keras.callbacks.ModelCheckpoint(\n",
    "    filepath=checkpoint_filepath,\n",
    "    save_weights_only=False, monitor='val_loss', mode='max', save_best_only=True)\n",
    "\n",
    "\n",
    "# fit the model\n",
    "history = model.fit(x=X_train, y=y_train, validation_data=(X_test, y_test), \\\n",
    "                    epochs=epochs, batch_size=64, verbose=2, \\\n",
    "                    callbacks=[early_stopping, model_checkpoint_callback], class_weight=class_weights)\n"
   ]
  },
  {
   "cell_type": "code",
   "execution_count": 113,
   "id": "93d9494b",
   "metadata": {},
   "outputs": [
    {
     "name": "stdout",
     "output_type": "stream",
     "text": [
      "accuracy_score:  0.572092081602\n",
      "balanced_accuracy_score:  0.560729923598\n",
      "72947 51954 19908 23129\n",
      "(167938, 1)\n"
     ]
    }
   ],
   "source": [
    "# Load model and evaluate on test\n",
    "model = tf.keras.models.load_model('./check_point/03_preEmbed_nnlm-en-dim50_mdl.ckpt')\n",
    "pred_test = model.predict(X_test) > 0.5;\n",
    "\n",
    "from sklearn.metrics import accuracy_score, confusion_matrix, balanced_accuracy_score\n",
    "print( \"accuracy_score: \", accuracy_score(y_test, pred_test) )\n",
    "print( \"balanced_accuracy_score: \", balanced_accuracy_score(y_test, pred_test) )\n",
    "\n",
    "tn, fp, fn, tp = confusion_matrix(y_test, pred_test).ravel()\n",
    "print(tn, fp, fn, tp)\n",
    "print(pred_test.shape)"
   ]
  },
  {
   "cell_type": "code",
   "execution_count": null,
   "id": "2ef98117",
   "metadata": {},
   "outputs": [],
   "source": []
  },
  {
   "cell_type": "code",
   "execution_count": null,
   "id": "bcfb9383",
   "metadata": {},
   "outputs": [],
   "source": []
  },
  {
   "cell_type": "code",
   "execution_count": null,
   "id": "ead7a446",
   "metadata": {},
   "outputs": [],
   "source": []
  },
  {
   "cell_type": "code",
   "execution_count": null,
   "id": "bd64b0f3",
   "metadata": {},
   "outputs": [],
   "source": []
  },
  {
   "cell_type": "code",
   "execution_count": null,
   "id": "068863cf",
   "metadata": {},
   "outputs": [],
   "source": []
  },
  {
   "cell_type": "code",
   "execution_count": null,
   "id": "a127fc1f",
   "metadata": {},
   "outputs": [],
   "source": []
  },
  {
   "cell_type": "code",
   "execution_count": null,
   "id": "05e36685",
   "metadata": {},
   "outputs": [],
   "source": []
  },
  {
   "cell_type": "code",
   "execution_count": 56,
   "id": "492da904",
   "metadata": {},
   "outputs": [],
   "source": [
    "X_train, X_test, y_train, y_test = train_test_split(df['title_clean'], y_true, test_size=0.33, random_state=42)"
   ]
  },
  {
   "cell_type": "code",
   "execution_count": 57,
   "id": "498cf156",
   "metadata": {},
   "outputs": [],
   "source": [
    "model.compile(optimizer='adam',\n",
    "              loss=tf.keras.losses.BinaryCrossentropy(from_logits=True),\n",
    "              metrics=['accuracy'])"
   ]
  },
  {
   "cell_type": "code",
   "execution_count": 1,
   "id": "e56e1871",
   "metadata": {
    "scrolled": true
   },
   "outputs": [
    {
     "data": {
      "text/plain": [
       "'\\nhistory = model.fit(x=X_train, y=y_train,\\n                    epochs=150, batch_size=32, verbose=2, class_weight=class_weights,\\n                    validation_data=(X_test, y_test))\\n'"
      ]
     },
     "execution_count": 1,
     "metadata": {},
     "output_type": "execute_result"
    }
   ],
   "source": [
    "\n",
    "history = model.fit(x=X_train, y=y_train,\n",
    "                    epochs=150, batch_size=32, verbose=2, class_weight=class_weights,\n",
    "                    validation_data=(X_test, y_test))\n"
   ]
  },
  {
   "cell_type": "code",
   "execution_count": 94,
   "id": "0a3c909a",
   "metadata": {},
   "outputs": [
    {
     "data": {
      "text/plain": [
       "0.01530321910933341"
      ]
     },
     "execution_count": 94,
     "metadata": {},
     "output_type": "execute_result"
    }
   ],
   "source": [
    "reg.score(X_tfidf, df['up_votes'])"
   ]
  },
  {
   "cell_type": "code",
   "execution_count": 108,
   "id": "38d6d5c5",
   "metadata": {},
   "outputs": [
    {
     "data": {
      "text/plain": [
       "112.23628642679246"
      ]
     },
     "execution_count": 108,
     "metadata": {},
     "output_type": "execute_result"
    }
   ],
   "source": [
    "reg.predict(X_tfidf).mean()\n"
   ]
  },
  {
   "cell_type": "code",
   "execution_count": 111,
   "id": "68983a27",
   "metadata": {},
   "outputs": [
    {
     "data": {
      "text/plain": [
       "5138.749231150503"
      ]
     },
     "metadata": {},
     "output_type": "display_data"
    },
    {
     "data": {
      "text/plain": [
       "112.23628337352426"
      ]
     },
     "metadata": {},
     "output_type": "display_data"
    }
   ],
   "source": [
    "display(X_tfidf.sum(0).mean() )\n",
    "display(df['up_votes'].mean() )"
   ]
  },
  {
   "cell_type": "code",
   "execution_count": 112,
   "id": "783aaa1e",
   "metadata": {},
   "outputs": [],
   "source": [
    "from sklearn.neural_network import MLPRegressor"
   ]
  },
  {
   "cell_type": "code",
   "execution_count": 113,
   "id": "ca259929",
   "metadata": {},
   "outputs": [],
   "source": [
    "#regr = MLPRegressor(random_state=1, max_iter=500).fit(X_tfidf, df['up_votes'].values)"
   ]
  },
  {
   "cell_type": "code",
   "execution_count": 124,
   "id": "01bea477",
   "metadata": {},
   "outputs": [
    {
     "name": "stdout",
     "output_type": "stream",
     "text": [
      "47902\n",
      "(509236, 9)\n"
     ]
    }
   ],
   "source": [
    "print((df['up_votes'].values > df['up_votes'].values.mean()).sum())\n",
    "print(df.shape)"
   ]
  },
  {
   "cell_type": "code",
   "execution_count": 127,
   "id": "4be149c5",
   "metadata": {},
   "outputs": [],
   "source": [
    "y_true = (df['up_votes'].values>np.quantile( df['up_votes'].values, 0.50))"
   ]
  },
  {
   "cell_type": "code",
   "execution_count": 128,
   "id": "208673bd",
   "metadata": {},
   "outputs": [],
   "source": [
    "from sklearn.linear_model import LogisticRegression\n",
    "clf = LogisticRegression(random_state=0).fit(X_tfidf, y_true )"
   ]
  },
  {
   "cell_type": "code",
   "execution_count": 129,
   "id": "e37e31ae",
   "metadata": {},
   "outputs": [],
   "source": [
    "y_pred = clf.predict(X_tfidf)"
   ]
  },
  {
   "cell_type": "code",
   "execution_count": 130,
   "id": "f49ab569",
   "metadata": {},
   "outputs": [],
   "source": [
    "from sklearn.metrics import classification_report"
   ]
  },
  {
   "cell_type": "code",
   "execution_count": 131,
   "id": "729f1224",
   "metadata": {},
   "outputs": [
    {
     "name": "stdout",
     "output_type": "stream",
     "text": [
      "              precision    recall  f1-score   support\n",
      "\n",
      "       False       0.59      0.75      0.66    275854\n",
      "        True       0.57      0.38      0.46    233382\n",
      "\n",
      "    accuracy                           0.58    509236\n",
      "   macro avg       0.58      0.57      0.56    509236\n",
      "weighted avg       0.58      0.58      0.57    509236\n",
      "\n"
     ]
    }
   ],
   "source": [
    "print(classification_report(y_true, y_pred))"
   ]
  },
  {
   "cell_type": "code",
   "execution_count": null,
   "id": "c70695c3",
   "metadata": {},
   "outputs": [],
   "source": [
    "'''\n",
    "# Customize my own metrics\n",
    "\n",
    "class BalancedAccuracy(Metric):\n",
    "    def __init__(self, name=\"balanced_accuracy\", **kwargs):\n",
    "        super(BalancedAccuracy, self).__init__(name=name, **kwargs)\n",
    "        self.balanced_accuracy = self.add_weight(name=\"ctp\", initializer=\"zeros\")\n",
    "\n",
    "    def update_state(self, y_true, y_pred, sample_weight=None):\n",
    "        y_pred = y_pred.nupmy()\n",
    "        y_true = y_true.nupmy()\n",
    "\n",
    "        value = balanced_accuracy_score(y_true, y_pred, sample_weight)\n",
    "        #values = tf.multiply(values, sample_weight)\n",
    "        self.balanced_accuracy.assign_add((value))\n",
    "\n",
    "    def result(self):\n",
    "        return self.balanced_accuracy\n",
    "\n",
    "    def reset_states(self):\n",
    "        # The state of the metric will be reset at the start of each epoch.\n",
    "        self.balanced_accuracy.assign(0.0)\n",
    "'''"
   ]
  }
 ],
 "metadata": {
  "kernelspec": {
   "display_name": "Python (NetHawkes)",
   "language": "python",
   "name": "nethawkes"
  },
  "language_info": {
   "codemirror_mode": {
    "name": "ipython",
    "version": 3
   },
   "file_extension": ".py",
   "mimetype": "text/x-python",
   "name": "python",
   "nbconvert_exporter": "python",
   "pygments_lexer": "ipython3",
   "version": "3.7.7"
  }
 },
 "nbformat": 4,
 "nbformat_minor": 5
}
